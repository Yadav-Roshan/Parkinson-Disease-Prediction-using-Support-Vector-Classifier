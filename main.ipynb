{
 "cells": [
  {
   "cell_type": "code",
   "execution_count": 174,
   "metadata": {
    "pycharm": {
     "is_executing": true
    }
   },
   "outputs": [],
   "source": [
    "import numpy as np\n",
    "import pandas as pd\n",
    "import seaborn as sns\n",
    "import matplotlib.pyplot as plt\n",
    "from sklearn.preprocessing import StandardScaler\n",
    "from sklearn.model_selection import train_test_split\n",
    "import warnings\n",
    "warnings.filterwarnings(\"ignore\")\n",
    "plt.rcParams['font.size']=12"
   ]
  },
  {
   "cell_type": "code",
   "execution_count": 175,
   "metadata": {},
   "outputs": [
    {
     "data": {
      "text/plain": [
       "<module 'seaborn' from 'c:\\\\Users\\\\sugam\\\\anaconda3\\\\lib\\\\site-packages\\\\seaborn\\\\__init__.py'>"
      ]
     },
     "execution_count": 175,
     "metadata": {},
     "output_type": "execute_result"
    }
   ],
   "source": [
    "sns"
   ]
  },
  {
   "cell_type": "markdown",
   "metadata": {},
   "source": [
    "### Reading and Understanding the data"
   ]
  },
  {
   "cell_type": "markdown",
   "metadata": {},
   "source": [
    "#### This data has been taken from UCI open Dataset and has been read using the read_csv function"
   ]
  },
  {
   "cell_type": "code",
   "execution_count": 176,
   "metadata": {},
   "outputs": [],
   "source": [
    "url = r\"https://archive.ics.uci.edu/ml/machine-learning-databases/parkinsons/parkinsons.data\"\n",
    "df = pd.read_csv(url,encoding='latin1')"
   ]
  },
  {
   "cell_type": "code",
   "execution_count": 177,
   "metadata": {},
   "outputs": [
    {
     "data": {
      "text/html": [
       "<div>\n",
       "<style scoped>\n",
       "    .dataframe tbody tr th:only-of-type {\n",
       "        vertical-align: middle;\n",
       "    }\n",
       "\n",
       "    .dataframe tbody tr th {\n",
       "        vertical-align: top;\n",
       "    }\n",
       "\n",
       "    .dataframe thead th {\n",
       "        text-align: right;\n",
       "    }\n",
       "</style>\n",
       "<table border=\"1\" class=\"dataframe\">\n",
       "  <thead>\n",
       "    <tr style=\"text-align: right;\">\n",
       "      <th></th>\n",
       "      <th>name</th>\n",
       "      <th>MDVP:Fo(Hz)</th>\n",
       "      <th>MDVP:Fhi(Hz)</th>\n",
       "      <th>MDVP:Flo(Hz)</th>\n",
       "      <th>MDVP:Jitter(%)</th>\n",
       "      <th>MDVP:Jitter(Abs)</th>\n",
       "      <th>MDVP:RAP</th>\n",
       "      <th>MDVP:PPQ</th>\n",
       "      <th>Jitter:DDP</th>\n",
       "      <th>MDVP:Shimmer</th>\n",
       "      <th>...</th>\n",
       "      <th>Shimmer:DDA</th>\n",
       "      <th>NHR</th>\n",
       "      <th>HNR</th>\n",
       "      <th>status</th>\n",
       "      <th>RPDE</th>\n",
       "      <th>DFA</th>\n",
       "      <th>spread1</th>\n",
       "      <th>spread2</th>\n",
       "      <th>D2</th>\n",
       "      <th>PPE</th>\n",
       "    </tr>\n",
       "  </thead>\n",
       "  <tbody>\n",
       "    <tr>\n",
       "      <th>0</th>\n",
       "      <td>phon_R01_S01_1</td>\n",
       "      <td>119.992</td>\n",
       "      <td>157.302</td>\n",
       "      <td>74.997</td>\n",
       "      <td>0.00784</td>\n",
       "      <td>0.00007</td>\n",
       "      <td>0.00370</td>\n",
       "      <td>0.00554</td>\n",
       "      <td>0.01109</td>\n",
       "      <td>0.04374</td>\n",
       "      <td>...</td>\n",
       "      <td>0.06545</td>\n",
       "      <td>0.02211</td>\n",
       "      <td>21.033</td>\n",
       "      <td>1</td>\n",
       "      <td>0.414783</td>\n",
       "      <td>0.815285</td>\n",
       "      <td>-4.813031</td>\n",
       "      <td>0.266482</td>\n",
       "      <td>2.301442</td>\n",
       "      <td>0.284654</td>\n",
       "    </tr>\n",
       "    <tr>\n",
       "      <th>1</th>\n",
       "      <td>phon_R01_S01_2</td>\n",
       "      <td>122.400</td>\n",
       "      <td>148.650</td>\n",
       "      <td>113.819</td>\n",
       "      <td>0.00968</td>\n",
       "      <td>0.00008</td>\n",
       "      <td>0.00465</td>\n",
       "      <td>0.00696</td>\n",
       "      <td>0.01394</td>\n",
       "      <td>0.06134</td>\n",
       "      <td>...</td>\n",
       "      <td>0.09403</td>\n",
       "      <td>0.01929</td>\n",
       "      <td>19.085</td>\n",
       "      <td>1</td>\n",
       "      <td>0.458359</td>\n",
       "      <td>0.819521</td>\n",
       "      <td>-4.075192</td>\n",
       "      <td>0.335590</td>\n",
       "      <td>2.486855</td>\n",
       "      <td>0.368674</td>\n",
       "    </tr>\n",
       "    <tr>\n",
       "      <th>2</th>\n",
       "      <td>phon_R01_S01_3</td>\n",
       "      <td>116.682</td>\n",
       "      <td>131.111</td>\n",
       "      <td>111.555</td>\n",
       "      <td>0.01050</td>\n",
       "      <td>0.00009</td>\n",
       "      <td>0.00544</td>\n",
       "      <td>0.00781</td>\n",
       "      <td>0.01633</td>\n",
       "      <td>0.05233</td>\n",
       "      <td>...</td>\n",
       "      <td>0.08270</td>\n",
       "      <td>0.01309</td>\n",
       "      <td>20.651</td>\n",
       "      <td>1</td>\n",
       "      <td>0.429895</td>\n",
       "      <td>0.825288</td>\n",
       "      <td>-4.443179</td>\n",
       "      <td>0.311173</td>\n",
       "      <td>2.342259</td>\n",
       "      <td>0.332634</td>\n",
       "    </tr>\n",
       "    <tr>\n",
       "      <th>3</th>\n",
       "      <td>phon_R01_S01_4</td>\n",
       "      <td>116.676</td>\n",
       "      <td>137.871</td>\n",
       "      <td>111.366</td>\n",
       "      <td>0.00997</td>\n",
       "      <td>0.00009</td>\n",
       "      <td>0.00502</td>\n",
       "      <td>0.00698</td>\n",
       "      <td>0.01505</td>\n",
       "      <td>0.05492</td>\n",
       "      <td>...</td>\n",
       "      <td>0.08771</td>\n",
       "      <td>0.01353</td>\n",
       "      <td>20.644</td>\n",
       "      <td>1</td>\n",
       "      <td>0.434969</td>\n",
       "      <td>0.819235</td>\n",
       "      <td>-4.117501</td>\n",
       "      <td>0.334147</td>\n",
       "      <td>2.405554</td>\n",
       "      <td>0.368975</td>\n",
       "    </tr>\n",
       "    <tr>\n",
       "      <th>4</th>\n",
       "      <td>phon_R01_S01_5</td>\n",
       "      <td>116.014</td>\n",
       "      <td>141.781</td>\n",
       "      <td>110.655</td>\n",
       "      <td>0.01284</td>\n",
       "      <td>0.00011</td>\n",
       "      <td>0.00655</td>\n",
       "      <td>0.00908</td>\n",
       "      <td>0.01966</td>\n",
       "      <td>0.06425</td>\n",
       "      <td>...</td>\n",
       "      <td>0.10470</td>\n",
       "      <td>0.01767</td>\n",
       "      <td>19.649</td>\n",
       "      <td>1</td>\n",
       "      <td>0.417356</td>\n",
       "      <td>0.823484</td>\n",
       "      <td>-3.747787</td>\n",
       "      <td>0.234513</td>\n",
       "      <td>2.332180</td>\n",
       "      <td>0.410335</td>\n",
       "    </tr>\n",
       "  </tbody>\n",
       "</table>\n",
       "<p>5 rows × 24 columns</p>\n",
       "</div>"
      ],
      "text/plain": [
       "             name  MDVP:Fo(Hz)  MDVP:Fhi(Hz)  MDVP:Flo(Hz)  MDVP:Jitter(%)  \\\n",
       "0  phon_R01_S01_1      119.992       157.302        74.997         0.00784   \n",
       "1  phon_R01_S01_2      122.400       148.650       113.819         0.00968   \n",
       "2  phon_R01_S01_3      116.682       131.111       111.555         0.01050   \n",
       "3  phon_R01_S01_4      116.676       137.871       111.366         0.00997   \n",
       "4  phon_R01_S01_5      116.014       141.781       110.655         0.01284   \n",
       "\n",
       "   MDVP:Jitter(Abs)  MDVP:RAP  MDVP:PPQ  Jitter:DDP  MDVP:Shimmer  ...  \\\n",
       "0           0.00007   0.00370   0.00554     0.01109       0.04374  ...   \n",
       "1           0.00008   0.00465   0.00696     0.01394       0.06134  ...   \n",
       "2           0.00009   0.00544   0.00781     0.01633       0.05233  ...   \n",
       "3           0.00009   0.00502   0.00698     0.01505       0.05492  ...   \n",
       "4           0.00011   0.00655   0.00908     0.01966       0.06425  ...   \n",
       "\n",
       "   Shimmer:DDA      NHR     HNR  status      RPDE       DFA   spread1  \\\n",
       "0      0.06545  0.02211  21.033       1  0.414783  0.815285 -4.813031   \n",
       "1      0.09403  0.01929  19.085       1  0.458359  0.819521 -4.075192   \n",
       "2      0.08270  0.01309  20.651       1  0.429895  0.825288 -4.443179   \n",
       "3      0.08771  0.01353  20.644       1  0.434969  0.819235 -4.117501   \n",
       "4      0.10470  0.01767  19.649       1  0.417356  0.823484 -3.747787   \n",
       "\n",
       "    spread2        D2       PPE  \n",
       "0  0.266482  2.301442  0.284654  \n",
       "1  0.335590  2.486855  0.368674  \n",
       "2  0.311173  2.342259  0.332634  \n",
       "3  0.334147  2.405554  0.368975  \n",
       "4  0.234513  2.332180  0.410335  \n",
       "\n",
       "[5 rows x 24 columns]"
      ]
     },
     "execution_count": 177,
     "metadata": {},
     "output_type": "execute_result"
    }
   ],
   "source": [
    "df.head()"
   ]
  },
  {
   "cell_type": "code",
   "execution_count": 178,
   "metadata": {},
   "outputs": [],
   "source": [
    "df.drop(\"name\",axis=1,inplace=True)"
   ]
  },
  {
   "cell_type": "code",
   "execution_count": 179,
   "metadata": {},
   "outputs": [
    {
     "data": {
      "text/plain": [
       "(195, 23)"
      ]
     },
     "execution_count": 179,
     "metadata": {},
     "output_type": "execute_result"
    }
   ],
   "source": [
    "df.shape"
   ]
  },
  {
   "cell_type": "markdown",
   "metadata": {},
   "source": [
    "The name column is just the subject name and recording number which is not relevent to our model so removing number"
   ]
  },
  {
   "cell_type": "code",
   "execution_count": 180,
   "metadata": {},
   "outputs": [
    {
     "name": "stdout",
     "output_type": "stream",
     "text": [
      "<class 'pandas.core.frame.DataFrame'>\n",
      "RangeIndex: 195 entries, 0 to 194\n",
      "Data columns (total 23 columns):\n",
      " #   Column            Non-Null Count  Dtype  \n",
      "---  ------            --------------  -----  \n",
      " 0   MDVP:Fo(Hz)       195 non-null    float64\n",
      " 1   MDVP:Fhi(Hz)      195 non-null    float64\n",
      " 2   MDVP:Flo(Hz)      195 non-null    float64\n",
      " 3   MDVP:Jitter(%)    195 non-null    float64\n",
      " 4   MDVP:Jitter(Abs)  195 non-null    float64\n",
      " 5   MDVP:RAP          195 non-null    float64\n",
      " 6   MDVP:PPQ          195 non-null    float64\n",
      " 7   Jitter:DDP        195 non-null    float64\n",
      " 8   MDVP:Shimmer      195 non-null    float64\n",
      " 9   MDVP:Shimmer(dB)  195 non-null    float64\n",
      " 10  Shimmer:APQ3      195 non-null    float64\n",
      " 11  Shimmer:APQ5      195 non-null    float64\n",
      " 12  MDVP:APQ          195 non-null    float64\n",
      " 13  Shimmer:DDA       195 non-null    float64\n",
      " 14  NHR               195 non-null    float64\n",
      " 15  HNR               195 non-null    float64\n",
      " 16  status            195 non-null    int64  \n",
      " 17  RPDE              195 non-null    float64\n",
      " 18  DFA               195 non-null    float64\n",
      " 19  spread1           195 non-null    float64\n",
      " 20  spread2           195 non-null    float64\n",
      " 21  D2                195 non-null    float64\n",
      " 22  PPE               195 non-null    float64\n",
      "dtypes: float64(22), int64(1)\n",
      "memory usage: 35.2 KB\n"
     ]
    }
   ],
   "source": [
    "df.info()"
   ]
  },
  {
   "cell_type": "markdown",
   "metadata": {},
   "source": [
    "All the columns are of numerical dtype"
   ]
  },
  {
   "cell_type": "code",
   "execution_count": 181,
   "metadata": {},
   "outputs": [
    {
     "data": {
      "text/html": [
       "<div>\n",
       "<style scoped>\n",
       "    .dataframe tbody tr th:only-of-type {\n",
       "        vertical-align: middle;\n",
       "    }\n",
       "\n",
       "    .dataframe tbody tr th {\n",
       "        vertical-align: top;\n",
       "    }\n",
       "\n",
       "    .dataframe thead th {\n",
       "        text-align: right;\n",
       "    }\n",
       "</style>\n",
       "<table border=\"1\" class=\"dataframe\">\n",
       "  <thead>\n",
       "    <tr style=\"text-align: right;\">\n",
       "      <th></th>\n",
       "      <th>MDVP:Fo(Hz)</th>\n",
       "      <th>MDVP:Fhi(Hz)</th>\n",
       "      <th>MDVP:Flo(Hz)</th>\n",
       "      <th>MDVP:Jitter(%)</th>\n",
       "      <th>MDVP:Jitter(Abs)</th>\n",
       "      <th>MDVP:RAP</th>\n",
       "      <th>MDVP:PPQ</th>\n",
       "      <th>Jitter:DDP</th>\n",
       "      <th>MDVP:Shimmer</th>\n",
       "      <th>MDVP:Shimmer(dB)</th>\n",
       "      <th>...</th>\n",
       "      <th>Shimmer:DDA</th>\n",
       "      <th>NHR</th>\n",
       "      <th>HNR</th>\n",
       "      <th>status</th>\n",
       "      <th>RPDE</th>\n",
       "      <th>DFA</th>\n",
       "      <th>spread1</th>\n",
       "      <th>spread2</th>\n",
       "      <th>D2</th>\n",
       "      <th>PPE</th>\n",
       "    </tr>\n",
       "  </thead>\n",
       "  <tbody>\n",
       "    <tr>\n",
       "      <th>count</th>\n",
       "      <td>195.000000</td>\n",
       "      <td>195.000000</td>\n",
       "      <td>195.000000</td>\n",
       "      <td>195.000000</td>\n",
       "      <td>195.000000</td>\n",
       "      <td>195.000000</td>\n",
       "      <td>195.000000</td>\n",
       "      <td>195.000000</td>\n",
       "      <td>195.000000</td>\n",
       "      <td>195.000000</td>\n",
       "      <td>...</td>\n",
       "      <td>195.000000</td>\n",
       "      <td>195.000000</td>\n",
       "      <td>195.000000</td>\n",
       "      <td>195.000000</td>\n",
       "      <td>195.000000</td>\n",
       "      <td>195.000000</td>\n",
       "      <td>195.000000</td>\n",
       "      <td>195.000000</td>\n",
       "      <td>195.000000</td>\n",
       "      <td>195.000000</td>\n",
       "    </tr>\n",
       "    <tr>\n",
       "      <th>mean</th>\n",
       "      <td>154.228641</td>\n",
       "      <td>197.104918</td>\n",
       "      <td>116.324631</td>\n",
       "      <td>0.006220</td>\n",
       "      <td>0.000044</td>\n",
       "      <td>0.003306</td>\n",
       "      <td>0.003446</td>\n",
       "      <td>0.009920</td>\n",
       "      <td>0.029709</td>\n",
       "      <td>0.282251</td>\n",
       "      <td>...</td>\n",
       "      <td>0.046993</td>\n",
       "      <td>0.024847</td>\n",
       "      <td>21.885974</td>\n",
       "      <td>0.753846</td>\n",
       "      <td>0.498536</td>\n",
       "      <td>0.718099</td>\n",
       "      <td>-5.684397</td>\n",
       "      <td>0.226510</td>\n",
       "      <td>2.381826</td>\n",
       "      <td>0.206552</td>\n",
       "    </tr>\n",
       "    <tr>\n",
       "      <th>std</th>\n",
       "      <td>41.390065</td>\n",
       "      <td>91.491548</td>\n",
       "      <td>43.521413</td>\n",
       "      <td>0.004848</td>\n",
       "      <td>0.000035</td>\n",
       "      <td>0.002968</td>\n",
       "      <td>0.002759</td>\n",
       "      <td>0.008903</td>\n",
       "      <td>0.018857</td>\n",
       "      <td>0.194877</td>\n",
       "      <td>...</td>\n",
       "      <td>0.030459</td>\n",
       "      <td>0.040418</td>\n",
       "      <td>4.425764</td>\n",
       "      <td>0.431878</td>\n",
       "      <td>0.103942</td>\n",
       "      <td>0.055336</td>\n",
       "      <td>1.090208</td>\n",
       "      <td>0.083406</td>\n",
       "      <td>0.382799</td>\n",
       "      <td>0.090119</td>\n",
       "    </tr>\n",
       "    <tr>\n",
       "      <th>min</th>\n",
       "      <td>88.333000</td>\n",
       "      <td>102.145000</td>\n",
       "      <td>65.476000</td>\n",
       "      <td>0.001680</td>\n",
       "      <td>0.000007</td>\n",
       "      <td>0.000680</td>\n",
       "      <td>0.000920</td>\n",
       "      <td>0.002040</td>\n",
       "      <td>0.009540</td>\n",
       "      <td>0.085000</td>\n",
       "      <td>...</td>\n",
       "      <td>0.013640</td>\n",
       "      <td>0.000650</td>\n",
       "      <td>8.441000</td>\n",
       "      <td>0.000000</td>\n",
       "      <td>0.256570</td>\n",
       "      <td>0.574282</td>\n",
       "      <td>-7.964984</td>\n",
       "      <td>0.006274</td>\n",
       "      <td>1.423287</td>\n",
       "      <td>0.044539</td>\n",
       "    </tr>\n",
       "    <tr>\n",
       "      <th>25%</th>\n",
       "      <td>117.572000</td>\n",
       "      <td>134.862500</td>\n",
       "      <td>84.291000</td>\n",
       "      <td>0.003460</td>\n",
       "      <td>0.000020</td>\n",
       "      <td>0.001660</td>\n",
       "      <td>0.001860</td>\n",
       "      <td>0.004985</td>\n",
       "      <td>0.016505</td>\n",
       "      <td>0.148500</td>\n",
       "      <td>...</td>\n",
       "      <td>0.024735</td>\n",
       "      <td>0.005925</td>\n",
       "      <td>19.198000</td>\n",
       "      <td>1.000000</td>\n",
       "      <td>0.421306</td>\n",
       "      <td>0.674758</td>\n",
       "      <td>-6.450096</td>\n",
       "      <td>0.174351</td>\n",
       "      <td>2.099125</td>\n",
       "      <td>0.137451</td>\n",
       "    </tr>\n",
       "    <tr>\n",
       "      <th>50%</th>\n",
       "      <td>148.790000</td>\n",
       "      <td>175.829000</td>\n",
       "      <td>104.315000</td>\n",
       "      <td>0.004940</td>\n",
       "      <td>0.000030</td>\n",
       "      <td>0.002500</td>\n",
       "      <td>0.002690</td>\n",
       "      <td>0.007490</td>\n",
       "      <td>0.022970</td>\n",
       "      <td>0.221000</td>\n",
       "      <td>...</td>\n",
       "      <td>0.038360</td>\n",
       "      <td>0.011660</td>\n",
       "      <td>22.085000</td>\n",
       "      <td>1.000000</td>\n",
       "      <td>0.495954</td>\n",
       "      <td>0.722254</td>\n",
       "      <td>-5.720868</td>\n",
       "      <td>0.218885</td>\n",
       "      <td>2.361532</td>\n",
       "      <td>0.194052</td>\n",
       "    </tr>\n",
       "    <tr>\n",
       "      <th>75%</th>\n",
       "      <td>182.769000</td>\n",
       "      <td>224.205500</td>\n",
       "      <td>140.018500</td>\n",
       "      <td>0.007365</td>\n",
       "      <td>0.000060</td>\n",
       "      <td>0.003835</td>\n",
       "      <td>0.003955</td>\n",
       "      <td>0.011505</td>\n",
       "      <td>0.037885</td>\n",
       "      <td>0.350000</td>\n",
       "      <td>...</td>\n",
       "      <td>0.060795</td>\n",
       "      <td>0.025640</td>\n",
       "      <td>25.075500</td>\n",
       "      <td>1.000000</td>\n",
       "      <td>0.587562</td>\n",
       "      <td>0.761881</td>\n",
       "      <td>-5.046192</td>\n",
       "      <td>0.279234</td>\n",
       "      <td>2.636456</td>\n",
       "      <td>0.252980</td>\n",
       "    </tr>\n",
       "    <tr>\n",
       "      <th>max</th>\n",
       "      <td>260.105000</td>\n",
       "      <td>592.030000</td>\n",
       "      <td>239.170000</td>\n",
       "      <td>0.033160</td>\n",
       "      <td>0.000260</td>\n",
       "      <td>0.021440</td>\n",
       "      <td>0.019580</td>\n",
       "      <td>0.064330</td>\n",
       "      <td>0.119080</td>\n",
       "      <td>1.302000</td>\n",
       "      <td>...</td>\n",
       "      <td>0.169420</td>\n",
       "      <td>0.314820</td>\n",
       "      <td>33.047000</td>\n",
       "      <td>1.000000</td>\n",
       "      <td>0.685151</td>\n",
       "      <td>0.825288</td>\n",
       "      <td>-2.434031</td>\n",
       "      <td>0.450493</td>\n",
       "      <td>3.671155</td>\n",
       "      <td>0.527367</td>\n",
       "    </tr>\n",
       "  </tbody>\n",
       "</table>\n",
       "<p>8 rows × 23 columns</p>\n",
       "</div>"
      ],
      "text/plain": [
       "       MDVP:Fo(Hz)  MDVP:Fhi(Hz)  MDVP:Flo(Hz)  MDVP:Jitter(%)  \\\n",
       "count   195.000000    195.000000    195.000000      195.000000   \n",
       "mean    154.228641    197.104918    116.324631        0.006220   \n",
       "std      41.390065     91.491548     43.521413        0.004848   \n",
       "min      88.333000    102.145000     65.476000        0.001680   \n",
       "25%     117.572000    134.862500     84.291000        0.003460   \n",
       "50%     148.790000    175.829000    104.315000        0.004940   \n",
       "75%     182.769000    224.205500    140.018500        0.007365   \n",
       "max     260.105000    592.030000    239.170000        0.033160   \n",
       "\n",
       "       MDVP:Jitter(Abs)    MDVP:RAP    MDVP:PPQ  Jitter:DDP  MDVP:Shimmer  \\\n",
       "count        195.000000  195.000000  195.000000  195.000000    195.000000   \n",
       "mean           0.000044    0.003306    0.003446    0.009920      0.029709   \n",
       "std            0.000035    0.002968    0.002759    0.008903      0.018857   \n",
       "min            0.000007    0.000680    0.000920    0.002040      0.009540   \n",
       "25%            0.000020    0.001660    0.001860    0.004985      0.016505   \n",
       "50%            0.000030    0.002500    0.002690    0.007490      0.022970   \n",
       "75%            0.000060    0.003835    0.003955    0.011505      0.037885   \n",
       "max            0.000260    0.021440    0.019580    0.064330      0.119080   \n",
       "\n",
       "       MDVP:Shimmer(dB)  ...  Shimmer:DDA         NHR         HNR      status  \\\n",
       "count        195.000000  ...   195.000000  195.000000  195.000000  195.000000   \n",
       "mean           0.282251  ...     0.046993    0.024847   21.885974    0.753846   \n",
       "std            0.194877  ...     0.030459    0.040418    4.425764    0.431878   \n",
       "min            0.085000  ...     0.013640    0.000650    8.441000    0.000000   \n",
       "25%            0.148500  ...     0.024735    0.005925   19.198000    1.000000   \n",
       "50%            0.221000  ...     0.038360    0.011660   22.085000    1.000000   \n",
       "75%            0.350000  ...     0.060795    0.025640   25.075500    1.000000   \n",
       "max            1.302000  ...     0.169420    0.314820   33.047000    1.000000   \n",
       "\n",
       "             RPDE         DFA     spread1     spread2          D2         PPE  \n",
       "count  195.000000  195.000000  195.000000  195.000000  195.000000  195.000000  \n",
       "mean     0.498536    0.718099   -5.684397    0.226510    2.381826    0.206552  \n",
       "std      0.103942    0.055336    1.090208    0.083406    0.382799    0.090119  \n",
       "min      0.256570    0.574282   -7.964984    0.006274    1.423287    0.044539  \n",
       "25%      0.421306    0.674758   -6.450096    0.174351    2.099125    0.137451  \n",
       "50%      0.495954    0.722254   -5.720868    0.218885    2.361532    0.194052  \n",
       "75%      0.587562    0.761881   -5.046192    0.279234    2.636456    0.252980  \n",
       "max      0.685151    0.825288   -2.434031    0.450493    3.671155    0.527367  \n",
       "\n",
       "[8 rows x 23 columns]"
      ]
     },
     "execution_count": 181,
     "metadata": {},
     "output_type": "execute_result"
    }
   ],
   "source": [
    "df.describe()"
   ]
  },
  {
   "cell_type": "code",
   "execution_count": 182,
   "metadata": {},
   "outputs": [],
   "source": [
    "df_new = df.copy() # Creating a copy for comparision purpose"
   ]
  },
  {
   "cell_type": "markdown",
   "metadata": {},
   "source": [
    "### Data PreProcessing"
   ]
  },
  {
   "cell_type": "code",
   "execution_count": 183,
   "metadata": {},
   "outputs": [
    {
     "data": {
      "text/plain": [
       "MDVP:Fo(Hz)         0\n",
       "MDVP:Fhi(Hz)        0\n",
       "MDVP:Flo(Hz)        0\n",
       "MDVP:Jitter(%)      0\n",
       "MDVP:Jitter(Abs)    0\n",
       "MDVP:RAP            0\n",
       "MDVP:PPQ            0\n",
       "Jitter:DDP          0\n",
       "MDVP:Shimmer        0\n",
       "MDVP:Shimmer(dB)    0\n",
       "Shimmer:APQ3        0\n",
       "Shimmer:APQ5        0\n",
       "MDVP:APQ            0\n",
       "Shimmer:DDA         0\n",
       "NHR                 0\n",
       "HNR                 0\n",
       "status              0\n",
       "RPDE                0\n",
       "DFA                 0\n",
       "spread1             0\n",
       "spread2             0\n",
       "D2                  0\n",
       "PPE                 0\n",
       "dtype: int64"
      ]
     },
     "execution_count": 183,
     "metadata": {},
     "output_type": "execute_result"
    }
   ],
   "source": [
    "# Calculating the null values present\n",
    "df.isna().sum(axis=0)"
   ]
  },
  {
   "cell_type": "markdown",
   "metadata": {},
   "source": [
    "<b>Insights:</b>\n",
    "There are no null values in the dataset"
   ]
  },
  {
   "cell_type": "code",
   "execution_count": 184,
   "metadata": {},
   "outputs": [],
   "source": [
    "# Checking for the duplicate values\n",
    "df_new.drop_duplicates(subset=None,keep='first',inplace=True)"
   ]
  },
  {
   "cell_type": "code",
   "execution_count": 185,
   "metadata": {},
   "outputs": [
    {
     "name": "stdout",
     "output_type": "stream",
     "text": [
      "Shape before dropping duplicates: (195, 23) \n",
      "Shape after dropping duplicates: (195, 23) \n"
     ]
    }
   ],
   "source": [
    "print(f\"Shape before dropping duplicates: {df.shape} \")\n",
    "print(f\"Shape after dropping duplicates: {df_new.shape} \")"
   ]
  },
  {
   "cell_type": "markdown",
   "metadata": {},
   "source": [
    "There are no duplicates in the dataset as the shape before and after dropping the duplicate is same"
   ]
  },
  {
   "cell_type": "code",
   "execution_count": 186,
   "metadata": {},
   "outputs": [
    {
     "name": "stdout",
     "output_type": "stream",
     "text": [
      "119.992    1\n",
      "122.964    1\n",
      "91.904     1\n",
      "116.682    1\n",
      "116.676    1\n",
      "          ..\n",
      "201.774    1\n",
      "174.188    1\n",
      "209.516    1\n",
      "174.688    1\n",
      "214.289    1\n",
      "Name: MDVP:Fo(Hz), Length: 195, dtype: int64\n",
      "157.302    1\n",
      "130.049    1\n",
      "115.871    1\n",
      "131.111    1\n",
      "137.871    1\n",
      "          ..\n",
      "262.707    1\n",
      "230.978    1\n",
      "253.017    1\n",
      "240.005    1\n",
      "260.277    1\n",
      "Name: MDVP:Fhi(Hz), Length: 195, dtype: int64\n",
      "74.997     1\n",
      "114.676    1\n",
      "86.292     1\n",
      "111.555    1\n",
      "111.366    1\n",
      "          ..\n",
      "78.228     1\n",
      "94.261     1\n",
      "89.488     1\n",
      "74.287     1\n",
      "77.973     1\n",
      "Name: MDVP:Flo(Hz), Length: 195, dtype: int64\n",
      "0.00694    3\n",
      "0.00369    3\n",
      "0.00742    3\n",
      "0.00462    2\n",
      "0.00968    2\n",
      "          ..\n",
      "0.01360    1\n",
      "0.00740    1\n",
      "0.00517    1\n",
      "0.00339    1\n",
      "0.00567    1\n",
      "Name: MDVP:Jitter(%), Length: 173, dtype: int64\n",
      "0.000030    46\n",
      "0.000040    28\n",
      "0.000020    28\n",
      "0.000010    20\n",
      "0.000050    17\n",
      "0.000060    16\n",
      "0.000080     9\n",
      "0.000070     8\n",
      "0.000009     5\n",
      "0.000090     5\n",
      "0.000100     3\n",
      "0.000110     2\n",
      "0.000150     2\n",
      "0.000007     1\n",
      "0.000260     1\n",
      "0.000120     1\n",
      "0.000220     1\n",
      "0.000160     1\n",
      "0.000140     1\n",
      "Name: MDVP:Jitter(Abs), dtype: int64\n",
      "0.00169    5\n",
      "0.00428    3\n",
      "0.00250    3\n",
      "0.00157    3\n",
      "0.00165    3\n",
      "          ..\n",
      "0.00186    1\n",
      "0.00174    1\n",
      "0.00863    1\n",
      "0.00202    1\n",
      "0.00295    1\n",
      "Name: MDVP:RAP, Length: 155, dtype: int64\n",
      "0.00332    4\n",
      "0.00203    3\n",
      "0.00182    3\n",
      "0.00283    3\n",
      "0.00166    2\n",
      "          ..\n",
      "0.00235    1\n",
      "0.00231    1\n",
      "0.00162    1\n",
      "0.00213    1\n",
      "0.00317    1\n",
      "Name: MDVP:PPQ, Length: 165, dtype: int64\n",
      "0.00507    3\n",
      "0.00616    2\n",
      "0.01109    2\n",
      "0.00873    2\n",
      "0.00349    2\n",
      "          ..\n",
      "0.01235    1\n",
      "0.00790    1\n",
      "0.01873    1\n",
      "0.00837    1\n",
      "0.00885    1\n",
      "Name: Jitter:DDP, Length: 180, dtype: int64\n",
      "0.02448    2\n",
      "0.02293    2\n",
      "0.01503    2\n",
      "0.01450    2\n",
      "0.03273    2\n",
      "          ..\n",
      "0.02574    1\n",
      "0.04087    1\n",
      "0.02751    1\n",
      "0.02308    1\n",
      "0.01884    1\n",
      "Name: MDVP:Shimmer, Length: 188, dtype: int64\n",
      "0.154    5\n",
      "0.197    4\n",
      "0.155    3\n",
      "0.126    3\n",
      "0.129    3\n",
      "        ..\n",
      "0.181    1\n",
      "0.142    1\n",
      "0.237    1\n",
      "0.171    1\n",
      "0.190    1\n",
      "Name: MDVP:Shimmer(dB), Length: 149, dtype: int64\n",
      "0.01441    2\n",
      "0.01579    2\n",
      "0.00829    2\n",
      "0.00522    2\n",
      "0.01284    2\n",
      "          ..\n",
      "0.02336    1\n",
      "0.01604    1\n",
      "0.01268    1\n",
      "0.01265    1\n",
      "0.01026    1\n",
      "Name: Shimmer:APQ3, Length: 184, dtype: int64\n",
      "0.01219    2\n",
      "0.00747    2\n",
      "0.00972    2\n",
      "0.01160    2\n",
      "0.01144    2\n",
      "          ..\n",
      "0.00721    1\n",
      "0.01582    1\n",
      "0.02498    1\n",
      "0.01657    1\n",
      "0.01161    1\n",
      "Name: Shimmer:APQ5, Length: 189, dtype: int64\n",
      "0.01234    2\n",
      "0.00903    2\n",
      "0.01491    2\n",
      "0.01133    2\n",
      "0.01140    2\n",
      "          ..\n",
      "0.01095    1\n",
      "0.01758    1\n",
      "0.02745    1\n",
      "0.01879    1\n",
      "0.01373    1\n",
      "Name: MDVP:APQ, Length: 189, dtype: int64\n",
      "0.02184    2\n",
      "0.01567    2\n",
      "0.04736    2\n",
      "0.01898    2\n",
      "0.03831    2\n",
      "          ..\n",
      "0.07008    1\n",
      "0.04812    1\n",
      "0.03804    1\n",
      "0.03794    1\n",
      "0.03078    1\n",
      "Name: Shimmer:DDA, Length: 189, dtype: int64\n",
      "0.07223    2\n",
      "0.00340    2\n",
      "0.00476    2\n",
      "0.00479    2\n",
      "0.00681    2\n",
      "          ..\n",
      "0.04441    1\n",
      "0.02764    1\n",
      "0.01810    1\n",
      "0.10715    1\n",
      "0.04398    1\n",
      "Name: NHR, Length: 185, dtype: int64\n",
      "21.033    1\n",
      "24.971    1\n",
      "21.414    1\n",
      "20.651    1\n",
      "20.644    1\n",
      "         ..\n",
      "19.368    1\n",
      "19.517    1\n",
      "19.147    1\n",
      "17.883    1\n",
      "21.209    1\n",
      "Name: HNR, Length: 195, dtype: int64\n",
      "1    147\n",
      "0     48\n",
      "Name: status, dtype: int64\n",
      "0.414783    1\n",
      "0.538688    1\n",
      "0.583390    1\n",
      "0.429895    1\n",
      "0.434969    1\n",
      "           ..\n",
      "0.508479    1\n",
      "0.448439    1\n",
      "0.431674    1\n",
      "0.407567    1\n",
      "0.462803    1\n",
      "Name: RPDE, Length: 195, dtype: int64\n",
      "0.815285    1\n",
      "0.754073    1\n",
      "0.792520    1\n",
      "0.825288    1\n",
      "0.819235    1\n",
      "           ..\n",
      "0.683761    1\n",
      "0.657899    1\n",
      "0.683244    1\n",
      "0.655683    1\n",
      "0.664357    1\n",
      "Name: DFA, Length: 195, dtype: int64\n",
      "-4.813031    1\n",
      "-6.482096    1\n",
      "-4.960234    1\n",
      "-4.443179    1\n",
      "-4.117501    1\n",
      "            ..\n",
      "-6.934474    1\n",
      "-6.538586    1\n",
      "-6.195325    1\n",
      "-6.787197    1\n",
      "-5.724056    1\n",
      "Name: spread1, Length: 195, dtype: int64\n",
      "0.210279    2\n",
      "0.266392    1\n",
      "0.220890    1\n",
      "0.363566    1\n",
      "0.311173    1\n",
      "           ..\n",
      "0.159890    1\n",
      "0.121952    1\n",
      "0.129303    1\n",
      "0.158453    1\n",
      "0.190667    1\n",
      "Name: spread2, Length: 194, dtype: int64\n",
      "2.301442    1\n",
      "2.054419    1\n",
      "2.642476    1\n",
      "2.342259    1\n",
      "2.405554    1\n",
      "           ..\n",
      "2.316346    1\n",
      "2.657476    1\n",
      "2.784312    1\n",
      "2.679772    1\n",
      "2.555477    1\n",
      "Name: D2, Length: 195, dtype: int64\n",
      "0.284654    1\n",
      "0.128872    1\n",
      "0.275931    1\n",
      "0.332634    1\n",
      "0.368975    1\n",
      "           ..\n",
      "0.112838    1\n",
      "0.133050    1\n",
      "0.168895    1\n",
      "0.131728    1\n",
      "0.148569    1\n",
      "Name: PPE, Length: 195, dtype: int64\n"
     ]
    }
   ],
   "source": [
    "# Checking for the garbage values \n",
    "for col in df.columns:\n",
    "    print(df[col].value_counts().sort_values(ascending=False))\n"
   ]
  },
  {
   "cell_type": "markdown",
   "metadata": {},
   "source": [
    "There are no garbage values in the dataset"
   ]
  },
  {
   "cell_type": "markdown",
   "metadata": {},
   "source": [
    "There are no categorical columns in the dataset, so no need to convert any columns into categorical columns"
   ]
  },
  {
   "cell_type": "code",
   "execution_count": 187,
   "metadata": {},
   "outputs": [
    {
     "data": {
      "text/html": [
       "<div>\n",
       "<style scoped>\n",
       "    .dataframe tbody tr th:only-of-type {\n",
       "        vertical-align: middle;\n",
       "    }\n",
       "\n",
       "    .dataframe tbody tr th {\n",
       "        vertical-align: top;\n",
       "    }\n",
       "\n",
       "    .dataframe thead th {\n",
       "        text-align: right;\n",
       "    }\n",
       "</style>\n",
       "<table border=\"1\" class=\"dataframe\">\n",
       "  <thead>\n",
       "    <tr style=\"text-align: right;\">\n",
       "      <th></th>\n",
       "      <th>MDVP:Fo(Hz)</th>\n",
       "      <th>MDVP:Fhi(Hz)</th>\n",
       "      <th>MDVP:Flo(Hz)</th>\n",
       "      <th>MDVP:Jitter(%)</th>\n",
       "      <th>MDVP:Jitter(Abs)</th>\n",
       "      <th>MDVP:RAP</th>\n",
       "      <th>MDVP:PPQ</th>\n",
       "      <th>Jitter:DDP</th>\n",
       "      <th>MDVP:Shimmer</th>\n",
       "      <th>MDVP:Shimmer(dB)</th>\n",
       "      <th>...</th>\n",
       "      <th>MDVP:APQ</th>\n",
       "      <th>Shimmer:DDA</th>\n",
       "      <th>NHR</th>\n",
       "      <th>HNR</th>\n",
       "      <th>RPDE</th>\n",
       "      <th>DFA</th>\n",
       "      <th>spread1</th>\n",
       "      <th>spread2</th>\n",
       "      <th>D2</th>\n",
       "      <th>PPE</th>\n",
       "    </tr>\n",
       "    <tr>\n",
       "      <th>status</th>\n",
       "      <th></th>\n",
       "      <th></th>\n",
       "      <th></th>\n",
       "      <th></th>\n",
       "      <th></th>\n",
       "      <th></th>\n",
       "      <th></th>\n",
       "      <th></th>\n",
       "      <th></th>\n",
       "      <th></th>\n",
       "      <th></th>\n",
       "      <th></th>\n",
       "      <th></th>\n",
       "      <th></th>\n",
       "      <th></th>\n",
       "      <th></th>\n",
       "      <th></th>\n",
       "      <th></th>\n",
       "      <th></th>\n",
       "      <th></th>\n",
       "      <th></th>\n",
       "    </tr>\n",
       "  </thead>\n",
       "  <tbody>\n",
       "    <tr>\n",
       "      <th>0</th>\n",
       "      <td>181.937771</td>\n",
       "      <td>223.636750</td>\n",
       "      <td>145.207292</td>\n",
       "      <td>0.003866</td>\n",
       "      <td>0.000023</td>\n",
       "      <td>0.001925</td>\n",
       "      <td>0.002056</td>\n",
       "      <td>0.005776</td>\n",
       "      <td>0.017615</td>\n",
       "      <td>0.162958</td>\n",
       "      <td>...</td>\n",
       "      <td>0.013305</td>\n",
       "      <td>0.028511</td>\n",
       "      <td>0.011483</td>\n",
       "      <td>24.678750</td>\n",
       "      <td>0.442552</td>\n",
       "      <td>0.695716</td>\n",
       "      <td>-6.759264</td>\n",
       "      <td>0.160292</td>\n",
       "      <td>2.154491</td>\n",
       "      <td>0.123017</td>\n",
       "    </tr>\n",
       "    <tr>\n",
       "      <th>1</th>\n",
       "      <td>145.180762</td>\n",
       "      <td>188.441463</td>\n",
       "      <td>106.893558</td>\n",
       "      <td>0.006989</td>\n",
       "      <td>0.000051</td>\n",
       "      <td>0.003757</td>\n",
       "      <td>0.003900</td>\n",
       "      <td>0.011273</td>\n",
       "      <td>0.033658</td>\n",
       "      <td>0.321204</td>\n",
       "      <td>...</td>\n",
       "      <td>0.027600</td>\n",
       "      <td>0.053027</td>\n",
       "      <td>0.029211</td>\n",
       "      <td>20.974048</td>\n",
       "      <td>0.516816</td>\n",
       "      <td>0.725408</td>\n",
       "      <td>-5.333420</td>\n",
       "      <td>0.248133</td>\n",
       "      <td>2.456058</td>\n",
       "      <td>0.233828</td>\n",
       "    </tr>\n",
       "  </tbody>\n",
       "</table>\n",
       "<p>2 rows × 22 columns</p>\n",
       "</div>"
      ],
      "text/plain": [
       "        MDVP:Fo(Hz)  MDVP:Fhi(Hz)  MDVP:Flo(Hz)  MDVP:Jitter(%)  \\\n",
       "status                                                            \n",
       "0        181.937771    223.636750    145.207292        0.003866   \n",
       "1        145.180762    188.441463    106.893558        0.006989   \n",
       "\n",
       "        MDVP:Jitter(Abs)  MDVP:RAP  MDVP:PPQ  Jitter:DDP  MDVP:Shimmer  \\\n",
       "status                                                                   \n",
       "0               0.000023  0.001925  0.002056    0.005776      0.017615   \n",
       "1               0.000051  0.003757  0.003900    0.011273      0.033658   \n",
       "\n",
       "        MDVP:Shimmer(dB)  ...  MDVP:APQ  Shimmer:DDA       NHR        HNR  \\\n",
       "status                    ...                                               \n",
       "0               0.162958  ...  0.013305     0.028511  0.011483  24.678750   \n",
       "1               0.321204  ...  0.027600     0.053027  0.029211  20.974048   \n",
       "\n",
       "            RPDE       DFA   spread1   spread2        D2       PPE  \n",
       "status                                                              \n",
       "0       0.442552  0.695716 -6.759264  0.160292  2.154491  0.123017  \n",
       "1       0.516816  0.725408 -5.333420  0.248133  2.456058  0.233828  \n",
       "\n",
       "[2 rows x 22 columns]"
      ]
     },
     "execution_count": 187,
     "metadata": {},
     "output_type": "execute_result"
    }
   ],
   "source": [
    "inference = df.groupby(\"status\").mean()\n",
    "inference"
   ]
  },
  {
   "cell_type": "code",
   "execution_count": 188,
   "metadata": {},
   "outputs": [
    {
     "data": {
      "image/png": "[encoded data removed]",
      "text/plain": [
       "<Figure size 2500x500 with 1 Axes>"
      ]
     },
     "metadata": {},
     "output_type": "display_data"
    }
   ],
   "source": [
    "sns.set_palette(\"Paired\")\n",
    "plt.figure(figsize=(25,5))\n",
    "plt.plot(inference.iloc[0,:],marker=\"o\",markersize=10,label=\"Not Parkinsons\")\n",
    "plt.plot(inference.iloc[1,:],marker=\"*\",markersize=10,label=\"Parkinson\")\n",
    "plt.xticks(rotation=90)\n",
    "plt.xlabel(\"Voice measure\")\n",
    "plt.ylabel(\"Average Value\")\n",
    "plt.title(\"Average values for various voice measure of parkinson and non parkinson patients\")\n",
    "plt.legend();"
   ]
  },
  {
   "cell_type": "code",
   "execution_count": 189,
   "metadata": {},
   "outputs": [],
   "source": [
    "X = df.drop([\"status\"],axis=1).copy()\n",
    "y = df[\"status\"].copy()"
   ]
  },
  {
   "attachments": {},
   "cell_type": "markdown",
   "metadata": {},
   "source": [
    "#### Model Imports"
   ]
  },
  {
   "cell_type": "code",
   "execution_count": 190,
   "metadata": {},
   "outputs": [],
   "source": [
    "from sklearn.naive_bayes import GaussianNB\n",
    "from sklearn.linear_model import LogisticRegression\n",
    "from sklearn.svm import SVC\n",
    "from sklearn.tree import DecisionTreeClassifier\n",
    "from sklearn.ensemble import VotingClassifier\n",
    "from sklearn.neighbors import KNeighborsClassifier\n",
    "from sklearn.ensemble import RandomForestClassifier\n",
    "from sklearn.metrics import *\n",
    "from sklearn.model_selection import train_test_split\n",
    "from sklearn.model_selection import cross_val_score\n"
   ]
  },
  {
   "attachments": {},
   "cell_type": "markdown",
   "metadata": {},
   "source": [
    "#### Feature Selection imports"
   ]
  },
  {
   "cell_type": "code",
   "execution_count": 191,
   "metadata": {},
   "outputs": [],
   "source": [
    "from sklearn.feature_selection import mutual_info_classif # For variance thresholding\n",
    "from skfeature.function.similarity_based import fisher_score # For Fischer Similarity\n",
    "from sklearn.feature_selection import VarianceThreshold # For vairance thresholding\n",
    "from sklearn.preprocessing import MinMaxScaler # For scaling the value\n",
    "from sklearn.model_selection import GridSearchCV # For Grid Search CV\n",
    "from mlxtend.feature_selection import SequentialFeatureSelector # For exhaustive Feature Selection\n",
    "from mlxtend.feature_selection import ExhaustiveFeatureSelector # For exhaustive Feature Selection"
   ]
  },
  {
   "attachments": {},
   "cell_type": "markdown",
   "metadata": {},
   "source": [
    "## FEATURE SELECTION"
   ]
  },
  {
   "attachments": {},
   "cell_type": "markdown",
   "metadata": {},
   "source": [
    "## Filter Methods"
   ]
  },
  {
   "attachments": {},
   "cell_type": "markdown",
   "metadata": {},
   "source": [
    "#### Information Gain"
   ]
  },
  {
   "cell_type": "code",
   "execution_count": 192,
   "metadata": {},
   "outputs": [],
   "source": [
    "# This function takes X , y and threshold as input and returns the features with information gain greater than threshold\n",
    "def information_gain(X,y,threshold):\n",
    "    importances = mutual_info_classif(X,y)\n",
    "    feature_importance = pd.Series(importances,X.columns)\n",
    "    # Returns the feature with maximum to mimimum importance\n",
    "    return feature_importance>threshold"
   ]
  },
  {
   "attachments": {},
   "cell_type": "markdown",
   "metadata": {},
   "source": [
    "#### Fisher's Score"
   ]
  },
  {
   "cell_type": "code",
   "execution_count": 193,
   "metadata": {},
   "outputs": [],
   "source": [
    "def FisherScore(X,y):\n",
    "    # Calculating scores\n",
    "    ranks = fisher_score.fisher_score(X,y)\n",
    "    # Plotting the ranks\n",
    "    feature_importances = pd.Series(ranks,X.columns)\n",
    "    return feature_importances"
   ]
  },
  {
   "attachments": {},
   "cell_type": "markdown",
   "metadata": {},
   "source": [
    "#### Variance Threshold"
   ]
  },
  {
   "cell_type": "code",
   "execution_count": 194,
   "metadata": {},
   "outputs": [],
   "source": [
    "def varianceThreshold(X,y,threshold):\n",
    "    X_scaled = MinMaxScaler().fit_transform(X)\n",
    "    sel = VarianceThreshold(threshold=threshold)\n",
    "    sel.fit(X)\n",
    "    return sel.get_support()"
   ]
  },
  {
   "attachments": {},
   "cell_type": "markdown",
   "metadata": {},
   "source": [
    "#### GridSearchCV"
   ]
  },
  {
   "cell_type": "code",
   "execution_count": 195,
   "metadata": {},
   "outputs": [],
   "source": [
    "def gridsearchCV(estimator,features_,):\n",
    "    gridSearchModel = GridSearchCV(estimator = estimator,\n",
    "                                   param_grid = features_,\n",
    "                                   verbose = 2,\n",
    "                                   cv=4,\n",
    "                                   n_jobs=-1,\n",
    "                                   scoring=\"accuracy\")\n",
    "    return gridSearchModel"
   ]
  },
  {
   "attachments": {},
   "cell_type": "markdown",
   "metadata": {},
   "source": [
    "## Wrapper Methods"
   ]
  },
  {
   "attachments": {},
   "cell_type": "markdown",
   "metadata": {},
   "source": [
    "#### Exhaustive Feature Selection"
   ]
  },
  {
   "cell_type": "code",
   "execution_count": 196,
   "metadata": {},
   "outputs": [],
   "source": [
    "# # This feature selection technique does all the combination of the feature, trains the model then choose only those features having best score for the model.\n",
    "# # This feature selection is memory hungry. So it is tideous job for the machie to process the combination of every single feature\n",
    "# # def exhaustive():\n",
    "# selectedColumns = varianceThreshold(X,y,0.005) #Calling variance threshodl function to return selected feature mask\n",
    "# n_features = sum(selectedColumns)\n",
    "# X_new = X[X.columns[selectedColumns]]\n",
    "# efs = ExhaustiveFeatureSelector(RandomForestClassifier(n_jobs=-1),\n",
    "#                                                            min_features = 1,\n",
    "#                                                            max_features=10,\n",
    "#                                                            scoring = \"accuracy\",\n",
    "#                                                            cv=2,\n",
    "#                                                            n_jobs=-1).fit(X_new,y)\n",
    "    \n"
   ]
  },
  {
   "cell_type": "code",
   "execution_count": 197,
   "metadata": {},
   "outputs": [],
   "source": [
    "# efs.best_features_names_"
   ]
  },
  {
   "cell_type": "code",
   "execution_count": 198,
   "metadata": {},
   "outputs": [],
   "source": [
    "# efs.best_score_"
   ]
  },
  {
   "attachments": {},
   "cell_type": "markdown",
   "metadata": {},
   "source": [
    "## MODELS"
   ]
  },
  {
   "attachments": {},
   "cell_type": "markdown",
   "metadata": {},
   "source": [
    "#### KNN"
   ]
  },
  {
   "attachments": {},
   "cell_type": "markdown",
   "metadata": {},
   "source": [
    "#### Random Forest"
   ]
  },
  {
   "cell_type": "code",
   "execution_count": 199,
   "metadata": {},
   "outputs": [],
   "source": [
    "def randomForest_():\n",
    "    randomForestmodel = RandomForestClassifier(criterion=\"gini\",\n",
    "                                               random_state=0,\n",
    "                                               n_jobs=-1,\n",
    "                                               oob_score=True)\n",
    "    features = dict(max_depth= [2,3,5,10,20],\n",
    "    min_samples_leaf= [5,10,20,50,100,200],\n",
    "    n_estimators= [10,25,30,50,100,200])\n",
    "    model = gridsearchCV(randomForestmodel,features)\n",
    "    return model"
   ]
  },
  {
   "attachments": {},
   "cell_type": "markdown",
   "metadata": {},
   "source": [
    "#### Logistic Model"
   ]
  },
  {
   "cell_type": "code",
   "execution_count": 200,
   "metadata": {},
   "outputs": [],
   "source": [
    "def logistic():\n",
    "    Logisticmodel = LogisticRegression(max_iter=1000)\n",
    "    features_ = dict(C = [0.001,0.01,0.1,1,10,100],\n",
    "                     solver = ['lbfgs', 'liblinear', 'newton-cg', 'newton-cholesky', 'sag', 'saga'])\n",
    "    model = gridsearchCV(Logisticmodel,features_)\n",
    "    return model"
   ]
  },
  {
   "attachments": {},
   "cell_type": "markdown",
   "metadata": {},
   "source": [
    "#### Decision Tree"
   ]
  },
  {
   "cell_type": "code",
   "execution_count": 201,
   "metadata": {},
   "outputs": [],
   "source": [
    "def tree():\n",
    "    # Making prediction with Decision Tree Classifier\n",
    "    dtc = DecisionTreeClassifier(random_state=0)\n",
    "    features_ = dict(criterion = [\"gini\",\"entropy\",\"log_loss\"],\n",
    "                     max_depth= [2,3,5,10,20],\n",
    "                    min_samples_leaf= [5,10,20,50,100,200])\n",
    "    model = gridsearchCV(dtc,features_)\n",
    "    return model"
   ]
  },
  {
   "attachments": {},
   "cell_type": "markdown",
   "metadata": {},
   "source": [
    "#### Support Vector Machines"
   ]
  },
  {
   "cell_type": "code",
   "execution_count": 202,
   "metadata": {},
   "outputs": [],
   "source": [
    "def svm():\n",
    "    svmmodel = SVC(random_state=0)\n",
    "    features_ = dict(C = [0.001,0.01,0.1,1,10,100],\n",
    "                     kernel=['linear', 'poly', 'rbf', 'sigmoid'])\n",
    "    model = gridsearchCV(svmmodel,features_)\n",
    "    return model"
   ]
  },
  {
   "attachments": {},
   "cell_type": "markdown",
   "metadata": {},
   "source": [
    "#### Gaussian Naive Bayes"
   ]
  },
  {
   "cell_type": "code",
   "execution_count": 203,
   "metadata": {},
   "outputs": [],
   "source": [
    "def naive():\n",
    "    # Making prediction with naive bayes model\n",
    "    gnb = GaussianNB()\n",
    "    return gnb"
   ]
  },
  {
   "attachments": {},
   "cell_type": "markdown",
   "metadata": {},
   "source": [
    "#### Hard Voting Classifier"
   ]
  },
  {
   "cell_type": "code",
   "execution_count": 204,
   "metadata": {},
   "outputs": [],
   "source": [
    "def hardVoting():\n",
    "    # Using a voting classifier\n",
    "    # Creating voting classifier with soft voiting\n",
    "    votingClassifierHard = VotingClassifier(estimators=[(\"dtc\",DecisionTreeClassifier(random_state=0)),\n",
    "                                                (\"lr\",LogisticRegression()),\n",
    "                                                (\"gnb\",GaussianNB())],\n",
    "                                                voting=\"hard\")"
   ]
  },
  {
   "attachments": {},
   "cell_type": "markdown",
   "metadata": {},
   "source": [
    "#### Soft Voting Classifier"
   ]
  },
  {
   "cell_type": "code",
   "execution_count": 205,
   "metadata": {},
   "outputs": [],
   "source": [
    "# Creating a voting classifier with hard voting\n",
    "votingClassifierSoft = VotingClassifier(estimators=[(\"dtc\",DecisionTreeClassifier(random_state=0)),\n",
    "                                                (\"lr\",LogisticRegression()),\n",
    "                                                (\"gnb\",GaussianNB())],\n",
    "                                                voting=\"soft\")"
   ]
  },
  {
   "attachments": {},
   "cell_type": "markdown",
   "metadata": {},
   "source": [
    "## Analysis"
   ]
  },
  {
   "attachments": {},
   "cell_type": "markdown",
   "metadata": {},
   "source": [
    "#### F1 score and Accuracy"
   ]
  },
  {
   "cell_type": "code",
   "execution_count": 206,
   "metadata": {},
   "outputs": [],
   "source": [
    "def analysis(model,X_test,y_test):\n",
    "    from sklearn.metrics import f1_score,accuracy_score\n",
    "    return f1_score(y_test,model.predict(X_test)), accuracy_score(y_test,model.predict(X_test))"
   ]
  },
  {
   "attachments": {},
   "cell_type": "markdown",
   "metadata": {},
   "source": [
    "#### ROC AND AUC Curve"
   ]
  },
  {
   "cell_type": "code",
   "execution_count": 207,
   "metadata": {},
   "outputs": [],
   "source": [
    "def auc_(model,X_test,y_test):\n",
    "    return roc_auc_score(y_test,model.predict(X_test))"
   ]
  },
  {
   "attachments": {},
   "cell_type": "markdown",
   "metadata": {},
   "source": [
    "#### MODEL SELECTION"
   ]
  },
  {
   "cell_type": "code",
   "execution_count": 208,
   "metadata": {},
   "outputs": [],
   "source": [
    "def modelSelection(X,y):\n",
    "    \"\"\"\n",
    "This section will split the dataset into train and test and create a dataframe for the scoring\n",
    "    \n",
    "    \"\"\"\n",
    "    X_train,X_test,y_train,y_test = train_test_split(X,\n",
    "                                                     y,\n",
    "                                                     random_state=0,\n",
    "                                                     stratify = y,\n",
    "                                                     test_size=0.2)\n",
    "    scaler = StandardScaler()\n",
    "    scaler.fit(X_train)\n",
    "    X_train = scaler.transform(X_train)\n",
    "    X_test = scaler.transform(X_test)\n",
    "    return X_train,X_test,y_train,y_test"
   ]
  },
  {
   "cell_type": "code",
   "execution_count": 209,
   "metadata": {},
   "outputs": [],
   "source": [
    "# Creating a dataframe for various results\n",
    "result_ = pd.DataFrame(columns=[\"model\",\"method\",\"n_features\",\"threshold\",\"f1Score\",\"accuracy\",\"training score\",\"auc\"])\n",
    "def result(model,feature_selection_method,f1_score,accuracy,n_features,threshold,trainingScore,auc):\n",
    "    result_.loc[len(result_.index)] = [model,feature_selection_method,n_features,threshold,f1_score,accuracy,trainingScore,auc]"
   ]
  },
  {
   "attachments": {},
   "cell_type": "markdown",
   "metadata": {},
   "source": [
    "### -------VARIANCE THRESHOLD AND MODELS"
   ]
  },
  {
   "attachments": {},
   "cell_type": "markdown",
   "metadata": {},
   "source": [
    "Outline of how the calculation is being performed\n",
    "1. Calling one of the <b>feature selection</b> function to fit the feature and stroing in a variable  say <b>\"A\"</b>\n",
    "2. Adding the selected features <b>sum(A)</b>\n",
    "3. Masking the selected feature from the main dataframe\n",
    "4. Splitting the data into training and testing\n",
    "5. Applying the model by calling the respective function with training dataset and string in a variable say \"B\"\n",
    "6. printing the best parameters gained using grid search cd\n",
    "7. Calling the <b>analysis</b> function to calculate the f1 score and accuracy of the model\n",
    "8. Finally calling the result function to make a dataframe about the scoring"
   ]
  },
  {
   "cell_type": "code",
   "execution_count": 210,
   "metadata": {},
   "outputs": [],
   "source": [
    "def PreditiveModels(X,y,methods,threshold):\n",
    "        \n",
    "        func = globals()[methods] # This is for calling function by string\n",
    "        selectedColumns = func(X,y,threshold) #Selecting the columns whose information gain is > 0.1\n",
    "        n_features = sum(selectedColumns)\n",
    "        X_new = X[X.columns[selectedColumns]] # Selecting the features with the help of mask\n",
    "        X_train,X_test,y_train,y_test = modelSelection(X_new,y) # Calling the model selection function to split the model\n",
    "\n",
    "        \n",
    "# LOGISTIC REGRESSION\n",
    "        logisticModel = logistic().fit(X_train,y_train) # Calling the logistic function to return logistic model\n",
    "        print(f\"Best model params for Logistic Regression --> {logisticModel.best_params_}\")\n",
    "        # trs_L = Training score for logistic regression \n",
    "        trs_L = logisticModel.score(X_train,y_train)\n",
    "        f1_score_logistic, accuracy_logistic = analysis(logisticModel,X_test,y_test)\n",
    "        acu_Logistic = auc_(logisticModel,X_test,y_test)\n",
    "        result(\"LogisticRegression\",methods,f1_score_logistic,accuracy_logistic,n_features,threshold,trs_L,acu_Logistic) # Creating a dataframe for the model\n",
    "        \n",
    "# DECISION TREE\n",
    "        treeModel = tree().fit(X_train,y_train)\n",
    "        print(f\"Best model params for Decision Tree --> {treeModel.best_params_}\")\n",
    "        trs_T = treeModel.score(X_train,y_train)\n",
    "        f1_score_tree, accuracy_tree = analysis(treeModel,X_test,y_test)\n",
    "        acu_decision_tree = auc_(treeModel,X_test,y_test)\n",
    "        result(\"Decison Tree\",methods,f1_score_tree,accuracy_tree,n_features,threshold,trs_T,f1_score_tree)\n",
    "\n",
    "# SUPPORT VECTOR MACHINE\n",
    "        svmModel = svm().fit(X_train,y_train)\n",
    "        print(f\"Best model params for Support Vector Machines --> {svmModel.best_params_}\")\n",
    "        trs_S = svmModel.score(X_train,y_train)\n",
    "        f1_score_svm, accuracy_svm = analysis(svmModel,X_test,y_test)\n",
    "        acu_svm = auc_(svmModel,X_test,y_test)\n",
    "        result(\"SVM\",methods,f1_score_svm,accuracy_svm,n_features,threshold,trs_S,acu_svm) # Creating a dataframe for the model\n",
    "\n",
    "#RANDOM FOREST\n",
    "        randomForestModel = randomForest_().fit(X_train,y_train)\n",
    "        trs_R = randomForestModel.score(X_train,y_train)\n",
    "        f1_score_random, accuracy_random = analysis(randomForestModel,X_test,y_test)\n",
    "        acu_random_forest = auc_(randomForestModel,X_test,y_test)\n",
    "        result(\"Random Forest\",methods,f1_score_random,accuracy_random,n_features,threshold,trs_R,acu_random_forest)\n",
    "\n",
    "#NAIVE BAYES\n",
    "        naiveModel = naive().fit(X_train,y_train)\n",
    "        trs_N = naiveModel.score(X_train,y_train)\n",
    "        f1_score_naive, accuracy_naive = analysis(naiveModel,X_test,y_test)\n",
    "        acu_naive = auc_(naiveModel,X_test,y_test)\n",
    "        result(\"Naive Bayes\",methods,f1_score_naive,accuracy_naive,n_features,threshold,trs_N,acu_naive)"
   ]
  },
  {
   "cell_type": "code",
   "execution_count": 211,
   "metadata": {},
   "outputs": [
    {
     "name": "stdout",
     "output_type": "stream",
     "text": [
      "Fitting 4 folds for each of 36 candidates, totalling 144 fits\n",
      "Best model params for Logistic Regression --> {'C': 0.01, 'solver': 'lbfgs'}\n",
      "Fitting 4 folds for each of 90 candidates, totalling 360 fits\n",
      "Best model params for Decision Tree --> {'criterion': 'entropy', 'max_depth': 3, 'min_samples_leaf': 5}\n",
      "Fitting 4 folds for each of 24 candidates, totalling 96 fits\n",
      "Best model params for Support Vector Machines --> {'C': 10, 'kernel': 'rbf'}\n",
      "Fitting 4 folds for each of 180 candidates, totalling 720 fits\n"
     ]
    }
   ],
   "source": [
    "PreditiveModels(X,y,\"information_gain\",0.1)"
   ]
  },
  {
   "cell_type": "code",
   "execution_count": 212,
   "metadata": {},
   "outputs": [
    {
     "name": "stdout",
     "output_type": "stream",
     "text": [
      "Fitting 4 folds for each of 36 candidates, totalling 144 fits\n",
      "Best model params for Logistic Regression --> {'C': 1, 'solver': 'lbfgs'}\n",
      "Fitting 4 folds for each of 90 candidates, totalling 360 fits\n",
      "Best model params for Decision Tree --> {'criterion': 'entropy', 'max_depth': 10, 'min_samples_leaf': 5}\n",
      "Fitting 4 folds for each of 24 candidates, totalling 96 fits\n",
      "Best model params for Support Vector Machines --> {'C': 10, 'kernel': 'rbf'}\n",
      "Fitting 4 folds for each of 180 candidates, totalling 720 fits\n"
     ]
    }
   ],
   "source": [
    "PreditiveModels(X,y,\"varianceThreshold\",0.05)"
   ]
  },
  {
   "cell_type": "code",
   "execution_count": 213,
   "metadata": {},
   "outputs": [
    {
     "name": "stdout",
     "output_type": "stream",
     "text": [
      "Fitting 4 folds for each of 36 candidates, totalling 144 fits\n",
      "Best model params for Logistic Regression --> {'C': 0.1, 'solver': 'lbfgs'}\n",
      "Fitting 4 folds for each of 90 candidates, totalling 360 fits\n",
      "Best model params for Decision Tree --> {'criterion': 'entropy', 'max_depth': 3, 'min_samples_leaf': 10}\n",
      "Fitting 4 folds for each of 24 candidates, totalling 96 fits\n",
      "Best model params for Support Vector Machines --> {'C': 100, 'kernel': 'rbf'}\n",
      "Fitting 4 folds for each of 180 candidates, totalling 720 fits\n"
     ]
    }
   ],
   "source": [
    "PreditiveModels(X,y,\"varianceThreshold\",0.01)"
   ]
  },
  {
   "cell_type": "code",
   "execution_count": 214,
   "metadata": {},
   "outputs": [
    {
     "data": {
      "text/html": [
       "<div>\n",
       "<style scoped>\n",
       "    .dataframe tbody tr th:only-of-type {\n",
       "        vertical-align: middle;\n",
       "    }\n",
       "\n",
       "    .dataframe tbody tr th {\n",
       "        vertical-align: top;\n",
       "    }\n",
       "\n",
       "    .dataframe thead th {\n",
       "        text-align: right;\n",
       "    }\n",
       "</style>\n",
       "<table border=\"1\" class=\"dataframe\">\n",
       "  <thead>\n",
       "    <tr style=\"text-align: right;\">\n",
       "      <th></th>\n",
       "      <th>model</th>\n",
       "      <th>method</th>\n",
       "      <th>n_features</th>\n",
       "      <th>threshold</th>\n",
       "      <th>f1Score</th>\n",
       "      <th>accuracy</th>\n",
       "      <th>training score</th>\n",
       "      <th>auc</th>\n",
       "    </tr>\n",
       "  </thead>\n",
       "  <tbody>\n",
       "    <tr>\n",
       "      <th>0</th>\n",
       "      <td>LogisticRegression</td>\n",
       "      <td>information_gain</td>\n",
       "      <td>16</td>\n",
       "      <td>0.10</td>\n",
       "      <td>0.903226</td>\n",
       "      <td>0.846154</td>\n",
       "      <td>0.852564</td>\n",
       "      <td>0.732759</td>\n",
       "    </tr>\n",
       "    <tr>\n",
       "      <th>1</th>\n",
       "      <td>Decison Tree</td>\n",
       "      <td>information_gain</td>\n",
       "      <td>16</td>\n",
       "      <td>0.10</td>\n",
       "      <td>0.872727</td>\n",
       "      <td>0.820513</td>\n",
       "      <td>0.929487</td>\n",
       "      <td>0.872727</td>\n",
       "    </tr>\n",
       "    <tr>\n",
       "      <th>2</th>\n",
       "      <td>SVM</td>\n",
       "      <td>information_gain</td>\n",
       "      <td>16</td>\n",
       "      <td>0.10</td>\n",
       "      <td>0.949153</td>\n",
       "      <td>0.923077</td>\n",
       "      <td>0.929487</td>\n",
       "      <td>0.882759</td>\n",
       "    </tr>\n",
       "    <tr>\n",
       "      <th>3</th>\n",
       "      <td>Random Forest</td>\n",
       "      <td>information_gain</td>\n",
       "      <td>16</td>\n",
       "      <td>0.10</td>\n",
       "      <td>0.892857</td>\n",
       "      <td>0.846154</td>\n",
       "      <td>0.923077</td>\n",
       "      <td>0.831034</td>\n",
       "    </tr>\n",
       "    <tr>\n",
       "      <th>4</th>\n",
       "      <td>Naive Bayes</td>\n",
       "      <td>information_gain</td>\n",
       "      <td>16</td>\n",
       "      <td>0.10</td>\n",
       "      <td>0.695652</td>\n",
       "      <td>0.641026</td>\n",
       "      <td>0.743590</td>\n",
       "      <td>0.725862</td>\n",
       "    </tr>\n",
       "    <tr>\n",
       "      <th>5</th>\n",
       "      <td>LogisticRegression</td>\n",
       "      <td>varianceThreshold</td>\n",
       "      <td>6</td>\n",
       "      <td>0.05</td>\n",
       "      <td>0.857143</td>\n",
       "      <td>0.794872</td>\n",
       "      <td>0.871795</td>\n",
       "      <td>0.763793</td>\n",
       "    </tr>\n",
       "    <tr>\n",
       "      <th>6</th>\n",
       "      <td>Decison Tree</td>\n",
       "      <td>varianceThreshold</td>\n",
       "      <td>6</td>\n",
       "      <td>0.05</td>\n",
       "      <td>0.950820</td>\n",
       "      <td>0.923077</td>\n",
       "      <td>0.923077</td>\n",
       "      <td>0.950820</td>\n",
       "    </tr>\n",
       "    <tr>\n",
       "      <th>7</th>\n",
       "      <td>SVM</td>\n",
       "      <td>varianceThreshold</td>\n",
       "      <td>6</td>\n",
       "      <td>0.05</td>\n",
       "      <td>0.949153</td>\n",
       "      <td>0.923077</td>\n",
       "      <td>0.948718</td>\n",
       "      <td>0.882759</td>\n",
       "    </tr>\n",
       "    <tr>\n",
       "      <th>8</th>\n",
       "      <td>Random Forest</td>\n",
       "      <td>varianceThreshold</td>\n",
       "      <td>6</td>\n",
       "      <td>0.05</td>\n",
       "      <td>0.933333</td>\n",
       "      <td>0.897436</td>\n",
       "      <td>0.948718</td>\n",
       "      <td>0.832759</td>\n",
       "    </tr>\n",
       "    <tr>\n",
       "      <th>9</th>\n",
       "      <td>Naive Bayes</td>\n",
       "      <td>varianceThreshold</td>\n",
       "      <td>6</td>\n",
       "      <td>0.05</td>\n",
       "      <td>0.821429</td>\n",
       "      <td>0.743590</td>\n",
       "      <td>0.839744</td>\n",
       "      <td>0.696552</td>\n",
       "    </tr>\n",
       "    <tr>\n",
       "      <th>10</th>\n",
       "      <td>LogisticRegression</td>\n",
       "      <td>varianceThreshold</td>\n",
       "      <td>8</td>\n",
       "      <td>0.01</td>\n",
       "      <td>0.862069</td>\n",
       "      <td>0.794872</td>\n",
       "      <td>0.839744</td>\n",
       "      <td>0.731034</td>\n",
       "    </tr>\n",
       "    <tr>\n",
       "      <th>11</th>\n",
       "      <td>Decison Tree</td>\n",
       "      <td>varianceThreshold</td>\n",
       "      <td>8</td>\n",
       "      <td>0.01</td>\n",
       "      <td>0.888889</td>\n",
       "      <td>0.846154</td>\n",
       "      <td>0.923077</td>\n",
       "      <td>0.888889</td>\n",
       "    </tr>\n",
       "    <tr>\n",
       "      <th>12</th>\n",
       "      <td>SVM</td>\n",
       "      <td>varianceThreshold</td>\n",
       "      <td>8</td>\n",
       "      <td>0.01</td>\n",
       "      <td>0.965517</td>\n",
       "      <td>0.948718</td>\n",
       "      <td>1.000000</td>\n",
       "      <td>0.932759</td>\n",
       "    </tr>\n",
       "    <tr>\n",
       "      <th>13</th>\n",
       "      <td>Random Forest</td>\n",
       "      <td>varianceThreshold</td>\n",
       "      <td>8</td>\n",
       "      <td>0.01</td>\n",
       "      <td>0.915254</td>\n",
       "      <td>0.871795</td>\n",
       "      <td>0.955128</td>\n",
       "      <td>0.815517</td>\n",
       "    </tr>\n",
       "    <tr>\n",
       "      <th>14</th>\n",
       "      <td>Naive Bayes</td>\n",
       "      <td>varianceThreshold</td>\n",
       "      <td>8</td>\n",
       "      <td>0.01</td>\n",
       "      <td>0.769231</td>\n",
       "      <td>0.692308</td>\n",
       "      <td>0.839744</td>\n",
       "      <td>0.694828</td>\n",
       "    </tr>\n",
       "  </tbody>\n",
       "</table>\n",
       "</div>"
      ],
      "text/plain": [
       "                 model             method  n_features  threshold   f1Score  \\\n",
       "0   LogisticRegression   information_gain          16       0.10  0.903226   \n",
       "1         Decison Tree   information_gain          16       0.10  0.872727   \n",
       "2                  SVM   information_gain          16       0.10  0.949153   \n",
       "3        Random Forest   information_gain          16       0.10  0.892857   \n",
       "4          Naive Bayes   information_gain          16       0.10  0.695652   \n",
       "5   LogisticRegression  varianceThreshold           6       0.05  0.857143   \n",
       "6         Decison Tree  varianceThreshold           6       0.05  0.950820   \n",
       "7                  SVM  varianceThreshold           6       0.05  0.949153   \n",
       "8        Random Forest  varianceThreshold           6       0.05  0.933333   \n",
       "9          Naive Bayes  varianceThreshold           6       0.05  0.821429   \n",
       "10  LogisticRegression  varianceThreshold           8       0.01  0.862069   \n",
       "11        Decison Tree  varianceThreshold           8       0.01  0.888889   \n",
       "12                 SVM  varianceThreshold           8       0.01  0.965517   \n",
       "13       Random Forest  varianceThreshold           8       0.01  0.915254   \n",
       "14         Naive Bayes  varianceThreshold           8       0.01  0.769231   \n",
       "\n",
       "    accuracy  training score       auc  \n",
       "0   0.846154        0.852564  0.732759  \n",
       "1   0.820513        0.929487  0.872727  \n",
       "2   0.923077        0.929487  0.882759  \n",
       "3   0.846154        0.923077  0.831034  \n",
       "4   0.641026        0.743590  0.725862  \n",
       "5   0.794872        0.871795  0.763793  \n",
       "6   0.923077        0.923077  0.950820  \n",
       "7   0.923077        0.948718  0.882759  \n",
       "8   0.897436        0.948718  0.832759  \n",
       "9   0.743590        0.839744  0.696552  \n",
       "10  0.794872        0.839744  0.731034  \n",
       "11  0.846154        0.923077  0.888889  \n",
       "12  0.948718        1.000000  0.932759  \n",
       "13  0.871795        0.955128  0.815517  \n",
       "14  0.692308        0.839744  0.694828  "
      ]
     },
     "execution_count": 214,
     "metadata": {},
     "output_type": "execute_result"
    }
   ],
   "source": [
    "result_"
   ]
  },
  {
   "attachments": {},
   "cell_type": "markdown",
   "metadata": {},
   "source": [
    "# ANALYSIS"
   ]
  },
  {
   "attachments": {},
   "cell_type": "markdown",
   "metadata": {},
   "source": [
    "### WITH INFORMATION GAIN= 0.1"
   ]
  },
  {
   "cell_type": "code",
   "execution_count": 215,
   "metadata": {},
   "outputs": [
    {
     "data": {
      "text/html": [
       "<div>\n",
       "<style scoped>\n",
       "    .dataframe tbody tr th:only-of-type {\n",
       "        vertical-align: middle;\n",
       "    }\n",
       "\n",
       "    .dataframe tbody tr th {\n",
       "        vertical-align: top;\n",
       "    }\n",
       "\n",
       "    .dataframe thead th {\n",
       "        text-align: right;\n",
       "    }\n",
       "</style>\n",
       "<table border=\"1\" class=\"dataframe\">\n",
       "  <thead>\n",
       "    <tr style=\"text-align: right;\">\n",
       "      <th></th>\n",
       "      <th>model</th>\n",
       "      <th>method</th>\n",
       "      <th>n_features</th>\n",
       "      <th>threshold</th>\n",
       "      <th>f1Score</th>\n",
       "      <th>accuracy</th>\n",
       "      <th>training score</th>\n",
       "      <th>auc</th>\n",
       "    </tr>\n",
       "  </thead>\n",
       "  <tbody>\n",
       "    <tr>\n",
       "      <th>0</th>\n",
       "      <td>LogisticRegression</td>\n",
       "      <td>information_gain</td>\n",
       "      <td>16</td>\n",
       "      <td>0.1</td>\n",
       "      <td>0.903226</td>\n",
       "      <td>0.846154</td>\n",
       "      <td>0.852564</td>\n",
       "      <td>0.732759</td>\n",
       "    </tr>\n",
       "    <tr>\n",
       "      <th>1</th>\n",
       "      <td>Decison Tree</td>\n",
       "      <td>information_gain</td>\n",
       "      <td>16</td>\n",
       "      <td>0.1</td>\n",
       "      <td>0.872727</td>\n",
       "      <td>0.820513</td>\n",
       "      <td>0.929487</td>\n",
       "      <td>0.872727</td>\n",
       "    </tr>\n",
       "    <tr>\n",
       "      <th>2</th>\n",
       "      <td>SVM</td>\n",
       "      <td>information_gain</td>\n",
       "      <td>16</td>\n",
       "      <td>0.1</td>\n",
       "      <td>0.949153</td>\n",
       "      <td>0.923077</td>\n",
       "      <td>0.929487</td>\n",
       "      <td>0.882759</td>\n",
       "    </tr>\n",
       "    <tr>\n",
       "      <th>3</th>\n",
       "      <td>Random Forest</td>\n",
       "      <td>information_gain</td>\n",
       "      <td>16</td>\n",
       "      <td>0.1</td>\n",
       "      <td>0.892857</td>\n",
       "      <td>0.846154</td>\n",
       "      <td>0.923077</td>\n",
       "      <td>0.831034</td>\n",
       "    </tr>\n",
       "    <tr>\n",
       "      <th>4</th>\n",
       "      <td>Naive Bayes</td>\n",
       "      <td>information_gain</td>\n",
       "      <td>16</td>\n",
       "      <td>0.1</td>\n",
       "      <td>0.695652</td>\n",
       "      <td>0.641026</td>\n",
       "      <td>0.743590</td>\n",
       "      <td>0.725862</td>\n",
       "    </tr>\n",
       "  </tbody>\n",
       "</table>\n",
       "</div>"
      ],
      "text/plain": [
       "                model            method  n_features  threshold   f1Score  \\\n",
       "0  LogisticRegression  information_gain          16        0.1  0.903226   \n",
       "1        Decison Tree  information_gain          16        0.1  0.872727   \n",
       "2                 SVM  information_gain          16        0.1  0.949153   \n",
       "3       Random Forest  information_gain          16        0.1  0.892857   \n",
       "4         Naive Bayes  information_gain          16        0.1  0.695652   \n",
       "\n",
       "   accuracy  training score       auc  \n",
       "0  0.846154        0.852564  0.732759  \n",
       "1  0.820513        0.929487  0.872727  \n",
       "2  0.923077        0.929487  0.882759  \n",
       "3  0.846154        0.923077  0.831034  \n",
       "4  0.641026        0.743590  0.725862  "
      ]
     },
     "execution_count": 215,
     "metadata": {},
     "output_type": "execute_result"
    }
   ],
   "source": [
    "df1 = result_[(result_[\"method\"]==\"information_gain\")& (result_[\"threshold\"]==0.10)]\n",
    "df1"
   ]
  },
  {
   "cell_type": "code",
   "execution_count": 216,
   "metadata": {},
   "outputs": [
    {
     "data": {
      "text/plain": [
       "(5, 8)"
      ]
     },
     "execution_count": 216,
     "metadata": {},
     "output_type": "execute_result"
    }
   ],
   "source": [
    "df1.shape"
   ]
  },
  {
   "cell_type": "code",
   "execution_count": 217,
   "metadata": {},
   "outputs": [],
   "source": [
    "def plotting(dataframe_,title1,title2,supertitle):\n",
    "\n",
    "    sns.set_palette(\"Paired\") # This is for theming palette\n",
    "    plt.figure(figsize=(25,5)) # Setting up the figure size\n",
    "    x = np.arange(dataframe_.shape[0]) # For x ticks purpose \n",
    "\n",
    "\n",
    "    plt.subplot(1,2,1) # First subplot\n",
    "    plt.suptitle(supertitle,fontsize=15)\n",
    "\n",
    "    plt.bar(x,dataframe_[\"training score\"],width=0.3,label=\"train\") # Plotting the line graph for training score\n",
    "    for index,values in zip(x,dataframe_[\"training score\"]): # This is for adding text to the graph\n",
    "        plt.text(index-0.1,values/2,f\"{values:.2f}\",color=\"#576CBC\")\n",
    "\n",
    "    plt.bar(x+0.3,dataframe_[\"accuracy\"],\n",
    "            width=0.3,\n",
    "            label=\"accuracy\")\n",
    "    for index,values in zip(x,dataframe_[\"accuracy\"]):\n",
    "        plt.text(index+0.2,values/2,f\"{values:.2f}\",color=\"#FFF2CC\")\n",
    "\n",
    "    plt.xticks(x,dataframe_[\"model\"],rotation=50)\n",
    "    plt.title(title1)\n",
    "    plt.xlabel(\"Models\")\n",
    "    plt.ylabel(\"Training and Testing score\")\n",
    "    plt.legend()\n",
    "\n",
    "\n",
    "    plt.subplot(1,2,2)\n",
    "\n",
    "\n",
    "    plt.bar(x,dataframe_[\"f1Score\"],width=0.3,label=\"f1Score\")\n",
    "\n",
    "    for index,values in zip(x,dataframe_[\"f1Score\"]):\n",
    "        plt.text(index,values/2,f\"{values:.2f}\",verticalalignment=\"bottom\",horizontalalignment='center',color=\"#0B2447\",fontsize=\"small\")\n",
    "    \n",
    "    plt.bar(x+0.3,dataframe_[\"auc\"],width=0.3,label=\"auc\")\n",
    "\n",
    "    for index,values in zip(x,dataframe_[\"auc\"]):\n",
    "        plt.text(index+0.3,values/2,f\"{values:.2f}\",verticalalignment=\"bottom\",horizontalalignment='center',color=\"#0B2447\",fontsize=\"small\")\n",
    "\n",
    "    \n",
    "    plt.xticks(x,dataframe_[\"model\"],rotation=45)\n",
    "    plt.title(title2)\n",
    "    plt.xlabel(\"Models\")\n",
    "    plt.ylabel(\"Score\")\n",
    "    plt.legend()\n",
    "    plt.show()\n"
   ]
  },
  {
   "cell_type": "code",
   "execution_count": 218,
   "metadata": {},
   "outputs": [
    {
     "data": {
      "image/png": "[encoded data removed]",
      "text/plain": [
       "<Figure size 2500x500 with 2 Axes>"
      ]
     },
     "metadata": {},
     "output_type": "display_data"
    }
   ],
   "source": [
    "plotting(df1,title1 = \"Training and testing accuracy for models \",title2 = \"f1_score and auc for models\",supertitle=\"Information Gain = 0.1\")"
   ]
  },
  {
   "attachments": {},
   "cell_type": "markdown",
   "metadata": {},
   "source": [
    "Naive Bayes is the worst performer here \\\n",
    "Decision Tree is clearly overfitting \\\n",
    "<B>Random Forest</B> is doing better job for f1 score and accuracy as well as training and testing score"
   ]
  },
  {
   "attachments": {},
   "cell_type": "markdown",
   "metadata": {},
   "source": [
    "### VARIANCE THRESHOLD = 0.05"
   ]
  },
  {
   "cell_type": "code",
   "execution_count": 219,
   "metadata": {},
   "outputs": [
    {
     "data": {
      "text/html": [
       "<div>\n",
       "<style scoped>\n",
       "    .dataframe tbody tr th:only-of-type {\n",
       "        vertical-align: middle;\n",
       "    }\n",
       "\n",
       "    .dataframe tbody tr th {\n",
       "        vertical-align: top;\n",
       "    }\n",
       "\n",
       "    .dataframe thead th {\n",
       "        text-align: right;\n",
       "    }\n",
       "</style>\n",
       "<table border=\"1\" class=\"dataframe\">\n",
       "  <thead>\n",
       "    <tr style=\"text-align: right;\">\n",
       "      <th></th>\n",
       "      <th>model</th>\n",
       "      <th>method</th>\n",
       "      <th>n_features</th>\n",
       "      <th>threshold</th>\n",
       "      <th>f1Score</th>\n",
       "      <th>accuracy</th>\n",
       "      <th>training score</th>\n",
       "      <th>auc</th>\n",
       "    </tr>\n",
       "  </thead>\n",
       "  <tbody>\n",
       "    <tr>\n",
       "      <th>0</th>\n",
       "      <td>LogisticRegression</td>\n",
       "      <td>varianceThreshold</td>\n",
       "      <td>6</td>\n",
       "      <td>0.05</td>\n",
       "      <td>0.857143</td>\n",
       "      <td>0.794872</td>\n",
       "      <td>0.871795</td>\n",
       "      <td>0.763793</td>\n",
       "    </tr>\n",
       "    <tr>\n",
       "      <th>1</th>\n",
       "      <td>Decison Tree</td>\n",
       "      <td>varianceThreshold</td>\n",
       "      <td>6</td>\n",
       "      <td>0.05</td>\n",
       "      <td>0.950820</td>\n",
       "      <td>0.923077</td>\n",
       "      <td>0.923077</td>\n",
       "      <td>0.950820</td>\n",
       "    </tr>\n",
       "    <tr>\n",
       "      <th>2</th>\n",
       "      <td>SVM</td>\n",
       "      <td>varianceThreshold</td>\n",
       "      <td>6</td>\n",
       "      <td>0.05</td>\n",
       "      <td>0.949153</td>\n",
       "      <td>0.923077</td>\n",
       "      <td>0.948718</td>\n",
       "      <td>0.882759</td>\n",
       "    </tr>\n",
       "    <tr>\n",
       "      <th>3</th>\n",
       "      <td>Random Forest</td>\n",
       "      <td>varianceThreshold</td>\n",
       "      <td>6</td>\n",
       "      <td>0.05</td>\n",
       "      <td>0.933333</td>\n",
       "      <td>0.897436</td>\n",
       "      <td>0.948718</td>\n",
       "      <td>0.832759</td>\n",
       "    </tr>\n",
       "    <tr>\n",
       "      <th>4</th>\n",
       "      <td>Naive Bayes</td>\n",
       "      <td>varianceThreshold</td>\n",
       "      <td>6</td>\n",
       "      <td>0.05</td>\n",
       "      <td>0.821429</td>\n",
       "      <td>0.743590</td>\n",
       "      <td>0.839744</td>\n",
       "      <td>0.696552</td>\n",
       "    </tr>\n",
       "  </tbody>\n",
       "</table>\n",
       "</div>"
      ],
      "text/plain": [
       "                model             method  n_features  threshold   f1Score  \\\n",
       "0  LogisticRegression  varianceThreshold           6       0.05  0.857143   \n",
       "1        Decison Tree  varianceThreshold           6       0.05  0.950820   \n",
       "2                 SVM  varianceThreshold           6       0.05  0.949153   \n",
       "3       Random Forest  varianceThreshold           6       0.05  0.933333   \n",
       "4         Naive Bayes  varianceThreshold           6       0.05  0.821429   \n",
       "\n",
       "   accuracy  training score       auc  \n",
       "0  0.794872        0.871795  0.763793  \n",
       "1  0.923077        0.923077  0.950820  \n",
       "2  0.923077        0.948718  0.882759  \n",
       "3  0.897436        0.948718  0.832759  \n",
       "4  0.743590        0.839744  0.696552  "
      ]
     },
     "execution_count": 219,
     "metadata": {},
     "output_type": "execute_result"
    }
   ],
   "source": [
    "df2 = result_[(result_[\"method\"]==\"varianceThreshold\")& (result_[\"threshold\"]==0.05)].reset_index(drop=True)\n",
    "df2"
   ]
  },
  {
   "cell_type": "code",
   "execution_count": 220,
   "metadata": {},
   "outputs": [
    {
     "data": {
      "image/png": "[encoded data removed]",
      "text/plain": [
       "<Figure size 2500x500 with 2 Axes>"
      ]
     },
     "metadata": {},
     "output_type": "display_data"
    }
   ],
   "source": [
    "plotting(df2,title1 = \"Training and testing accuracy for models\",title2 = \"f1_score and auc for models\",supertitle=\"Variance threshold = 0.05\")"
   ]
  },
  {
   "attachments": {},
   "cell_type": "markdown",
   "metadata": {},
   "source": [
    "### VARIANCE THRESHOLD = 0.001  "
   ]
  },
  {
   "cell_type": "code",
   "execution_count": 221,
   "metadata": {},
   "outputs": [
    {
     "data": {
      "text/html": [
       "<div>\n",
       "<style scoped>\n",
       "    .dataframe tbody tr th:only-of-type {\n",
       "        vertical-align: middle;\n",
       "    }\n",
       "\n",
       "    .dataframe tbody tr th {\n",
       "        vertical-align: top;\n",
       "    }\n",
       "\n",
       "    .dataframe thead th {\n",
       "        text-align: right;\n",
       "    }\n",
       "</style>\n",
       "<table border=\"1\" class=\"dataframe\">\n",
       "  <thead>\n",
       "    <tr style=\"text-align: right;\">\n",
       "      <th></th>\n",
       "      <th>model</th>\n",
       "      <th>method</th>\n",
       "      <th>n_features</th>\n",
       "      <th>threshold</th>\n",
       "      <th>f1Score</th>\n",
       "      <th>accuracy</th>\n",
       "      <th>training score</th>\n",
       "      <th>auc</th>\n",
       "    </tr>\n",
       "  </thead>\n",
       "  <tbody>\n",
       "    <tr>\n",
       "      <th>0</th>\n",
       "      <td>LogisticRegression</td>\n",
       "      <td>varianceThreshold</td>\n",
       "      <td>8</td>\n",
       "      <td>0.01</td>\n",
       "      <td>0.862069</td>\n",
       "      <td>0.794872</td>\n",
       "      <td>0.839744</td>\n",
       "      <td>0.731034</td>\n",
       "    </tr>\n",
       "    <tr>\n",
       "      <th>1</th>\n",
       "      <td>Decison Tree</td>\n",
       "      <td>varianceThreshold</td>\n",
       "      <td>8</td>\n",
       "      <td>0.01</td>\n",
       "      <td>0.888889</td>\n",
       "      <td>0.846154</td>\n",
       "      <td>0.923077</td>\n",
       "      <td>0.888889</td>\n",
       "    </tr>\n",
       "    <tr>\n",
       "      <th>2</th>\n",
       "      <td>SVM</td>\n",
       "      <td>varianceThreshold</td>\n",
       "      <td>8</td>\n",
       "      <td>0.01</td>\n",
       "      <td>0.965517</td>\n",
       "      <td>0.948718</td>\n",
       "      <td>1.000000</td>\n",
       "      <td>0.932759</td>\n",
       "    </tr>\n",
       "    <tr>\n",
       "      <th>3</th>\n",
       "      <td>Random Forest</td>\n",
       "      <td>varianceThreshold</td>\n",
       "      <td>8</td>\n",
       "      <td>0.01</td>\n",
       "      <td>0.915254</td>\n",
       "      <td>0.871795</td>\n",
       "      <td>0.955128</td>\n",
       "      <td>0.815517</td>\n",
       "    </tr>\n",
       "    <tr>\n",
       "      <th>4</th>\n",
       "      <td>Naive Bayes</td>\n",
       "      <td>varianceThreshold</td>\n",
       "      <td>8</td>\n",
       "      <td>0.01</td>\n",
       "      <td>0.769231</td>\n",
       "      <td>0.692308</td>\n",
       "      <td>0.839744</td>\n",
       "      <td>0.694828</td>\n",
       "    </tr>\n",
       "  </tbody>\n",
       "</table>\n",
       "</div>"
      ],
      "text/plain": [
       "                model             method  n_features  threshold   f1Score  \\\n",
       "0  LogisticRegression  varianceThreshold           8       0.01  0.862069   \n",
       "1        Decison Tree  varianceThreshold           8       0.01  0.888889   \n",
       "2                 SVM  varianceThreshold           8       0.01  0.965517   \n",
       "3       Random Forest  varianceThreshold           8       0.01  0.915254   \n",
       "4         Naive Bayes  varianceThreshold           8       0.01  0.769231   \n",
       "\n",
       "   accuracy  training score       auc  \n",
       "0  0.794872        0.839744  0.731034  \n",
       "1  0.846154        0.923077  0.888889  \n",
       "2  0.948718        1.000000  0.932759  \n",
       "3  0.871795        0.955128  0.815517  \n",
       "4  0.692308        0.839744  0.694828  "
      ]
     },
     "execution_count": 221,
     "metadata": {},
     "output_type": "execute_result"
    }
   ],
   "source": [
    "df3 = result_[(result_[\"method\"]==\"varianceThreshold\") & (result_[\"threshold\"]==0.01)].reset_index(drop=True)\n",
    "df3"
   ]
  },
  {
   "cell_type": "code",
   "execution_count": 222,
   "metadata": {},
   "outputs": [
    {
     "data": {
      "image/png": "[encoded data removed]",
      "text/plain": [
       "<Figure size 2500x500 with 2 Axes>"
      ]
     },
     "metadata": {},
     "output_type": "display_data"
    }
   ],
   "source": [
    "plotting(df3,title1 = \"Training and testing accuracy for models\",title2 = \"f1_score and auc for models\",supertitle=\"Variance threshold = 0.01\")"
   ]
  },
  {
   "attachments": {},
   "cell_type": "markdown",
   "metadata": {},
   "source": [
    "# ENSEMBLE METHODS"
   ]
  },
  {
   "attachments": {},
   "cell_type": "markdown",
   "metadata": {},
   "source": [
    "### Genetic Algorithm"
   ]
  },
  {
   "attachments": {},
   "cell_type": "markdown",
   "metadata": {},
   "source": [
    "#### Imports"
   ]
  },
  {
   "cell_type": "code",
   "execution_count": 223,
   "metadata": {},
   "outputs": [],
   "source": [
    "from genetic_selection import GeneticSelectionCV"
   ]
  },
  {
   "cell_type": "code",
   "execution_count": 224,
   "metadata": {},
   "outputs": [],
   "source": [
    "def geneticSelection():\n",
    "    estimator = svm()\n",
    "    model = GeneticSelectionCV(estimator,\n",
    "                               cv=5,\n",
    "                               verbose=3,\n",
    "                               scoring=\"f1\",\n",
    "                               max_features=10,\n",
    "                               n_population=100,\n",
    "                               crossover_proba=0.5,\n",
    "                               mutation_proba=0.2,\n",
    "                               n_generations=50,\n",
    "                               crossover_independent_proba=0.5,\n",
    "                               mutation_independent_proba=0.04,\n",
    "                               tournament_size=3,\n",
    "                               n_gen_no_change=10,\n",
    "                               caching=True,\n",
    "                               n_jobs=-1)\n",
    "    return model"
   ]
  },
  {
   "cell_type": "code",
   "execution_count": 225,
   "metadata": {},
   "outputs": [],
   "source": [
    "X_train,X_test,y_train,y_test = modelSelection(X,y)"
   ]
  },
  {
   "cell_type": "code",
   "execution_count": 226,
   "metadata": {},
   "outputs": [
    {
     "name": "stdout",
     "output_type": "stream",
     "text": [
      "Selecting features with genetic algorithm.\n",
      "gen\tnevals\tavg                            \tstd                            \tmin                            \tmax                               \n",
      "0  \t100   \t[ 0.896116  5.54      0.032355]\t[ 0.0237    2.944215  0.010828]\t[ 0.848417  1.        0.00633 ]\t[  0.948928  10.         0.064697]\n",
      "1  \t60    \t[-299.114639    6.84      300.033154]\t[ 1706.027913     2.386294  1705.86638 ]\t[-10000.            2.            0.014349]\t[     0.951282     12.        10000.      ]\n",
      "2  \t63    \t[ 0.924305  7.11      0.031968]      \t[ 0.017493  1.964154  0.009   ]         \t[ 0.876062  2.        0.013068]            \t[  0.962234  10.         0.054179]         \n",
      "3  \t54    \t[-199.086076    7.15      200.030096]\t[ 1400.130561     2.006863  1399.995701]\t[-10000.            2.            0.013068]\t[     0.962234     12.        10000.      ]\n",
      "4  \t62    \t[-299.090201    7.38      300.028419]\t[ 1706.032211     1.820879  1705.867213]\t[-10000.            2.            0.013331]\t[     0.97039     11.       10000.     ]   \n",
      "5  \t65    \t[-199.071706    7.73      200.02651 ]\t[ 1400.132614     1.719622  1399.996213]\t[-10000.           4.           0.00131]   \t[     0.974468     13.        10000.      ]\n",
      "6  \t65    \t[-399.080688    8.19      400.023661]\t[ 1959.779448     1.433143  1959.586965]\t[-10000.            5.            0.009065]\t[     0.978723     13.        10000.      ]\n",
      "7  \t69    \t[-599.095027    8.75      600.021162]\t[ 2375.097055     1.366565  2374.863071]\t[-10000.            5.            0.013473]\t[     0.978723     12.        10000.      ]\n",
      "8  \t44    \t[-499.07999     9.12      500.020159]\t[ 2179.660536     1.328759  2179.444847]\t[-10000.            5.            0.014874]\t[     0.978723     12.        10000.      ]\n",
      "9  \t60    \t[-599.090186    9.09      600.020981]\t[ 2375.098278     1.304569  2374.863117]\t[-10000.            5.            0.013474]\t[     0.978723     12.        10000.      ]\n",
      "10 \t60    \t[-999.127925    9.36     1000.020324]\t[ 3000.290692     1.276871  2999.993225]\t[-10000.            6.            0.015833]\t[     0.978723     13.        10000.      ]\n",
      "11 \t49    \t[-999.127138    9.3      1000.020599]\t[ 3000.290954     1.382027  2999.993134]\t[-10000.            5.            0.015833]\t[     0.978723     12.        10000.      ]\n",
      "12 \t48    \t[-899.114761    9.53      900.020817]\t[ 2862.095999     1.228454  2861.811058]\t[-10000.            6.            0.015934]\t[     0.978723     12.        10000.      ]\n",
      "13 \t65    \t[-799.105922    9.53      800.021692]\t[ 2713.195643     1.252637  2712.925597]\t[-10000.            6.            0.015878]\t[     0.978723     12.        10000.      ]\n",
      "14 \t62    \t[-99.037097   8.99     100.022241]   \t[ 995.084212    1.445649  994.985202]   \t[-10000.            6.            0.015833]\t[     0.978723     11.        10000.      ]\n",
      "15 \t53    \t[-299.057635    8.81      300.02368 ]\t[ 1706.037938     1.775922  1705.868046]\t[-10000.            4.            0.015833]\t[     0.978723     12.        10000.      ]\n",
      "16 \t61    \t[-299.056902    8.19      300.021584]\t[ 1706.038067     1.747541  1705.868415]\t[-10000.            6.            0.013474]\t[     0.978723     11.        10000.      ]\n",
      "Fitting 4 folds for each of 24 candidates, totalling 96 fits\n"
     ]
    },
    {
     "data": {
      "text/plain": [
       "GeneticSelectionCV(caching=True, crossover_independent_proba=0.5, cv=5,\n",
       "                   estimator=GridSearchCV(cv=4, estimator=SVC(random_state=0),\n",
       "                                          n_jobs=-1,\n",
       "                                          param_grid={'C': [0.001, 0.01, 0.1, 1,\n",
       "                                                            10, 100],\n",
       "                                                      'kernel': ['linear',\n",
       "                                                                 'poly', 'rbf',\n",
       "                                                                 'sigmoid']},\n",
       "                                          scoring='accuracy', verbose=2),\n",
       "                   max_features=10, mutation_independent_proba=0.04,\n",
       "                   n_gen_no_change=10, n_generations=50, n_jobs=-1,\n",
       "                   n_population=100, scoring='f1', verbose=3)"
      ]
     },
     "execution_count": 226,
     "metadata": {},
     "output_type": "execute_result"
    }
   ],
   "source": [
    "model = geneticSelection()\n",
    "model.fit(X_train,y_train)"
   ]
  },
  {
   "cell_type": "code",
   "execution_count": 227,
   "metadata": {},
   "outputs": [
    {
     "data": {
      "text/plain": [
       "array([ True, False, False, False, False, False, False, False, False,\n",
       "       False,  True,  True, False, False, False, False,  True,  True,\n",
       "       False, False, False,  True])"
      ]
     },
     "execution_count": 227,
     "metadata": {},
     "output_type": "execute_result"
    }
   ],
   "source": [
    "model.support_"
   ]
  },
  {
   "cell_type": "code",
   "execution_count": 228,
   "metadata": {},
   "outputs": [
    {
     "data": {
      "text/plain": [
       "0.8461538461538461"
      ]
     },
     "execution_count": 228,
     "metadata": {},
     "output_type": "execute_result"
    }
   ],
   "source": [
    "model.score(X_test,y_test)"
   ]
  },
  {
   "cell_type": "code",
   "execution_count": 229,
   "metadata": {},
   "outputs": [
    {
     "data": {
      "text/plain": [
       "0.896551724137931"
      ]
     },
     "execution_count": 229,
     "metadata": {},
     "output_type": "execute_result"
    }
   ],
   "source": [
    "f1_score(y_test,model.predict(X_test))"
   ]
  },
  {
   "cell_type": "code",
   "execution_count": 230,
   "metadata": {},
   "outputs": [
    {
     "data": {
      "text/plain": [
       "0.7982758620689654"
      ]
     },
     "execution_count": 230,
     "metadata": {},
     "output_type": "execute_result"
    }
   ],
   "source": [
    "auc_(model,X_test,y_test)"
   ]
  },
  {
   "attachments": {},
   "cell_type": "markdown",
   "metadata": {},
   "source": [
    "### Particle Swarm Optimization"
   ]
  },
  {
   "cell_type": "code",
   "execution_count": 231,
   "metadata": {},
   "outputs": [],
   "source": [
    "import pyswarms as ps"
   ]
  },
  {
   "cell_type": "code",
   "execution_count": 232,
   "metadata": {},
   "outputs": [],
   "source": [
    "# def fitness_function(position, X, y):\n",
    "#     # Evaluate the fitness of a particle based on its feature selection\n",
    "#     selected_features = X[:, position > 0.5]\n",
    "#     # ... (add your own fitness function here)\n",
    "#     fitness = svm()\n",
    "#     return fitness\n",
    "    \n",
    "# def feature_selection_pso(X, y, n_particles=10, n_iterations=100, c1=2.0, c2=2.0, w=0.7):\n",
    "#     # Initialize PSO optimizer\n",
    "#     optimizer = ps.discrete.binary.BinaryPSO(n_particles=n_particles, dimensions=X.shape[1], options={\"c1\": c1, \"c2\": c2, \"w\": w})\n",
    "    \n",
    "#     # Define fitness function with fixed parameters (X, y)\n",
    "#     fitness_func = lambda position: fitness_function(position, X, y)\n",
    "    \n",
    "#     # Run optimization\n",
    "#     cost, pos = optimizer.optimize(fitness_func, iters=n_iterations)\n",
    "    \n",
    "#     # Return selected feature indices\n",
    "#     return np.where(pos > 0.5)[0]"
   ]
  },
  {
   "cell_type": "code",
   "execution_count": 233,
   "metadata": {},
   "outputs": [
    {
     "ename": "KeyError",
     "evalue": "'k'",
     "output_type": "error",
     "traceback": [
      "\u001b[1;31m---------------------------------------------------------------------------\u001b[0m",
      "\u001b[1;31mKeyError\u001b[0m                                  Traceback (most recent call last)",
      "\u001b[1;32m~\\AppData\\Local\\Temp\\ipykernel_25072\\2831590195.py\u001b[0m in \u001b[0;36m<module>\u001b[1;34m\u001b[0m\n\u001b[1;32m----> 1\u001b[1;33m \u001b[0mfeature_selection_pso\u001b[0m\u001b[1;33m(\u001b[0m\u001b[0mX\u001b[0m\u001b[1;33m,\u001b[0m\u001b[0my\u001b[0m\u001b[1;33m)\u001b[0m\u001b[1;33m\u001b[0m\u001b[1;33m\u001b[0m\u001b[0m\n\u001b[0m",
      "\u001b[1;32m~\\AppData\\Local\\Temp\\ipykernel_25072\\2103904688.py\u001b[0m in \u001b[0;36mfeature_selection_pso\u001b[1;34m(X, y, n_particles, n_iterations, c1, c2, w)\u001b[0m\n\u001b[0;32m      8\u001b[0m \u001b[1;32mdef\u001b[0m \u001b[0mfeature_selection_pso\u001b[0m\u001b[1;33m(\u001b[0m\u001b[0mX\u001b[0m\u001b[1;33m,\u001b[0m \u001b[0my\u001b[0m\u001b[1;33m,\u001b[0m \u001b[0mn_particles\u001b[0m\u001b[1;33m=\u001b[0m\u001b[1;36m10\u001b[0m\u001b[1;33m,\u001b[0m \u001b[0mn_iterations\u001b[0m\u001b[1;33m=\u001b[0m\u001b[1;36m100\u001b[0m\u001b[1;33m,\u001b[0m \u001b[0mc1\u001b[0m\u001b[1;33m=\u001b[0m\u001b[1;36m2.0\u001b[0m\u001b[1;33m,\u001b[0m \u001b[0mc2\u001b[0m\u001b[1;33m=\u001b[0m\u001b[1;36m2.0\u001b[0m\u001b[1;33m,\u001b[0m \u001b[0mw\u001b[0m\u001b[1;33m=\u001b[0m\u001b[1;36m0.7\u001b[0m\u001b[1;33m)\u001b[0m\u001b[1;33m:\u001b[0m\u001b[1;33m\u001b[0m\u001b[1;33m\u001b[0m\u001b[0m\n\u001b[0;32m      9\u001b[0m     \u001b[1;31m# Initialize PSO optimizer\u001b[0m\u001b[1;33m\u001b[0m\u001b[1;33m\u001b[0m\u001b[0m\n\u001b[1;32m---> 10\u001b[1;33m     \u001b[0moptimizer\u001b[0m \u001b[1;33m=\u001b[0m \u001b[0mps\u001b[0m\u001b[1;33m.\u001b[0m\u001b[0mdiscrete\u001b[0m\u001b[1;33m.\u001b[0m\u001b[0mbinary\u001b[0m\u001b[1;33m.\u001b[0m\u001b[0mBinaryPSO\u001b[0m\u001b[1;33m(\u001b[0m\u001b[0mn_particles\u001b[0m\u001b[1;33m=\u001b[0m\u001b[0mn_particles\u001b[0m\u001b[1;33m,\u001b[0m \u001b[0mdimensions\u001b[0m\u001b[1;33m=\u001b[0m\u001b[0mX\u001b[0m\u001b[1;33m.\u001b[0m\u001b[0mshape\u001b[0m\u001b[1;33m[\u001b[0m\u001b[1;36m1\u001b[0m\u001b[1;33m]\u001b[0m\u001b[1;33m,\u001b[0m \u001b[0moptions\u001b[0m\u001b[1;33m=\u001b[0m\u001b[1;33m{\u001b[0m\u001b[1;34m\"c1\"\u001b[0m\u001b[1;33m:\u001b[0m \u001b[0mc1\u001b[0m\u001b[1;33m,\u001b[0m \u001b[1;34m\"c2\"\u001b[0m\u001b[1;33m:\u001b[0m \u001b[0mc2\u001b[0m\u001b[1;33m,\u001b[0m \u001b[1;34m\"w\"\u001b[0m\u001b[1;33m:\u001b[0m \u001b[0mw\u001b[0m\u001b[1;33m}\u001b[0m\u001b[1;33m)\u001b[0m\u001b[1;33m\u001b[0m\u001b[1;33m\u001b[0m\u001b[0m\n\u001b[0m\u001b[0;32m     11\u001b[0m \u001b[1;33m\u001b[0m\u001b[0m\n\u001b[0;32m     12\u001b[0m     \u001b[1;31m# Define fitness function with fixed parameters (X, y)\u001b[0m\u001b[1;33m\u001b[0m\u001b[1;33m\u001b[0m\u001b[0m\n",
      "\u001b[1;32mc:\\Users\\sugam\\anaconda3\\lib\\site-packages\\pyswarms\\discrete\\binary.py\u001b[0m in \u001b[0;36m__init__\u001b[1;34m(self, n_particles, dimensions, options, init_pos, velocity_clamp, vh_strategy, ftol, ftol_iter)\u001b[0m\n\u001b[0;32m    125\u001b[0m         \u001b[0mself\u001b[0m\u001b[1;33m.\u001b[0m\u001b[0mrep\u001b[0m \u001b[1;33m=\u001b[0m \u001b[0mReporter\u001b[0m\u001b[1;33m(\u001b[0m\u001b[0mlogger\u001b[0m\u001b[1;33m=\u001b[0m\u001b[0mlogging\u001b[0m\u001b[1;33m.\u001b[0m\u001b[0mgetLogger\u001b[0m\u001b[1;33m(\u001b[0m\u001b[0m__name__\u001b[0m\u001b[1;33m)\u001b[0m\u001b[1;33m)\u001b[0m\u001b[1;33m\u001b[0m\u001b[1;33m\u001b[0m\u001b[0m\n\u001b[0;32m    126\u001b[0m         \u001b[1;31m# Assign k-neighbors and p-value as attributes\u001b[0m\u001b[1;33m\u001b[0m\u001b[1;33m\u001b[0m\u001b[0m\n\u001b[1;32m--> 127\u001b[1;33m         \u001b[0mself\u001b[0m\u001b[1;33m.\u001b[0m\u001b[0mk\u001b[0m\u001b[1;33m,\u001b[0m \u001b[0mself\u001b[0m\u001b[1;33m.\u001b[0m\u001b[0mp\u001b[0m \u001b[1;33m=\u001b[0m \u001b[0moptions\u001b[0m\u001b[1;33m[\u001b[0m\u001b[1;34m\"k\"\u001b[0m\u001b[1;33m]\u001b[0m\u001b[1;33m,\u001b[0m \u001b[0moptions\u001b[0m\u001b[1;33m[\u001b[0m\u001b[1;34m\"p\"\u001b[0m\u001b[1;33m]\u001b[0m\u001b[1;33m\u001b[0m\u001b[1;33m\u001b[0m\u001b[0m\n\u001b[0m\u001b[0;32m    128\u001b[0m         \u001b[1;31m# Initialize parent class\u001b[0m\u001b[1;33m\u001b[0m\u001b[1;33m\u001b[0m\u001b[0m\n\u001b[0;32m    129\u001b[0m         super(BinaryPSO, self).__init__(\n",
      "\u001b[1;31mKeyError\u001b[0m: 'k'"
     ]
    }
   ],
   "source": [
    "# feature_selection_pso(X,y)"
   ]
  },
  {
   "attachments": {},
   "cell_type": "markdown",
   "metadata": {},
   "source": [
    "This code defines a fitness_function that takes a particle's position (i.e., feature selection) and evaluates its fitness based on a fixed X and y dataset. It then uses the BinaryPSO optimizer from pyswarms to search for the optimal feature subset. Finally, it returns the selected feature indices. You can customize this code by modifying the fitness function, adjusting the PSO parameters, or using a different optimizer from pyswarms."
   ]
  },
  {
   "attachments": {},
   "cell_type": "markdown",
   "metadata": {},
   "source": [
    "## XGBOOST WITHOUT FEATURE SELECTION"
   ]
  },
  {
   "cell_type": "code",
   "execution_count": 234,
   "metadata": {},
   "outputs": [],
   "source": [
    "from xgboost import XGBClassifier\n",
    "def XGB(X_train,y_train,X_test,y_test):\n",
    "  model = XGBClassifier(n_estimators=10,\n",
    "                        early_stopping_rounds=50,\n",
    "                        max_depth=6,\n",
    "                        booster=\"gbtree\")\n",
    "  model.fit(X_train,y_train,\n",
    "            eval_set=[(X_train,y_train),(X_test,y_test)],\n",
    "            verbose=10)\n",
    "  print(f\"Train: {model.score(X_train,y_train)}\")\n",
    "  print(f\" test {model.score(X_test,y_test)}\")\n",
    "  print(f\"{f1_score(y_test,model.predict(X_test))}\")"
   ]
  },
  {
   "cell_type": "code",
   "execution_count": 235,
   "metadata": {},
   "outputs": [
    {
     "name": "stdout",
     "output_type": "stream",
     "text": [
      "[0]\tvalidation_0-logloss:0.49316\tvalidation_1-logloss:0.55785\n",
      "[9]\tvalidation_0-logloss:0.08585\tvalidation_1-logloss:0.31278\n",
      "Train: 1.0\n",
      " test 0.7948717948717948\n",
      "0.851851851851852\n"
     ]
    }
   ],
   "source": [
    "XGB(X_train,y_train,X_test,y_test)"
   ]
  },
  {
   "attachments": {},
   "cell_type": "markdown",
   "metadata": {},
   "source": [
    "#### WITHOUT FEATURE SELECTION BUT CROSS VALIDATION"
   ]
  },
  {
   "cell_type": "code",
   "execution_count": 236,
   "metadata": {},
   "outputs": [],
   "source": [
    "model = XGBClassifier(n_estimators=1000,\n",
    "                      early_stopping_rounds=50,\n",
    "                      max_depth=4,\n",
    "                      booster=\"gbtree\"\n",
    "                    )"
   ]
  },
  {
   "cell_type": "code",
   "execution_count": 237,
   "metadata": {},
   "outputs": [
    {
     "name": "stdout",
     "output_type": "stream",
     "text": [
      "[0]\tvalidation_0-logloss:0.48639\tvalidation_1-logloss:0.56986\n",
      "[69]\tvalidation_0-logloss:0.04158\tvalidation_1-logloss:0.27464\n",
      "[CV] END ................................ score: (test=0.938) total time=   0.0s\n",
      "[0]\tvalidation_0-logloss:0.49867\tvalidation_1-logloss:0.56020\n",
      "[92]\tvalidation_0-logloss:0.03915\tvalidation_1-logloss:0.24065\n",
      "[CV] END ................................ score: (test=0.938) total time=   0.0s\n",
      "[0]\tvalidation_0-logloss:0.50488\tvalidation_1-logloss:0.56485\n",
      "[100]\tvalidation_0-logloss:0.02312\tvalidation_1-logloss:0.23179\n",
      "[117]\tvalidation_0-logloss:0.02205\tvalidation_1-logloss:0.23689\n"
     ]
    },
    {
     "name": "stderr",
     "output_type": "stream",
     "text": [
      "[Parallel(n_jobs=1)]: Using backend SequentialBackend with 1 concurrent workers.\n",
      "[Parallel(n_jobs=1)]: Done   1 out of   1 | elapsed:    0.0s remaining:    0.0s\n",
      "[Parallel(n_jobs=1)]: Done   2 out of   2 | elapsed:    0.0s remaining:    0.0s\n",
      "[Parallel(n_jobs=1)]: Done   3 out of   3 | elapsed:    0.1s remaining:    0.0s\n"
     ]
    },
    {
     "name": "stdout",
     "output_type": "stream",
     "text": [
      "[CV] END ................................ score: (test=1.000) total time=   0.0s\n",
      "[0]\tvalidation_0-logloss:0.51194\tvalidation_1-logloss:0.57354\n",
      "[100]\tvalidation_0-logloss:0.04932\tvalidation_1-logloss:0.22655\n",
      "[105]\tvalidation_0-logloss:0.04888\tvalidation_1-logloss:0.22607\n",
      "[CV] END ................................ score: (test=0.812) total time=   0.0s\n",
      "[0]\tvalidation_0-logloss:0.51219\tvalidation_1-logloss:0.58848\n",
      "[100]\tvalidation_0-logloss:0.01983\tvalidation_1-logloss:0.22816\n",
      "[111]\tvalidation_0-logloss:0.01905\tvalidation_1-logloss:0.23096\n",
      "[CV] END ................................ score: (test=1.000) total time=   0.0s\n",
      "[0]\tvalidation_0-logloss:0.49955\tvalidation_1-logloss:0.55595\n",
      "[84]\tvalidation_0-logloss:0.05930\tvalidation_1-logloss:0.22865\n",
      "[CV] END ................................ score: (test=0.812) total time=   0.0s\n",
      "[0]\tvalidation_0-logloss:0.50488\tvalidation_1-logloss:0.55998\n"
     ]
    },
    {
     "name": "stderr",
     "output_type": "stream",
     "text": [
      "[Parallel(n_jobs=1)]: Done   4 out of   4 | elapsed:    0.2s remaining:    0.0s\n"
     ]
    },
    {
     "name": "stdout",
     "output_type": "stream",
     "text": [
      "[67]\tvalidation_0-logloss:0.04696\tvalidation_1-logloss:0.27277\n",
      "[CV] END ................................ score: (test=0.933) total time=   0.0s\n",
      "[0]\tvalidation_0-logloss:0.49602\tvalidation_1-logloss:0.56718\n",
      "[99]\tvalidation_0-logloss:0.02041\tvalidation_1-logloss:0.22314\n",
      "[CV] END ................................ score: (test=1.000) total time=   0.0s\n",
      "[0]\tvalidation_0-logloss:0.50028\tvalidation_1-logloss:0.56923\n",
      "[61]\tvalidation_0-logloss:0.06035\tvalidation_1-logloss:0.28695\n",
      "[CV] END ................................ score: (test=0.733) total time=   0.0s\n",
      "[0]\tvalidation_0-logloss:0.51069\tvalidation_1-logloss:0.56076\n",
      "[66]\tvalidation_0-logloss:0.07929\tvalidation_1-logloss:0.30328\n",
      "[CV] END ................................ score: (test=0.867) total time=   0.0s\n"
     ]
    },
    {
     "name": "stderr",
     "output_type": "stream",
     "text": [
      "[Parallel(n_jobs=1)]: Done  10 out of  10 | elapsed:    0.6s finished\n"
     ]
    }
   ],
   "source": [
    "score = cross_val_score(model,\n",
    "                X_train,\n",
    "                y_train,\n",
    "                cv=10,\n",
    "                verbose=5,\n",
    "                fit_params =dict(eval_set = [(X_train,y_train),(X_test,y_test)],verbose=100))"
   ]
  },
  {
   "cell_type": "code",
   "execution_count": 238,
   "metadata": {},
   "outputs": [
    {
     "data": {
      "text/plain": [
       "0.9033333333333333"
      ]
     },
     "execution_count": 238,
     "metadata": {},
     "output_type": "execute_result"
    }
   ],
   "source": [
    "score.mean()"
   ]
  },
  {
   "attachments": {},
   "cell_type": "markdown",
   "metadata": {},
   "source": [
    "## XGBOOST WITH FEATURE SELECTION"
   ]
  },
  {
   "cell_type": "code",
   "execution_count": null,
   "metadata": {},
   "outputs": [],
   "source": []
  },
  {
   "attachments": {},
   "cell_type": "markdown",
   "metadata": {},
   "source": [
    "#### WITH VARIANCE THRESHOLD 0.05"
   ]
  },
  {
   "attachments": {},
   "cell_type": "markdown",
   "metadata": {},
   "source": [
    "#### ADABOOST WITHOUT FEATURE SELECTION"
   ]
  },
  {
   "cell_type": "code",
   "execution_count": 239,
   "metadata": {},
   "outputs": [],
   "source": [
    "from sklearn.ensemble import AdaBoostClassifier"
   ]
  },
  {
   "cell_type": "code",
   "execution_count": 240,
   "metadata": {},
   "outputs": [
    {
     "data": {
      "text/plain": [
       "AdaBoostClassifier(base_estimator=RandomForestClassifier(criterion='entropy',\n",
       "                                                         max_depth=10,\n",
       "                                                         min_samples_leaf=5),\n",
       "                   n_estimators=1000, random_state=0)"
      ]
     },
     "execution_count": 240,
     "metadata": {},
     "output_type": "execute_result"
    }
   ],
   "source": [
    "model = RandomForestClassifier(criterion='entropy', max_depth= 10, min_samples_leaf = 5)\n",
    "adaBoost = AdaBoostClassifier(model,\n",
    "                              n_estimators=1000,\n",
    "                              random_state=0)\n",
    "adaBoost.fit(X_train,y_train)"
   ]
  },
  {
   "cell_type": "code",
   "execution_count": 241,
   "metadata": {},
   "outputs": [
    {
     "data": {
      "text/plain": [
       "0.9935897435897436"
      ]
     },
     "execution_count": 241,
     "metadata": {},
     "output_type": "execute_result"
    }
   ],
   "source": [
    "adaBoost.score(X_train,y_train)"
   ]
  },
  {
   "cell_type": "code",
   "execution_count": 242,
   "metadata": {},
   "outputs": [
    {
     "data": {
      "text/plain": [
       "0.9230769230769231"
      ]
     },
     "execution_count": 242,
     "metadata": {},
     "output_type": "execute_result"
    }
   ],
   "source": [
    "adaBoost.score(X_test,y_test)"
   ]
  },
  {
   "cell_type": "code",
   "execution_count": 243,
   "metadata": {},
   "outputs": [
    {
     "data": {
      "text/plain": [
       "0.9491525423728815"
      ]
     },
     "execution_count": 243,
     "metadata": {},
     "output_type": "execute_result"
    }
   ],
   "source": [
    "f1_score(y_test,adaBoost.predict(X_test))"
   ]
  },
  {
   "cell_type": "code",
   "execution_count": 244,
   "metadata": {},
   "outputs": [
    {
     "data": {
      "text/plain": [
       "0.8827586206896553"
      ]
     },
     "execution_count": 244,
     "metadata": {},
     "output_type": "execute_result"
    }
   ],
   "source": [
    "auc_(adaBoost,X_test,y_test)"
   ]
  },
  {
   "attachments": {},
   "cell_type": "markdown",
   "metadata": {},
   "source": [
    "#### ADABOOST WITH FEATURE SELECTION"
   ]
  },
  {
   "attachments": {},
   "cell_type": "markdown",
   "metadata": {},
   "source": [
    "### Gradient Boosting Classifier WITHOUT FEATURE SELECTION"
   ]
  },
  {
   "cell_type": "code",
   "execution_count": 245,
   "metadata": {},
   "outputs": [],
   "source": [
    "from sklearn.ensemble import GradientBoostingClassifier"
   ]
  },
  {
   "cell_type": "code",
   "execution_count": 246,
   "metadata": {},
   "outputs": [],
   "source": [
    "gradient = GradientBoostingClassifier(n_estimators=20,\n",
    "                                      max_depth=20,\n",
    "                                      learning_rate=0.1,\n",
    "                                      random_state=42,\n",
    "                                      verbose=100)"
   ]
  },
  {
   "cell_type": "code",
   "execution_count": 247,
   "metadata": {},
   "outputs": [
    {
     "name": "stdout",
     "output_type": "stream",
     "text": [
      "      Iter       Train Loss   Remaining Time \n",
      "         1           0.9208            0.05s\n",
      "         2           0.7851            0.04s\n",
      "         3           0.6792            0.04s\n",
      "         4           0.5931            0.03s\n",
      "         5           0.5213            0.03s\n",
      "         6           0.4604            0.03s\n",
      "         7           0.4081            0.03s\n",
      "         8           0.3628            0.02s\n",
      "         9           0.3233            0.02s\n",
      "        10           0.2887            0.02s\n",
      "        11           0.2582            0.02s\n",
      "        12           0.2313            0.02s\n",
      "        13           0.2074            0.01s\n",
      "        14           0.1862            0.01s\n",
      "        15           0.1673            0.01s\n",
      "        16           0.1504            0.01s\n",
      "        17           0.1354            0.01s\n",
      "        18           0.1219            0.00s\n",
      "        19           0.1098            0.00s\n",
      "        20           0.0989            0.00s\n"
     ]
    },
    {
     "data": {
      "text/plain": [
       "GradientBoostingClassifier(max_depth=20, n_estimators=20, random_state=42,\n",
       "                           verbose=100)"
      ]
     },
     "execution_count": 247,
     "metadata": {},
     "output_type": "execute_result"
    }
   ],
   "source": [
    "gradient.fit(X_train,y_train)"
   ]
  },
  {
   "cell_type": "code",
   "execution_count": 248,
   "metadata": {},
   "outputs": [
    {
     "data": {
      "text/plain": [
       "1.0"
      ]
     },
     "execution_count": 248,
     "metadata": {},
     "output_type": "execute_result"
    }
   ],
   "source": [
    "gradient.score(X_train,y_train)"
   ]
  },
  {
   "cell_type": "code",
   "execution_count": 249,
   "metadata": {},
   "outputs": [
    {
     "data": {
      "text/plain": [
       "0.7435897435897436"
      ]
     },
     "execution_count": 249,
     "metadata": {},
     "output_type": "execute_result"
    }
   ],
   "source": [
    "gradient.score(X_test,y_test)"
   ]
  },
  {
   "cell_type": "code",
   "execution_count": 250,
   "metadata": {},
   "outputs": [],
   "source": [
    "from antsys import AntWorld\n",
    "from antsys import AntSystem"
   ]
  },
  {
   "cell_type": "code",
   "execution_count": 251,
   "metadata": {},
   "outputs": [],
   "source": [
    "def antColonySelection(X,y):\n",
    "    return"
   ]
  },
  {
   "cell_type": "code",
   "execution_count": null,
   "metadata": {},
   "outputs": [],
   "source": []
  },
  {
   "cell_type": "code",
   "execution_count": null,
   "metadata": {},
   "outputs": [],
   "source": []
  },
  {
   "cell_type": "code",
   "execution_count": null,
   "metadata": {},
   "outputs": [],
   "source": []
  }
 ],
 "metadata": {
  "kernelspec": {
   "display_name": "Python 3 (ipykernel)",
   "language": "python",
   "name": "python3"
  },
  "language_info": {
   "codemirror_mode": {
    "name": "ipython",
    "version": 3
   },
   "file_extension": ".py",
   "mimetype": "text/x-python",
   "name": "python",
   "nbconvert_exporter": "python",
   "pygments_lexer": "ipython3",
   "version": "3.9.13"
  },
  "vscode": {
   "interpreter": {
    "hash": "0a6eecd4a72b800649ae0242174e3a0c0f47e8facc229ac3c7493c45bd6867dd"
   }
  }
 },
 "nbformat": 4,
 "nbformat_minor": 2
}
