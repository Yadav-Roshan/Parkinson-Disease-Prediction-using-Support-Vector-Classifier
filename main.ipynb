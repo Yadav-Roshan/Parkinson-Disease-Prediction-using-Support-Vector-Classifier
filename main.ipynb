{
 "cells": [
  {
   "cell_type": "code",
   "execution_count": 442,
   "metadata": {},
   "outputs": [],
   "source": [
    "import numpy as np\n",
    "import pandas as pd\n",
    "import seaborn as sns\n",
    "import matplotlib.pyplot as plt\n",
    "from sklearn.preprocessing import StandardScaler\n",
    "from sklearn.model_selection import train_test_split\n",
    "import warnings\n",
    "warnings.filterwarnings(\"ignore\")\n",
    "plt.rcParams['font.size']=12"
   ]
  },
  {
   "cell_type": "code",
   "execution_count": 443,
   "metadata": {},
   "outputs": [
    {
     "data": {
      "text/plain": [
       "<module 'seaborn' from 'c:\\\\Users\\\\sugam\\\\anaconda3\\\\lib\\\\site-packages\\\\seaborn\\\\__init__.py'>"
      ]
     },
     "execution_count": 443,
     "metadata": {},
     "output_type": "execute_result"
    }
   ],
   "source": [
    "sns"
   ]
  },
  {
   "cell_type": "markdown",
   "metadata": {},
   "source": [
    "### Reading and Understanding the data"
   ]
  },
  {
   "cell_type": "markdown",
   "metadata": {},
   "source": [
    "#### This data has been taken from UCI open Dataset and has been read using the read_csv function"
   ]
  },
  {
   "cell_type": "code",
   "execution_count": 444,
   "metadata": {},
   "outputs": [],
   "source": [
    "url = r\"https://archive.ics.uci.edu/ml/machine-learning-databases/parkinsons/parkinsons.data\"\n",
    "df = pd.read_csv(url,encoding='latin1')"
   ]
  },
  {
   "cell_type": "code",
   "execution_count": 445,
   "metadata": {},
   "outputs": [
    {
     "data": {
      "text/html": [
       "<div>\n",
       "<style scoped>\n",
       "    .dataframe tbody tr th:only-of-type {\n",
       "        vertical-align: middle;\n",
       "    }\n",
       "\n",
       "    .dataframe tbody tr th {\n",
       "        vertical-align: top;\n",
       "    }\n",
       "\n",
       "    .dataframe thead th {\n",
       "        text-align: right;\n",
       "    }\n",
       "</style>\n",
       "<table border=\"1\" class=\"dataframe\">\n",
       "  <thead>\n",
       "    <tr style=\"text-align: right;\">\n",
       "      <th></th>\n",
       "      <th>name</th>\n",
       "      <th>MDVP:Fo(Hz)</th>\n",
       "      <th>MDVP:Fhi(Hz)</th>\n",
       "      <th>MDVP:Flo(Hz)</th>\n",
       "      <th>MDVP:Jitter(%)</th>\n",
       "      <th>MDVP:Jitter(Abs)</th>\n",
       "      <th>MDVP:RAP</th>\n",
       "      <th>MDVP:PPQ</th>\n",
       "      <th>Jitter:DDP</th>\n",
       "      <th>MDVP:Shimmer</th>\n",
       "      <th>...</th>\n",
       "      <th>Shimmer:DDA</th>\n",
       "      <th>NHR</th>\n",
       "      <th>HNR</th>\n",
       "      <th>status</th>\n",
       "      <th>RPDE</th>\n",
       "      <th>DFA</th>\n",
       "      <th>spread1</th>\n",
       "      <th>spread2</th>\n",
       "      <th>D2</th>\n",
       "      <th>PPE</th>\n",
       "    </tr>\n",
       "  </thead>\n",
       "  <tbody>\n",
       "    <tr>\n",
       "      <th>0</th>\n",
       "      <td>phon_R01_S01_1</td>\n",
       "      <td>119.992</td>\n",
       "      <td>157.302</td>\n",
       "      <td>74.997</td>\n",
       "      <td>0.00784</td>\n",
       "      <td>0.00007</td>\n",
       "      <td>0.00370</td>\n",
       "      <td>0.00554</td>\n",
       "      <td>0.01109</td>\n",
       "      <td>0.04374</td>\n",
       "      <td>...</td>\n",
       "      <td>0.06545</td>\n",
       "      <td>0.02211</td>\n",
       "      <td>21.033</td>\n",
       "      <td>1</td>\n",
       "      <td>0.414783</td>\n",
       "      <td>0.815285</td>\n",
       "      <td>-4.813031</td>\n",
       "      <td>0.266482</td>\n",
       "      <td>2.301442</td>\n",
       "      <td>0.284654</td>\n",
       "    </tr>\n",
       "    <tr>\n",
       "      <th>1</th>\n",
       "      <td>phon_R01_S01_2</td>\n",
       "      <td>122.400</td>\n",
       "      <td>148.650</td>\n",
       "      <td>113.819</td>\n",
       "      <td>0.00968</td>\n",
       "      <td>0.00008</td>\n",
       "      <td>0.00465</td>\n",
       "      <td>0.00696</td>\n",
       "      <td>0.01394</td>\n",
       "      <td>0.06134</td>\n",
       "      <td>...</td>\n",
       "      <td>0.09403</td>\n",
       "      <td>0.01929</td>\n",
       "      <td>19.085</td>\n",
       "      <td>1</td>\n",
       "      <td>0.458359</td>\n",
       "      <td>0.819521</td>\n",
       "      <td>-4.075192</td>\n",
       "      <td>0.335590</td>\n",
       "      <td>2.486855</td>\n",
       "      <td>0.368674</td>\n",
       "    </tr>\n",
       "    <tr>\n",
       "      <th>2</th>\n",
       "      <td>phon_R01_S01_3</td>\n",
       "      <td>116.682</td>\n",
       "      <td>131.111</td>\n",
       "      <td>111.555</td>\n",
       "      <td>0.01050</td>\n",
       "      <td>0.00009</td>\n",
       "      <td>0.00544</td>\n",
       "      <td>0.00781</td>\n",
       "      <td>0.01633</td>\n",
       "      <td>0.05233</td>\n",
       "      <td>...</td>\n",
       "      <td>0.08270</td>\n",
       "      <td>0.01309</td>\n",
       "      <td>20.651</td>\n",
       "      <td>1</td>\n",
       "      <td>0.429895</td>\n",
       "      <td>0.825288</td>\n",
       "      <td>-4.443179</td>\n",
       "      <td>0.311173</td>\n",
       "      <td>2.342259</td>\n",
       "      <td>0.332634</td>\n",
       "    </tr>\n",
       "    <tr>\n",
       "      <th>3</th>\n",
       "      <td>phon_R01_S01_4</td>\n",
       "      <td>116.676</td>\n",
       "      <td>137.871</td>\n",
       "      <td>111.366</td>\n",
       "      <td>0.00997</td>\n",
       "      <td>0.00009</td>\n",
       "      <td>0.00502</td>\n",
       "      <td>0.00698</td>\n",
       "      <td>0.01505</td>\n",
       "      <td>0.05492</td>\n",
       "      <td>...</td>\n",
       "      <td>0.08771</td>\n",
       "      <td>0.01353</td>\n",
       "      <td>20.644</td>\n",
       "      <td>1</td>\n",
       "      <td>0.434969</td>\n",
       "      <td>0.819235</td>\n",
       "      <td>-4.117501</td>\n",
       "      <td>0.334147</td>\n",
       "      <td>2.405554</td>\n",
       "      <td>0.368975</td>\n",
       "    </tr>\n",
       "    <tr>\n",
       "      <th>4</th>\n",
       "      <td>phon_R01_S01_5</td>\n",
       "      <td>116.014</td>\n",
       "      <td>141.781</td>\n",
       "      <td>110.655</td>\n",
       "      <td>0.01284</td>\n",
       "      <td>0.00011</td>\n",
       "      <td>0.00655</td>\n",
       "      <td>0.00908</td>\n",
       "      <td>0.01966</td>\n",
       "      <td>0.06425</td>\n",
       "      <td>...</td>\n",
       "      <td>0.10470</td>\n",
       "      <td>0.01767</td>\n",
       "      <td>19.649</td>\n",
       "      <td>1</td>\n",
       "      <td>0.417356</td>\n",
       "      <td>0.823484</td>\n",
       "      <td>-3.747787</td>\n",
       "      <td>0.234513</td>\n",
       "      <td>2.332180</td>\n",
       "      <td>0.410335</td>\n",
       "    </tr>\n",
       "  </tbody>\n",
       "</table>\n",
       "<p>5 rows × 24 columns</p>\n",
       "</div>"
      ],
      "text/plain": [
       "             name  MDVP:Fo(Hz)  MDVP:Fhi(Hz)  MDVP:Flo(Hz)  MDVP:Jitter(%)  \\\n",
       "0  phon_R01_S01_1      119.992       157.302        74.997         0.00784   \n",
       "1  phon_R01_S01_2      122.400       148.650       113.819         0.00968   \n",
       "2  phon_R01_S01_3      116.682       131.111       111.555         0.01050   \n",
       "3  phon_R01_S01_4      116.676       137.871       111.366         0.00997   \n",
       "4  phon_R01_S01_5      116.014       141.781       110.655         0.01284   \n",
       "\n",
       "   MDVP:Jitter(Abs)  MDVP:RAP  MDVP:PPQ  Jitter:DDP  MDVP:Shimmer  ...  \\\n",
       "0           0.00007   0.00370   0.00554     0.01109       0.04374  ...   \n",
       "1           0.00008   0.00465   0.00696     0.01394       0.06134  ...   \n",
       "2           0.00009   0.00544   0.00781     0.01633       0.05233  ...   \n",
       "3           0.00009   0.00502   0.00698     0.01505       0.05492  ...   \n",
       "4           0.00011   0.00655   0.00908     0.01966       0.06425  ...   \n",
       "\n",
       "   Shimmer:DDA      NHR     HNR  status      RPDE       DFA   spread1  \\\n",
       "0      0.06545  0.02211  21.033       1  0.414783  0.815285 -4.813031   \n",
       "1      0.09403  0.01929  19.085       1  0.458359  0.819521 -4.075192   \n",
       "2      0.08270  0.01309  20.651       1  0.429895  0.825288 -4.443179   \n",
       "3      0.08771  0.01353  20.644       1  0.434969  0.819235 -4.117501   \n",
       "4      0.10470  0.01767  19.649       1  0.417356  0.823484 -3.747787   \n",
       "\n",
       "    spread2        D2       PPE  \n",
       "0  0.266482  2.301442  0.284654  \n",
       "1  0.335590  2.486855  0.368674  \n",
       "2  0.311173  2.342259  0.332634  \n",
       "3  0.334147  2.405554  0.368975  \n",
       "4  0.234513  2.332180  0.410335  \n",
       "\n",
       "[5 rows x 24 columns]"
      ]
     },
     "execution_count": 445,
     "metadata": {},
     "output_type": "execute_result"
    }
   ],
   "source": [
    "df.head()"
   ]
  },
  {
   "cell_type": "code",
   "execution_count": 446,
   "metadata": {},
   "outputs": [],
   "source": [
    "df.drop(\"name\",axis=1,inplace=True)"
   ]
  },
  {
   "cell_type": "code",
   "execution_count": 447,
   "metadata": {},
   "outputs": [
    {
     "data": {
      "text/plain": [
       "(195, 23)"
      ]
     },
     "execution_count": 447,
     "metadata": {},
     "output_type": "execute_result"
    }
   ],
   "source": [
    "df.shape"
   ]
  },
  {
   "cell_type": "markdown",
   "metadata": {},
   "source": [
    "The name column is just the subject name and recording number which is not relevent to our model so removing number"
   ]
  },
  {
   "cell_type": "code",
   "execution_count": 448,
   "metadata": {},
   "outputs": [
    {
     "name": "stdout",
     "output_type": "stream",
     "text": [
      "<class 'pandas.core.frame.DataFrame'>\n",
      "RangeIndex: 195 entries, 0 to 194\n",
      "Data columns (total 23 columns):\n",
      " #   Column            Non-Null Count  Dtype  \n",
      "---  ------            --------------  -----  \n",
      " 0   MDVP:Fo(Hz)       195 non-null    float64\n",
      " 1   MDVP:Fhi(Hz)      195 non-null    float64\n",
      " 2   MDVP:Flo(Hz)      195 non-null    float64\n",
      " 3   MDVP:Jitter(%)    195 non-null    float64\n",
      " 4   MDVP:Jitter(Abs)  195 non-null    float64\n",
      " 5   MDVP:RAP          195 non-null    float64\n",
      " 6   MDVP:PPQ          195 non-null    float64\n",
      " 7   Jitter:DDP        195 non-null    float64\n",
      " 8   MDVP:Shimmer      195 non-null    float64\n",
      " 9   MDVP:Shimmer(dB)  195 non-null    float64\n",
      " 10  Shimmer:APQ3      195 non-null    float64\n",
      " 11  Shimmer:APQ5      195 non-null    float64\n",
      " 12  MDVP:APQ          195 non-null    float64\n",
      " 13  Shimmer:DDA       195 non-null    float64\n",
      " 14  NHR               195 non-null    float64\n",
      " 15  HNR               195 non-null    float64\n",
      " 16  status            195 non-null    int64  \n",
      " 17  RPDE              195 non-null    float64\n",
      " 18  DFA               195 non-null    float64\n",
      " 19  spread1           195 non-null    float64\n",
      " 20  spread2           195 non-null    float64\n",
      " 21  D2                195 non-null    float64\n",
      " 22  PPE               195 non-null    float64\n",
      "dtypes: float64(22), int64(1)\n",
      "memory usage: 35.2 KB\n"
     ]
    }
   ],
   "source": [
    "df.info()"
   ]
  },
  {
   "cell_type": "markdown",
   "metadata": {},
   "source": [
    "All the columns are of numerical dtype"
   ]
  },
  {
   "cell_type": "code",
   "execution_count": 449,
   "metadata": {},
   "outputs": [
    {
     "data": {
      "text/html": [
       "<div>\n",
       "<style scoped>\n",
       "    .dataframe tbody tr th:only-of-type {\n",
       "        vertical-align: middle;\n",
       "    }\n",
       "\n",
       "    .dataframe tbody tr th {\n",
       "        vertical-align: top;\n",
       "    }\n",
       "\n",
       "    .dataframe thead th {\n",
       "        text-align: right;\n",
       "    }\n",
       "</style>\n",
       "<table border=\"1\" class=\"dataframe\">\n",
       "  <thead>\n",
       "    <tr style=\"text-align: right;\">\n",
       "      <th></th>\n",
       "      <th>MDVP:Fo(Hz)</th>\n",
       "      <th>MDVP:Fhi(Hz)</th>\n",
       "      <th>MDVP:Flo(Hz)</th>\n",
       "      <th>MDVP:Jitter(%)</th>\n",
       "      <th>MDVP:Jitter(Abs)</th>\n",
       "      <th>MDVP:RAP</th>\n",
       "      <th>MDVP:PPQ</th>\n",
       "      <th>Jitter:DDP</th>\n",
       "      <th>MDVP:Shimmer</th>\n",
       "      <th>MDVP:Shimmer(dB)</th>\n",
       "      <th>...</th>\n",
       "      <th>Shimmer:DDA</th>\n",
       "      <th>NHR</th>\n",
       "      <th>HNR</th>\n",
       "      <th>status</th>\n",
       "      <th>RPDE</th>\n",
       "      <th>DFA</th>\n",
       "      <th>spread1</th>\n",
       "      <th>spread2</th>\n",
       "      <th>D2</th>\n",
       "      <th>PPE</th>\n",
       "    </tr>\n",
       "  </thead>\n",
       "  <tbody>\n",
       "    <tr>\n",
       "      <th>count</th>\n",
       "      <td>195.000000</td>\n",
       "      <td>195.000000</td>\n",
       "      <td>195.000000</td>\n",
       "      <td>195.000000</td>\n",
       "      <td>195.000000</td>\n",
       "      <td>195.000000</td>\n",
       "      <td>195.000000</td>\n",
       "      <td>195.000000</td>\n",
       "      <td>195.000000</td>\n",
       "      <td>195.000000</td>\n",
       "      <td>...</td>\n",
       "      <td>195.000000</td>\n",
       "      <td>195.000000</td>\n",
       "      <td>195.000000</td>\n",
       "      <td>195.000000</td>\n",
       "      <td>195.000000</td>\n",
       "      <td>195.000000</td>\n",
       "      <td>195.000000</td>\n",
       "      <td>195.000000</td>\n",
       "      <td>195.000000</td>\n",
       "      <td>195.000000</td>\n",
       "    </tr>\n",
       "    <tr>\n",
       "      <th>mean</th>\n",
       "      <td>154.228641</td>\n",
       "      <td>197.104918</td>\n",
       "      <td>116.324631</td>\n",
       "      <td>0.006220</td>\n",
       "      <td>0.000044</td>\n",
       "      <td>0.003306</td>\n",
       "      <td>0.003446</td>\n",
       "      <td>0.009920</td>\n",
       "      <td>0.029709</td>\n",
       "      <td>0.282251</td>\n",
       "      <td>...</td>\n",
       "      <td>0.046993</td>\n",
       "      <td>0.024847</td>\n",
       "      <td>21.885974</td>\n",
       "      <td>0.753846</td>\n",
       "      <td>0.498536</td>\n",
       "      <td>0.718099</td>\n",
       "      <td>-5.684397</td>\n",
       "      <td>0.226510</td>\n",
       "      <td>2.381826</td>\n",
       "      <td>0.206552</td>\n",
       "    </tr>\n",
       "    <tr>\n",
       "      <th>std</th>\n",
       "      <td>41.390065</td>\n",
       "      <td>91.491548</td>\n",
       "      <td>43.521413</td>\n",
       "      <td>0.004848</td>\n",
       "      <td>0.000035</td>\n",
       "      <td>0.002968</td>\n",
       "      <td>0.002759</td>\n",
       "      <td>0.008903</td>\n",
       "      <td>0.018857</td>\n",
       "      <td>0.194877</td>\n",
       "      <td>...</td>\n",
       "      <td>0.030459</td>\n",
       "      <td>0.040418</td>\n",
       "      <td>4.425764</td>\n",
       "      <td>0.431878</td>\n",
       "      <td>0.103942</td>\n",
       "      <td>0.055336</td>\n",
       "      <td>1.090208</td>\n",
       "      <td>0.083406</td>\n",
       "      <td>0.382799</td>\n",
       "      <td>0.090119</td>\n",
       "    </tr>\n",
       "    <tr>\n",
       "      <th>min</th>\n",
       "      <td>88.333000</td>\n",
       "      <td>102.145000</td>\n",
       "      <td>65.476000</td>\n",
       "      <td>0.001680</td>\n",
       "      <td>0.000007</td>\n",
       "      <td>0.000680</td>\n",
       "      <td>0.000920</td>\n",
       "      <td>0.002040</td>\n",
       "      <td>0.009540</td>\n",
       "      <td>0.085000</td>\n",
       "      <td>...</td>\n",
       "      <td>0.013640</td>\n",
       "      <td>0.000650</td>\n",
       "      <td>8.441000</td>\n",
       "      <td>0.000000</td>\n",
       "      <td>0.256570</td>\n",
       "      <td>0.574282</td>\n",
       "      <td>-7.964984</td>\n",
       "      <td>0.006274</td>\n",
       "      <td>1.423287</td>\n",
       "      <td>0.044539</td>\n",
       "    </tr>\n",
       "    <tr>\n",
       "      <th>25%</th>\n",
       "      <td>117.572000</td>\n",
       "      <td>134.862500</td>\n",
       "      <td>84.291000</td>\n",
       "      <td>0.003460</td>\n",
       "      <td>0.000020</td>\n",
       "      <td>0.001660</td>\n",
       "      <td>0.001860</td>\n",
       "      <td>0.004985</td>\n",
       "      <td>0.016505</td>\n",
       "      <td>0.148500</td>\n",
       "      <td>...</td>\n",
       "      <td>0.024735</td>\n",
       "      <td>0.005925</td>\n",
       "      <td>19.198000</td>\n",
       "      <td>1.000000</td>\n",
       "      <td>0.421306</td>\n",
       "      <td>0.674758</td>\n",
       "      <td>-6.450096</td>\n",
       "      <td>0.174351</td>\n",
       "      <td>2.099125</td>\n",
       "      <td>0.137451</td>\n",
       "    </tr>\n",
       "    <tr>\n",
       "      <th>50%</th>\n",
       "      <td>148.790000</td>\n",
       "      <td>175.829000</td>\n",
       "      <td>104.315000</td>\n",
       "      <td>0.004940</td>\n",
       "      <td>0.000030</td>\n",
       "      <td>0.002500</td>\n",
       "      <td>0.002690</td>\n",
       "      <td>0.007490</td>\n",
       "      <td>0.022970</td>\n",
       "      <td>0.221000</td>\n",
       "      <td>...</td>\n",
       "      <td>0.038360</td>\n",
       "      <td>0.011660</td>\n",
       "      <td>22.085000</td>\n",
       "      <td>1.000000</td>\n",
       "      <td>0.495954</td>\n",
       "      <td>0.722254</td>\n",
       "      <td>-5.720868</td>\n",
       "      <td>0.218885</td>\n",
       "      <td>2.361532</td>\n",
       "      <td>0.194052</td>\n",
       "    </tr>\n",
       "    <tr>\n",
       "      <th>75%</th>\n",
       "      <td>182.769000</td>\n",
       "      <td>224.205500</td>\n",
       "      <td>140.018500</td>\n",
       "      <td>0.007365</td>\n",
       "      <td>0.000060</td>\n",
       "      <td>0.003835</td>\n",
       "      <td>0.003955</td>\n",
       "      <td>0.011505</td>\n",
       "      <td>0.037885</td>\n",
       "      <td>0.350000</td>\n",
       "      <td>...</td>\n",
       "      <td>0.060795</td>\n",
       "      <td>0.025640</td>\n",
       "      <td>25.075500</td>\n",
       "      <td>1.000000</td>\n",
       "      <td>0.587562</td>\n",
       "      <td>0.761881</td>\n",
       "      <td>-5.046192</td>\n",
       "      <td>0.279234</td>\n",
       "      <td>2.636456</td>\n",
       "      <td>0.252980</td>\n",
       "    </tr>\n",
       "    <tr>\n",
       "      <th>max</th>\n",
       "      <td>260.105000</td>\n",
       "      <td>592.030000</td>\n",
       "      <td>239.170000</td>\n",
       "      <td>0.033160</td>\n",
       "      <td>0.000260</td>\n",
       "      <td>0.021440</td>\n",
       "      <td>0.019580</td>\n",
       "      <td>0.064330</td>\n",
       "      <td>0.119080</td>\n",
       "      <td>1.302000</td>\n",
       "      <td>...</td>\n",
       "      <td>0.169420</td>\n",
       "      <td>0.314820</td>\n",
       "      <td>33.047000</td>\n",
       "      <td>1.000000</td>\n",
       "      <td>0.685151</td>\n",
       "      <td>0.825288</td>\n",
       "      <td>-2.434031</td>\n",
       "      <td>0.450493</td>\n",
       "      <td>3.671155</td>\n",
       "      <td>0.527367</td>\n",
       "    </tr>\n",
       "  </tbody>\n",
       "</table>\n",
       "<p>8 rows × 23 columns</p>\n",
       "</div>"
      ],
      "text/plain": [
       "       MDVP:Fo(Hz)  MDVP:Fhi(Hz)  MDVP:Flo(Hz)  MDVP:Jitter(%)  \\\n",
       "count   195.000000    195.000000    195.000000      195.000000   \n",
       "mean    154.228641    197.104918    116.324631        0.006220   \n",
       "std      41.390065     91.491548     43.521413        0.004848   \n",
       "min      88.333000    102.145000     65.476000        0.001680   \n",
       "25%     117.572000    134.862500     84.291000        0.003460   \n",
       "50%     148.790000    175.829000    104.315000        0.004940   \n",
       "75%     182.769000    224.205500    140.018500        0.007365   \n",
       "max     260.105000    592.030000    239.170000        0.033160   \n",
       "\n",
       "       MDVP:Jitter(Abs)    MDVP:RAP    MDVP:PPQ  Jitter:DDP  MDVP:Shimmer  \\\n",
       "count        195.000000  195.000000  195.000000  195.000000    195.000000   \n",
       "mean           0.000044    0.003306    0.003446    0.009920      0.029709   \n",
       "std            0.000035    0.002968    0.002759    0.008903      0.018857   \n",
       "min            0.000007    0.000680    0.000920    0.002040      0.009540   \n",
       "25%            0.000020    0.001660    0.001860    0.004985      0.016505   \n",
       "50%            0.000030    0.002500    0.002690    0.007490      0.022970   \n",
       "75%            0.000060    0.003835    0.003955    0.011505      0.037885   \n",
       "max            0.000260    0.021440    0.019580    0.064330      0.119080   \n",
       "\n",
       "       MDVP:Shimmer(dB)  ...  Shimmer:DDA         NHR         HNR      status  \\\n",
       "count        195.000000  ...   195.000000  195.000000  195.000000  195.000000   \n",
       "mean           0.282251  ...     0.046993    0.024847   21.885974    0.753846   \n",
       "std            0.194877  ...     0.030459    0.040418    4.425764    0.431878   \n",
       "min            0.085000  ...     0.013640    0.000650    8.441000    0.000000   \n",
       "25%            0.148500  ...     0.024735    0.005925   19.198000    1.000000   \n",
       "50%            0.221000  ...     0.038360    0.011660   22.085000    1.000000   \n",
       "75%            0.350000  ...     0.060795    0.025640   25.075500    1.000000   \n",
       "max            1.302000  ...     0.169420    0.314820   33.047000    1.000000   \n",
       "\n",
       "             RPDE         DFA     spread1     spread2          D2         PPE  \n",
       "count  195.000000  195.000000  195.000000  195.000000  195.000000  195.000000  \n",
       "mean     0.498536    0.718099   -5.684397    0.226510    2.381826    0.206552  \n",
       "std      0.103942    0.055336    1.090208    0.083406    0.382799    0.090119  \n",
       "min      0.256570    0.574282   -7.964984    0.006274    1.423287    0.044539  \n",
       "25%      0.421306    0.674758   -6.450096    0.174351    2.099125    0.137451  \n",
       "50%      0.495954    0.722254   -5.720868    0.218885    2.361532    0.194052  \n",
       "75%      0.587562    0.761881   -5.046192    0.279234    2.636456    0.252980  \n",
       "max      0.685151    0.825288   -2.434031    0.450493    3.671155    0.527367  \n",
       "\n",
       "[8 rows x 23 columns]"
      ]
     },
     "execution_count": 449,
     "metadata": {},
     "output_type": "execute_result"
    }
   ],
   "source": [
    "df.describe()"
   ]
  },
  {
   "cell_type": "code",
   "execution_count": 450,
   "metadata": {},
   "outputs": [],
   "source": [
    "df_new = df.copy() # Creating a copy for comparision purpose"
   ]
  },
  {
   "cell_type": "markdown",
   "metadata": {},
   "source": [
    "### Data PreProcessing"
   ]
  },
  {
   "cell_type": "code",
   "execution_count": 451,
   "metadata": {},
   "outputs": [
    {
     "data": {
      "text/plain": [
       "MDVP:Fo(Hz)         0\n",
       "MDVP:Fhi(Hz)        0\n",
       "MDVP:Flo(Hz)        0\n",
       "MDVP:Jitter(%)      0\n",
       "MDVP:Jitter(Abs)    0\n",
       "MDVP:RAP            0\n",
       "MDVP:PPQ            0\n",
       "Jitter:DDP          0\n",
       "MDVP:Shimmer        0\n",
       "MDVP:Shimmer(dB)    0\n",
       "Shimmer:APQ3        0\n",
       "Shimmer:APQ5        0\n",
       "MDVP:APQ            0\n",
       "Shimmer:DDA         0\n",
       "NHR                 0\n",
       "HNR                 0\n",
       "status              0\n",
       "RPDE                0\n",
       "DFA                 0\n",
       "spread1             0\n",
       "spread2             0\n",
       "D2                  0\n",
       "PPE                 0\n",
       "dtype: int64"
      ]
     },
     "execution_count": 451,
     "metadata": {},
     "output_type": "execute_result"
    }
   ],
   "source": [
    "# Calculating the null values present\n",
    "df.isna().sum(axis=0)"
   ]
  },
  {
   "cell_type": "markdown",
   "metadata": {},
   "source": [
    "<b>Insights:</b>\n",
    "There are no null values in the dataset"
   ]
  },
  {
   "cell_type": "code",
   "execution_count": 452,
   "metadata": {},
   "outputs": [],
   "source": [
    "# Checking for the duplicate values\n",
    "df_new.drop_duplicates(subset=None,keep='first',inplace=True)"
   ]
  },
  {
   "cell_type": "code",
   "execution_count": 453,
   "metadata": {},
   "outputs": [
    {
     "name": "stdout",
     "output_type": "stream",
     "text": [
      "Shape before dropping duplicates: (195, 23) \n",
      "Shape after dropping duplicates: (195, 23) \n"
     ]
    }
   ],
   "source": [
    "print(f\"Shape before dropping duplicates: {df.shape} \")\n",
    "print(f\"Shape after dropping duplicates: {df_new.shape} \")"
   ]
  },
  {
   "cell_type": "markdown",
   "metadata": {},
   "source": [
    "There are no duplicates in the dataset as the shape before and after dropping the duplicate is same"
   ]
  },
  {
   "cell_type": "code",
   "execution_count": 454,
   "metadata": {},
   "outputs": [
    {
     "name": "stdout",
     "output_type": "stream",
     "text": [
      "119.992    1\n",
      "122.964    1\n",
      "91.904     1\n",
      "116.682    1\n",
      "116.676    1\n",
      "          ..\n",
      "201.774    1\n",
      "174.188    1\n",
      "209.516    1\n",
      "174.688    1\n",
      "214.289    1\n",
      "Name: MDVP:Fo(Hz), Length: 195, dtype: int64\n",
      "157.302    1\n",
      "130.049    1\n",
      "115.871    1\n",
      "131.111    1\n",
      "137.871    1\n",
      "          ..\n",
      "262.707    1\n",
      "230.978    1\n",
      "253.017    1\n",
      "240.005    1\n",
      "260.277    1\n",
      "Name: MDVP:Fhi(Hz), Length: 195, dtype: int64\n",
      "74.997     1\n",
      "114.676    1\n",
      "86.292     1\n",
      "111.555    1\n",
      "111.366    1\n",
      "          ..\n",
      "78.228     1\n",
      "94.261     1\n",
      "89.488     1\n",
      "74.287     1\n",
      "77.973     1\n",
      "Name: MDVP:Flo(Hz), Length: 195, dtype: int64\n",
      "0.00694    3\n",
      "0.00369    3\n",
      "0.00742    3\n",
      "0.00462    2\n",
      "0.00968    2\n",
      "          ..\n",
      "0.01360    1\n",
      "0.00740    1\n",
      "0.00517    1\n",
      "0.00339    1\n",
      "0.00567    1\n",
      "Name: MDVP:Jitter(%), Length: 173, dtype: int64\n",
      "0.000030    46\n",
      "0.000040    28\n",
      "0.000020    28\n",
      "0.000010    20\n",
      "0.000050    17\n",
      "0.000060    16\n",
      "0.000080     9\n",
      "0.000070     8\n",
      "0.000009     5\n",
      "0.000090     5\n",
      "0.000100     3\n",
      "0.000110     2\n",
      "0.000150     2\n",
      "0.000007     1\n",
      "0.000260     1\n",
      "0.000120     1\n",
      "0.000220     1\n",
      "0.000160     1\n",
      "0.000140     1\n",
      "Name: MDVP:Jitter(Abs), dtype: int64\n",
      "0.00169    5\n",
      "0.00428    3\n",
      "0.00250    3\n",
      "0.00157    3\n",
      "0.00165    3\n",
      "          ..\n",
      "0.00186    1\n",
      "0.00174    1\n",
      "0.00863    1\n",
      "0.00202    1\n",
      "0.00295    1\n",
      "Name: MDVP:RAP, Length: 155, dtype: int64\n",
      "0.00332    4\n",
      "0.00203    3\n",
      "0.00182    3\n",
      "0.00283    3\n",
      "0.00166    2\n",
      "          ..\n",
      "0.00235    1\n",
      "0.00231    1\n",
      "0.00162    1\n",
      "0.00213    1\n",
      "0.00317    1\n",
      "Name: MDVP:PPQ, Length: 165, dtype: int64\n",
      "0.00507    3\n",
      "0.00616    2\n",
      "0.01109    2\n",
      "0.00873    2\n",
      "0.00349    2\n",
      "          ..\n",
      "0.01235    1\n",
      "0.00790    1\n",
      "0.01873    1\n",
      "0.00837    1\n",
      "0.00885    1\n",
      "Name: Jitter:DDP, Length: 180, dtype: int64\n",
      "0.02448    2\n",
      "0.02293    2\n",
      "0.01503    2\n",
      "0.01450    2\n",
      "0.03273    2\n",
      "          ..\n",
      "0.02574    1\n",
      "0.04087    1\n",
      "0.02751    1\n",
      "0.02308    1\n",
      "0.01884    1\n",
      "Name: MDVP:Shimmer, Length: 188, dtype: int64\n",
      "0.154    5\n",
      "0.197    4\n",
      "0.155    3\n",
      "0.126    3\n",
      "0.129    3\n",
      "        ..\n",
      "0.181    1\n",
      "0.142    1\n",
      "0.237    1\n",
      "0.171    1\n",
      "0.190    1\n",
      "Name: MDVP:Shimmer(dB), Length: 149, dtype: int64\n",
      "0.01441    2\n",
      "0.01579    2\n",
      "0.00829    2\n",
      "0.00522    2\n",
      "0.01284    2\n",
      "          ..\n",
      "0.02336    1\n",
      "0.01604    1\n",
      "0.01268    1\n",
      "0.01265    1\n",
      "0.01026    1\n",
      "Name: Shimmer:APQ3, Length: 184, dtype: int64\n",
      "0.01219    2\n",
      "0.00747    2\n",
      "0.00972    2\n",
      "0.01160    2\n",
      "0.01144    2\n",
      "          ..\n",
      "0.00721    1\n",
      "0.01582    1\n",
      "0.02498    1\n",
      "0.01657    1\n",
      "0.01161    1\n",
      "Name: Shimmer:APQ5, Length: 189, dtype: int64\n",
      "0.01234    2\n",
      "0.00903    2\n",
      "0.01491    2\n",
      "0.01133    2\n",
      "0.01140    2\n",
      "          ..\n",
      "0.01095    1\n",
      "0.01758    1\n",
      "0.02745    1\n",
      "0.01879    1\n",
      "0.01373    1\n",
      "Name: MDVP:APQ, Length: 189, dtype: int64\n",
      "0.02184    2\n",
      "0.01567    2\n",
      "0.04736    2\n",
      "0.01898    2\n",
      "0.03831    2\n",
      "          ..\n",
      "0.07008    1\n",
      "0.04812    1\n",
      "0.03804    1\n",
      "0.03794    1\n",
      "0.03078    1\n",
      "Name: Shimmer:DDA, Length: 189, dtype: int64\n",
      "0.07223    2\n",
      "0.00340    2\n",
      "0.00476    2\n",
      "0.00479    2\n",
      "0.00681    2\n",
      "          ..\n",
      "0.04441    1\n",
      "0.02764    1\n",
      "0.01810    1\n",
      "0.10715    1\n",
      "0.04398    1\n",
      "Name: NHR, Length: 185, dtype: int64\n",
      "21.033    1\n",
      "24.971    1\n",
      "21.414    1\n",
      "20.651    1\n",
      "20.644    1\n",
      "         ..\n",
      "19.368    1\n",
      "19.517    1\n",
      "19.147    1\n",
      "17.883    1\n",
      "21.209    1\n",
      "Name: HNR, Length: 195, dtype: int64\n",
      "1    147\n",
      "0     48\n",
      "Name: status, dtype: int64\n",
      "0.414783    1\n",
      "0.538688    1\n",
      "0.583390    1\n",
      "0.429895    1\n",
      "0.434969    1\n",
      "           ..\n",
      "0.508479    1\n",
      "0.448439    1\n",
      "0.431674    1\n",
      "0.407567    1\n",
      "0.462803    1\n",
      "Name: RPDE, Length: 195, dtype: int64\n",
      "0.815285    1\n",
      "0.754073    1\n",
      "0.792520    1\n",
      "0.825288    1\n",
      "0.819235    1\n",
      "           ..\n",
      "0.683761    1\n",
      "0.657899    1\n",
      "0.683244    1\n",
      "0.655683    1\n",
      "0.664357    1\n",
      "Name: DFA, Length: 195, dtype: int64\n",
      "-4.813031    1\n",
      "-6.482096    1\n",
      "-4.960234    1\n",
      "-4.443179    1\n",
      "-4.117501    1\n",
      "            ..\n",
      "-6.934474    1\n",
      "-6.538586    1\n",
      "-6.195325    1\n",
      "-6.787197    1\n",
      "-5.724056    1\n",
      "Name: spread1, Length: 195, dtype: int64\n",
      "0.210279    2\n",
      "0.266392    1\n",
      "0.220890    1\n",
      "0.363566    1\n",
      "0.311173    1\n",
      "           ..\n",
      "0.159890    1\n",
      "0.121952    1\n",
      "0.129303    1\n",
      "0.158453    1\n",
      "0.190667    1\n",
      "Name: spread2, Length: 194, dtype: int64\n",
      "2.301442    1\n",
      "2.054419    1\n",
      "2.642476    1\n",
      "2.342259    1\n",
      "2.405554    1\n",
      "           ..\n",
      "2.316346    1\n",
      "2.657476    1\n",
      "2.784312    1\n",
      "2.679772    1\n",
      "2.555477    1\n",
      "Name: D2, Length: 195, dtype: int64\n",
      "0.284654    1\n",
      "0.128872    1\n",
      "0.275931    1\n",
      "0.332634    1\n",
      "0.368975    1\n",
      "           ..\n",
      "0.112838    1\n",
      "0.133050    1\n",
      "0.168895    1\n",
      "0.131728    1\n",
      "0.148569    1\n",
      "Name: PPE, Length: 195, dtype: int64\n"
     ]
    }
   ],
   "source": [
    "# Checking for the garbage values \n",
    "for col in df.columns:\n",
    "    print(df[col].value_counts().sort_values(ascending=False))\n"
   ]
  },
  {
   "cell_type": "markdown",
   "metadata": {},
   "source": [
    "There are no garbage values in the dataset"
   ]
  },
  {
   "cell_type": "markdown",
   "metadata": {},
   "source": [
    "There are no categorical columns in the dataset, so no need to convert any columns into categorical columns"
   ]
  },
  {
   "cell_type": "code",
   "execution_count": 455,
   "metadata": {},
   "outputs": [
    {
     "data": {
      "text/html": [
       "<div>\n",
       "<style scoped>\n",
       "    .dataframe tbody tr th:only-of-type {\n",
       "        vertical-align: middle;\n",
       "    }\n",
       "\n",
       "    .dataframe tbody tr th {\n",
       "        vertical-align: top;\n",
       "    }\n",
       "\n",
       "    .dataframe thead th {\n",
       "        text-align: right;\n",
       "    }\n",
       "</style>\n",
       "<table border=\"1\" class=\"dataframe\">\n",
       "  <thead>\n",
       "    <tr style=\"text-align: right;\">\n",
       "      <th></th>\n",
       "      <th>MDVP:Fo(Hz)</th>\n",
       "      <th>MDVP:Fhi(Hz)</th>\n",
       "      <th>MDVP:Flo(Hz)</th>\n",
       "      <th>MDVP:Jitter(%)</th>\n",
       "      <th>MDVP:Jitter(Abs)</th>\n",
       "      <th>MDVP:RAP</th>\n",
       "      <th>MDVP:PPQ</th>\n",
       "      <th>Jitter:DDP</th>\n",
       "      <th>MDVP:Shimmer</th>\n",
       "      <th>MDVP:Shimmer(dB)</th>\n",
       "      <th>...</th>\n",
       "      <th>MDVP:APQ</th>\n",
       "      <th>Shimmer:DDA</th>\n",
       "      <th>NHR</th>\n",
       "      <th>HNR</th>\n",
       "      <th>RPDE</th>\n",
       "      <th>DFA</th>\n",
       "      <th>spread1</th>\n",
       "      <th>spread2</th>\n",
       "      <th>D2</th>\n",
       "      <th>PPE</th>\n",
       "    </tr>\n",
       "    <tr>\n",
       "      <th>status</th>\n",
       "      <th></th>\n",
       "      <th></th>\n",
       "      <th></th>\n",
       "      <th></th>\n",
       "      <th></th>\n",
       "      <th></th>\n",
       "      <th></th>\n",
       "      <th></th>\n",
       "      <th></th>\n",
       "      <th></th>\n",
       "      <th></th>\n",
       "      <th></th>\n",
       "      <th></th>\n",
       "      <th></th>\n",
       "      <th></th>\n",
       "      <th></th>\n",
       "      <th></th>\n",
       "      <th></th>\n",
       "      <th></th>\n",
       "      <th></th>\n",
       "      <th></th>\n",
       "    </tr>\n",
       "  </thead>\n",
       "  <tbody>\n",
       "    <tr>\n",
       "      <th>0</th>\n",
       "      <td>181.937771</td>\n",
       "      <td>223.636750</td>\n",
       "      <td>145.207292</td>\n",
       "      <td>0.003866</td>\n",
       "      <td>0.000023</td>\n",
       "      <td>0.001925</td>\n",
       "      <td>0.002056</td>\n",
       "      <td>0.005776</td>\n",
       "      <td>0.017615</td>\n",
       "      <td>0.162958</td>\n",
       "      <td>...</td>\n",
       "      <td>0.013305</td>\n",
       "      <td>0.028511</td>\n",
       "      <td>0.011483</td>\n",
       "      <td>24.678750</td>\n",
       "      <td>0.442552</td>\n",
       "      <td>0.695716</td>\n",
       "      <td>-6.759264</td>\n",
       "      <td>0.160292</td>\n",
       "      <td>2.154491</td>\n",
       "      <td>0.123017</td>\n",
       "    </tr>\n",
       "    <tr>\n",
       "      <th>1</th>\n",
       "      <td>145.180762</td>\n",
       "      <td>188.441463</td>\n",
       "      <td>106.893558</td>\n",
       "      <td>0.006989</td>\n",
       "      <td>0.000051</td>\n",
       "      <td>0.003757</td>\n",
       "      <td>0.003900</td>\n",
       "      <td>0.011273</td>\n",
       "      <td>0.033658</td>\n",
       "      <td>0.321204</td>\n",
       "      <td>...</td>\n",
       "      <td>0.027600</td>\n",
       "      <td>0.053027</td>\n",
       "      <td>0.029211</td>\n",
       "      <td>20.974048</td>\n",
       "      <td>0.516816</td>\n",
       "      <td>0.725408</td>\n",
       "      <td>-5.333420</td>\n",
       "      <td>0.248133</td>\n",
       "      <td>2.456058</td>\n",
       "      <td>0.233828</td>\n",
       "    </tr>\n",
       "  </tbody>\n",
       "</table>\n",
       "<p>2 rows × 22 columns</p>\n",
       "</div>"
      ],
      "text/plain": [
       "        MDVP:Fo(Hz)  MDVP:Fhi(Hz)  MDVP:Flo(Hz)  MDVP:Jitter(%)  \\\n",
       "status                                                            \n",
       "0        181.937771    223.636750    145.207292        0.003866   \n",
       "1        145.180762    188.441463    106.893558        0.006989   \n",
       "\n",
       "        MDVP:Jitter(Abs)  MDVP:RAP  MDVP:PPQ  Jitter:DDP  MDVP:Shimmer  \\\n",
       "status                                                                   \n",
       "0               0.000023  0.001925  0.002056    0.005776      0.017615   \n",
       "1               0.000051  0.003757  0.003900    0.011273      0.033658   \n",
       "\n",
       "        MDVP:Shimmer(dB)  ...  MDVP:APQ  Shimmer:DDA       NHR        HNR  \\\n",
       "status                    ...                                               \n",
       "0               0.162958  ...  0.013305     0.028511  0.011483  24.678750   \n",
       "1               0.321204  ...  0.027600     0.053027  0.029211  20.974048   \n",
       "\n",
       "            RPDE       DFA   spread1   spread2        D2       PPE  \n",
       "status                                                              \n",
       "0       0.442552  0.695716 -6.759264  0.160292  2.154491  0.123017  \n",
       "1       0.516816  0.725408 -5.333420  0.248133  2.456058  0.233828  \n",
       "\n",
       "[2 rows x 22 columns]"
      ]
     },
     "execution_count": 455,
     "metadata": {},
     "output_type": "execute_result"
    }
   ],
   "source": [
    "inference = df.groupby(\"status\").mean()\n",
    "inference"
   ]
  },
  {
   "cell_type": "code",
   "execution_count": 456,
   "metadata": {},
   "outputs": [
    {
     "data": {
      "image/png": "[encoded data removed]",
      "text/plain": [
       "<Figure size 2500x500 with 1 Axes>"
      ]
     },
     "metadata": {},
     "output_type": "display_data"
    }
   ],
   "source": [
    "sns.set_palette(\"Paired\")\n",
    "plt.figure(figsize=(25,5))\n",
    "plt.plot(inference.iloc[0,:],marker=\"o\",markersize=10,label=\"Not Parkinsons\")\n",
    "plt.plot(inference.iloc[1,:],marker=\"*\",markersize=10,label=\"Parkinson\")\n",
    "plt.xticks(rotation=90)\n",
    "plt.xlabel(\"Voice measure\")\n",
    "plt.ylabel(\"Average Value\")\n",
    "plt.title(\"Average values for various voice measure of parkinson and non parkinson patients\")\n",
    "plt.legend();"
   ]
  },
  {
   "cell_type": "code",
   "execution_count": 457,
   "metadata": {},
   "outputs": [],
   "source": [
    "X = df.drop([\"status\"],axis=1).copy()\n",
    "y = df[\"status\"].copy()"
   ]
  },
  {
   "attachments": {},
   "cell_type": "markdown",
   "metadata": {},
   "source": [
    "#### Model Imports"
   ]
  },
  {
   "cell_type": "code",
   "execution_count": 458,
   "metadata": {},
   "outputs": [],
   "source": [
    "from sklearn.naive_bayes import GaussianNB\n",
    "from sklearn.linear_model import LogisticRegression\n",
    "from sklearn.svm import SVC\n",
    "from sklearn.tree import DecisionTreeClassifier\n",
    "from sklearn.ensemble import VotingClassifier\n",
    "from sklearn.neighbors import KNeighborsClassifier\n",
    "from sklearn.ensemble import RandomForestClassifier\n",
    "from sklearn.metrics import *\n",
    "from sklearn.model_selection import train_test_split\n",
    "from sklearn.model_selection import cross_val_score\n"
   ]
  },
  {
   "attachments": {},
   "cell_type": "markdown",
   "metadata": {},
   "source": [
    "#### Feature Selection imports"
   ]
  },
  {
   "cell_type": "code",
   "execution_count": 459,
   "metadata": {},
   "outputs": [],
   "source": [
    "from sklearn.feature_selection import mutual_info_classif # For variance thresholding\n",
    "from sklearn.feature_selection import chi2 # For Chi Squared Test\n",
    "from sklearn.feature_selection import SelectKBest # For Chi Squared Test\n",
    "from skfeature.function.similarity_based import fisher_score # For Fischer Similarity\n",
    "from sklearn.feature_selection import VarianceThreshold # For vairance thresholding\n",
    "from sklearn.preprocessing import MinMaxScaler # For scaling the value\n",
    "from sklearn.model_selection import GridSearchCV # For Grid Search CV\n",
    "from mlxtend.feature_selection import SequentialFeatureSelector # For exhaustive Feature Selection\n",
    "from mlxtend.feature_selection import ExhaustiveFeatureSelector # For exhaustive Feature Selection"
   ]
  },
  {
   "attachments": {},
   "cell_type": "markdown",
   "metadata": {},
   "source": [
    "## FEATURE SELECTION"
   ]
  },
  {
   "attachments": {},
   "cell_type": "markdown",
   "metadata": {},
   "source": [
    "## Filter Methods"
   ]
  },
  {
   "attachments": {},
   "cell_type": "markdown",
   "metadata": {},
   "source": [
    "#### Information Gain"
   ]
  },
  {
   "cell_type": "code",
   "execution_count": 460,
   "metadata": {},
   "outputs": [],
   "source": [
    "# This function takes X , y and threshold as input and returns the features with information gain greater than threshold\n",
    "def information_gain(X,y,threshold):\n",
    "    importances = mutual_info_classif(X,y)\n",
    "    feature_importance = pd.Series(importances,X.columns)\n",
    "    # Returns the feature with maximum to mimimum importance\n",
    "    return feature_importance>threshold"
   ]
  },
  {
   "attachments": {},
   "cell_type": "markdown",
   "metadata": {},
   "source": [
    "#### Fisher's Score"
   ]
  },
  {
   "cell_type": "code",
   "execution_count": 461,
   "metadata": {},
   "outputs": [],
   "source": [
    "def FisherScore(X,y):\n",
    "    # Calculating scores\n",
    "    ranks = fisher_score.fisher_score(X,y)\n",
    "    # Plotting the ranks\n",
    "    feature_importances = pd.Series(ranks,X.columns)\n",
    "    return feature_importances"
   ]
  },
  {
   "attachments": {},
   "cell_type": "markdown",
   "metadata": {},
   "source": [
    "#### Variance Threshold"
   ]
  },
  {
   "cell_type": "code",
   "execution_count": 462,
   "metadata": {},
   "outputs": [],
   "source": [
    "def varianceThreshold(X,y,threshold):\n",
    "    X_scaled = MinMaxScaler().fit_transform(X)\n",
    "    sel = VarianceThreshold(threshold=threshold)\n",
    "    sel.fit(X)\n",
    "    return sel.get_support()"
   ]
  },
  {
   "attachments": {},
   "cell_type": "markdown",
   "metadata": {},
   "source": [
    "#### GridSearchCV"
   ]
  },
  {
   "cell_type": "code",
   "execution_count": 463,
   "metadata": {},
   "outputs": [],
   "source": [
    "def gridsearchCV(estimator,features_,):\n",
    "    gridSearchModel = GridSearchCV(estimator = estimator,\n",
    "                                   param_grid = features_,\n",
    "                                   verbose = 2,\n",
    "                                   cv=4,\n",
    "                                   n_jobs=-1,\n",
    "                                   scoring=\"accuracy\")\n",
    "    return gridSearchModel"
   ]
  },
  {
   "attachments": {},
   "cell_type": "markdown",
   "metadata": {},
   "source": [
    "## Wrapper Methods"
   ]
  },
  {
   "attachments": {},
   "cell_type": "markdown",
   "metadata": {},
   "source": [
    "#### Exhaustive Feature Selection"
   ]
  },
  {
   "cell_type": "code",
   "execution_count": 464,
   "metadata": {},
   "outputs": [],
   "source": [
    "# # This feature selection technique does all the combination of the feature, trains the model then choose only those features having best score for the model.\n",
    "# # This feature selection is memory hungry. So it is tideous job for the machie to process the combination of every single feature\n",
    "# # def exhaustive():\n",
    "# selectedColumns = varianceThreshold(X,y,0.005) #Calling variance threshodl function to return selected feature mask\n",
    "# n_features = sum(selectedColumns)\n",
    "# X_new = X[X.columns[selectedColumns]]\n",
    "# efs = ExhaustiveFeatureSelector(RandomForestClassifier(n_jobs=-1),\n",
    "#                                                            min_features = 1,\n",
    "#                                                            max_features=10,\n",
    "#                                                            scoring = \"accuracy\",\n",
    "#                                                            cv=2,\n",
    "#                                                            n_jobs=-1).fit(X_new,y)\n",
    "    \n"
   ]
  },
  {
   "cell_type": "code",
   "execution_count": 465,
   "metadata": {},
   "outputs": [],
   "source": [
    "# efs.best_features_names_"
   ]
  },
  {
   "cell_type": "code",
   "execution_count": 466,
   "metadata": {},
   "outputs": [],
   "source": [
    "# efs.best_score_"
   ]
  },
  {
   "attachments": {},
   "cell_type": "markdown",
   "metadata": {},
   "source": [
    "## MODELS"
   ]
  },
  {
   "attachments": {},
   "cell_type": "markdown",
   "metadata": {},
   "source": [
    "#### KNN"
   ]
  },
  {
   "attachments": {},
   "cell_type": "markdown",
   "metadata": {},
   "source": [
    "#### Random Forest"
   ]
  },
  {
   "cell_type": "code",
   "execution_count": 467,
   "metadata": {},
   "outputs": [],
   "source": [
    "def randomForest_():\n",
    "    randomForestmodel = RandomForestClassifier(criterion=\"gini\",\n",
    "                                               random_state=0,\n",
    "                                               n_jobs=-1,\n",
    "                                               oob_score=True)\n",
    "    features = dict(max_depth= [2,3,5,10,20],\n",
    "    min_samples_leaf= [5,10,20,50,100,200],\n",
    "    n_estimators= [10,25,30,50,100,200])\n",
    "    model = gridsearchCV(randomForestmodel,features)\n",
    "    return model"
   ]
  },
  {
   "attachments": {},
   "cell_type": "markdown",
   "metadata": {},
   "source": [
    "#### Logistic Model"
   ]
  },
  {
   "cell_type": "code",
   "execution_count": 468,
   "metadata": {},
   "outputs": [],
   "source": [
    "def logistic():\n",
    "    Logisticmodel = LogisticRegression(max_iter=1000)\n",
    "    features_ = dict(C = [0.001,0.01,0.1,1,10,100],\n",
    "                     solver = ['lbfgs', 'liblinear', 'newton-cg', 'newton-cholesky', 'sag', 'saga'])\n",
    "    model = gridsearchCV(Logisticmodel,features_)\n",
    "    return model"
   ]
  },
  {
   "attachments": {},
   "cell_type": "markdown",
   "metadata": {},
   "source": [
    "#### Decision Tree"
   ]
  },
  {
   "cell_type": "code",
   "execution_count": 469,
   "metadata": {},
   "outputs": [],
   "source": [
    "def tree():\n",
    "    # Making prediction with Decision Tree Classifier\n",
    "    dtc = DecisionTreeClassifier(random_state=0)\n",
    "    features_ = dict(criterion = [\"gini\",\"entropy\",\"log_loss\"],\n",
    "                     max_depth= [2,3,5,10,20],\n",
    "                    min_samples_leaf= [5,10,20,50,100,200])\n",
    "    model = gridsearchCV(dtc,features_)\n",
    "    return model"
   ]
  },
  {
   "attachments": {},
   "cell_type": "markdown",
   "metadata": {},
   "source": [
    "#### Support Vector Machines"
   ]
  },
  {
   "cell_type": "code",
   "execution_count": 470,
   "metadata": {},
   "outputs": [],
   "source": [
    "def svm():\n",
    "    svmmodel = SVC(random_state=0)\n",
    "    features_ = dict(C = [0.001,0.01,0.1,1,10,100],\n",
    "                     kernel=['linear', 'poly', 'rbf', 'sigmoid'])\n",
    "    model = gridsearchCV(svmmodel,features_)\n",
    "    return model"
   ]
  },
  {
   "attachments": {},
   "cell_type": "markdown",
   "metadata": {},
   "source": [
    "#### Gaussian Naive Bayes"
   ]
  },
  {
   "cell_type": "code",
   "execution_count": 471,
   "metadata": {},
   "outputs": [],
   "source": [
    "def naive():\n",
    "    # Making prediction with naive bayes model\n",
    "    gnb = GaussianNB()\n",
    "    return gnb"
   ]
  },
  {
   "attachments": {},
   "cell_type": "markdown",
   "metadata": {},
   "source": [
    "#### Hard Voting Classifier"
   ]
  },
  {
   "cell_type": "code",
   "execution_count": 472,
   "metadata": {},
   "outputs": [],
   "source": [
    "def hardVoting():\n",
    "    # Using a voting classifier\n",
    "    # Creating voting classifier with soft voiting\n",
    "    votingClassifierHard = VotingClassifier(estimators=[(\"dtc\",DecisionTreeClassifier(random_state=0)),\n",
    "                                                (\"lr\",LogisticRegression()),\n",
    "                                                (\"gnb\",GaussianNB())],\n",
    "                                                voting=\"hard\")"
   ]
  },
  {
   "attachments": {},
   "cell_type": "markdown",
   "metadata": {},
   "source": [
    "#### Soft Voting Classifier"
   ]
  },
  {
   "cell_type": "code",
   "execution_count": 473,
   "metadata": {},
   "outputs": [],
   "source": [
    "# Creating a voting classifier with hard voting\n",
    "votingClassifierSoft = VotingClassifier(estimators=[(\"dtc\",DecisionTreeClassifier(random_state=0)),\n",
    "                                                (\"lr\",LogisticRegression()),\n",
    "                                                (\"gnb\",GaussianNB())],\n",
    "                                                voting=\"soft\")"
   ]
  },
  {
   "attachments": {},
   "cell_type": "markdown",
   "metadata": {},
   "source": [
    "## Analysis"
   ]
  },
  {
   "attachments": {},
   "cell_type": "markdown",
   "metadata": {},
   "source": [
    "#### F1 score and Accuracy"
   ]
  },
  {
   "cell_type": "code",
   "execution_count": 474,
   "metadata": {},
   "outputs": [],
   "source": [
    "def analysis(model,X_test,y_test):\n",
    "    from sklearn.metrics import f1_score,accuracy_score\n",
    "    return f1_score(y_test,model.predict(X_test)), accuracy_score(y_test,model.predict(X_test))"
   ]
  },
  {
   "attachments": {},
   "cell_type": "markdown",
   "metadata": {},
   "source": [
    "#### ROC AND AUC Curve"
   ]
  },
  {
   "cell_type": "code",
   "execution_count": 475,
   "metadata": {},
   "outputs": [],
   "source": [
    "def auc_(model,X_test,y_test):\n",
    "    return roc_auc_score(y_test,model.predict(X_test))"
   ]
  },
  {
   "attachments": {},
   "cell_type": "markdown",
   "metadata": {},
   "source": [
    "#### MODEL SELECTION"
   ]
  },
  {
   "cell_type": "code",
   "execution_count": 476,
   "metadata": {},
   "outputs": [],
   "source": [
    "def modelSelection(X,y):\n",
    "    \"\"\"\n",
    "This section will split the dataset into train and test and create a dataframe for the scoring\n",
    "    \n",
    "    \"\"\"\n",
    "    X_train,X_test,y_train,y_test = train_test_split(X,\n",
    "                                                     y,\n",
    "                                                     random_state=0,\n",
    "                                                     stratify = y,\n",
    "                                                     test_size=0.2)\n",
    "    scaler = StandardScaler()\n",
    "    scaler.fit(X_train)\n",
    "    X_train = scaler.transform(X_train)\n",
    "    X_test = scaler.transform(X_test)\n",
    "    return X_train,X_test,y_train,y_test"
   ]
  },
  {
   "cell_type": "code",
   "execution_count": 477,
   "metadata": {},
   "outputs": [],
   "source": [
    "# Creating a dataframe for various results\n",
    "result_ = pd.DataFrame(columns=[\"model\",\"method\",\"n_features\",\"threshold\",\"f1Score\",\"accuracy\",\"training score\",\"auc\"])\n",
    "def result(model,feature_selection_method,f1_score,accuracy,n_features,threshold,trainingScore,auc):\n",
    "    result_.loc[len(result_.index)] = [model,feature_selection_method,n_features,threshold,f1_score,accuracy,trainingScore,auc]"
   ]
  },
  {
   "attachments": {},
   "cell_type": "markdown",
   "metadata": {},
   "source": [
    "### -------VARIANCE THRESHOLD AND MODELS"
   ]
  },
  {
   "attachments": {},
   "cell_type": "markdown",
   "metadata": {},
   "source": [
    "Outline of how the calculation is being performed\n",
    "1. Calling one of the <b>feature selection</b> function to fit the feature and stroing in a variable  say <b>\"A\"</b>\n",
    "2. Adding the selected features <b>sum(A)</b>\n",
    "3. Masking the selected feature from the main dataframe\n",
    "4. Splitting the data into training and testing\n",
    "5. Applying the model by calling the respective function with training dataset and string in a variable say \"B\"\n",
    "6. printing the best parameters gained using grid search cd\n",
    "7. Calling the <b>analysis</b> function to calculate the f1 score and accuracy of the model\n",
    "8. Finally calling the result function to make a dataframe about the scoring"
   ]
  },
  {
   "cell_type": "code",
   "execution_count": 479,
   "metadata": {},
   "outputs": [],
   "source": [
    "def PreditiveModels(X,y,methods,threshold):\n",
    "        \n",
    "        func = globals()[methods] # This is for calling function by string\n",
    "        selectedColumns = func(X,y,threshold) #Selecting the columns whose information gain is > 0.1\n",
    "        n_features = sum(selectedColumns)\n",
    "        X_new = X[X.columns[selectedColumns]] # Selecting the features with the help of mask\n",
    "        X_train,X_test,y_train,y_test = modelSelection(X_new,y) # Calling the model selection function to split the model\n",
    "\n",
    "        \n",
    "# LOGISTIC REGRESSION\n",
    "        logisticModel = logistic().fit(X_train,y_train) # Calling the logistic function to return logistic model\n",
    "        print(f\"Best model params for Logistic Regression --> {logisticModel.best_params_}\")\n",
    "        # trs_L = Training score for logistic regression \n",
    "        trs_L = logisticModel.score(X_train,y_train)\n",
    "        f1_score_logistic, accuracy_logistic = analysis(logisticModel,X_test,y_test)\n",
    "        acu_Logistic = auc_(logisticModel,X_test,y_test)\n",
    "        result(\"LogisticRegression\",methods,f1_score_logistic,accuracy_logistic,n_features,threshold,trs_L,acu_Logistic) # Creating a dataframe for the model\n",
    "        \n",
    "# DECISION TREE\n",
    "        treeModel = tree().fit(X_train,y_train)\n",
    "        print(f\"Best model params for Decision Tree --> {treeModel.best_params_}\")\n",
    "        trs_T = treeModel.score(X_train,y_train)\n",
    "        f1_score_tree, accuracy_tree = analysis(treeModel,X_test,y_test)\n",
    "        acu_decision_tree = auc_(treeModel,X_test,y_test)\n",
    "        result(\"Decison Tree\",methods,f1_score_tree,accuracy_tree,n_features,threshold,trs_T,f1_score_tree)\n",
    "\n",
    "# SUPPORT VECTOR MACHINE\n",
    "        svmModel = svm().fit(X_train,y_train)\n",
    "        print(f\"Best model params for Support Vector Machines --> {svmModel.best_params_}\")\n",
    "        trs_S = svmModel.score(X_train,y_train)\n",
    "        f1_score_svm, accuracy_svm = analysis(svmModel,X_test,y_test)\n",
    "        acu_svm = auc_(svmModel,X_test,y_test)\n",
    "        result(\"SVM\",methods,f1_score_svm,accuracy_svm,n_features,threshold,trs_S,acu_svm) # Creating a dataframe for the model\n",
    "\n",
    "#RANDOM FOREST\n",
    "        randomForestModel = randomForest_().fit(X_train,y_train)\n",
    "        trs_R = randomForestModel.score(X_train,y_train)\n",
    "        f1_score_random, accuracy_random = analysis(randomForestModel,X_test,y_test)\n",
    "        acu_random_forest = auc_(randomForestModel,X_test,y_test)\n",
    "        result(\"Random Forest\",methods,f1_score_random,accuracy_random,n_features,threshold,trs_R,acu_random_forest)\n",
    "\n",
    "#NAIVE BAYES\n",
    "        naiveModel = naive().fit(X_train,y_train)\n",
    "        trs_N = naiveModel.score(X_train,y_train)\n",
    "        f1_score_naive, accuracy_naive = analysis(naiveModel,X_test,y_test)\n",
    "        acu_naive = auc_(naiveModel,X_test,y_test)\n",
    "        result(\"Naive Bayes\",methods,f1_score_naive,accuracy_naive,n_features,threshold,trs_N,acu_naive)"
   ]
  },
  {
   "cell_type": "code",
   "execution_count": 480,
   "metadata": {},
   "outputs": [
    {
     "name": "stdout",
     "output_type": "stream",
     "text": [
      "Fitting 4 folds for each of 36 candidates, totalling 144 fits\n",
      "Best model params for Logistic Regression --> {'C': 0.01, 'solver': 'saga'}\n",
      "Fitting 4 folds for each of 90 candidates, totalling 360 fits\n",
      "Best model params for Decision Tree --> {'criterion': 'entropy', 'max_depth': 3, 'min_samples_leaf': 5}\n",
      "Fitting 4 folds for each of 24 candidates, totalling 96 fits\n",
      "Best model params for Support Vector Machines --> {'C': 100, 'kernel': 'poly'}\n",
      "Fitting 4 folds for each of 180 candidates, totalling 720 fits\n"
     ]
    }
   ],
   "source": [
    "PreditiveModels(X,y,\"information_gain\",0.1)"
   ]
  },
  {
   "cell_type": "code",
   "execution_count": 481,
   "metadata": {},
   "outputs": [
    {
     "name": "stdout",
     "output_type": "stream",
     "text": [
      "Fitting 4 folds for each of 36 candidates, totalling 144 fits\n",
      "Best model params for Logistic Regression --> {'C': 1, 'solver': 'lbfgs'}\n",
      "Fitting 4 folds for each of 90 candidates, totalling 360 fits\n",
      "Best model params for Decision Tree --> {'criterion': 'entropy', 'max_depth': 10, 'min_samples_leaf': 5}\n",
      "Fitting 4 folds for each of 24 candidates, totalling 96 fits\n",
      "Best model params for Support Vector Machines --> {'C': 10, 'kernel': 'rbf'}\n",
      "Fitting 4 folds for each of 180 candidates, totalling 720 fits\n"
     ]
    }
   ],
   "source": [
    "PreditiveModels(X,y,\"varianceThreshold\",0.05)"
   ]
  },
  {
   "cell_type": "code",
   "execution_count": 482,
   "metadata": {},
   "outputs": [
    {
     "name": "stdout",
     "output_type": "stream",
     "text": [
      "Fitting 4 folds for each of 36 candidates, totalling 144 fits\n",
      "Best model params for Logistic Regression --> {'C': 0.1, 'solver': 'lbfgs'}\n",
      "Fitting 4 folds for each of 90 candidates, totalling 360 fits\n",
      "Best model params for Decision Tree --> {'criterion': 'entropy', 'max_depth': 3, 'min_samples_leaf': 10}\n",
      "Fitting 4 folds for each of 24 candidates, totalling 96 fits\n",
      "Best model params for Support Vector Machines --> {'C': 100, 'kernel': 'rbf'}\n",
      "Fitting 4 folds for each of 180 candidates, totalling 720 fits\n"
     ]
    }
   ],
   "source": [
    "PreditiveModels(X,y,\"varianceThreshold\",0.01)"
   ]
  },
  {
   "cell_type": "code",
   "execution_count": 483,
   "metadata": {},
   "outputs": [
    {
     "data": {
      "text/html": [
       "<div>\n",
       "<style scoped>\n",
       "    .dataframe tbody tr th:only-of-type {\n",
       "        vertical-align: middle;\n",
       "    }\n",
       "\n",
       "    .dataframe tbody tr th {\n",
       "        vertical-align: top;\n",
       "    }\n",
       "\n",
       "    .dataframe thead th {\n",
       "        text-align: right;\n",
       "    }\n",
       "</style>\n",
       "<table border=\"1\" class=\"dataframe\">\n",
       "  <thead>\n",
       "    <tr style=\"text-align: right;\">\n",
       "      <th></th>\n",
       "      <th>model</th>\n",
       "      <th>method</th>\n",
       "      <th>n_features</th>\n",
       "      <th>threshold</th>\n",
       "      <th>f1Score</th>\n",
       "      <th>accuracy</th>\n",
       "      <th>training score</th>\n",
       "      <th>auc</th>\n",
       "    </tr>\n",
       "  </thead>\n",
       "  <tbody>\n",
       "    <tr>\n",
       "      <th>0</th>\n",
       "      <td>LogisticRegression</td>\n",
       "      <td>information_gain</td>\n",
       "      <td>17</td>\n",
       "      <td>0.10</td>\n",
       "      <td>0.903226</td>\n",
       "      <td>0.846154</td>\n",
       "      <td>0.852564</td>\n",
       "      <td>0.732759</td>\n",
       "    </tr>\n",
       "    <tr>\n",
       "      <th>1</th>\n",
       "      <td>Decison Tree</td>\n",
       "      <td>information_gain</td>\n",
       "      <td>17</td>\n",
       "      <td>0.10</td>\n",
       "      <td>0.872727</td>\n",
       "      <td>0.820513</td>\n",
       "      <td>0.929487</td>\n",
       "      <td>0.872727</td>\n",
       "    </tr>\n",
       "    <tr>\n",
       "      <th>2</th>\n",
       "      <td>SVM</td>\n",
       "      <td>information_gain</td>\n",
       "      <td>17</td>\n",
       "      <td>0.10</td>\n",
       "      <td>0.931034</td>\n",
       "      <td>0.897436</td>\n",
       "      <td>0.980769</td>\n",
       "      <td>0.865517</td>\n",
       "    </tr>\n",
       "    <tr>\n",
       "      <th>3</th>\n",
       "      <td>Random Forest</td>\n",
       "      <td>information_gain</td>\n",
       "      <td>17</td>\n",
       "      <td>0.10</td>\n",
       "      <td>0.931034</td>\n",
       "      <td>0.897436</td>\n",
       "      <td>0.948718</td>\n",
       "      <td>0.865517</td>\n",
       "    </tr>\n",
       "    <tr>\n",
       "      <th>4</th>\n",
       "      <td>Naive Bayes</td>\n",
       "      <td>information_gain</td>\n",
       "      <td>17</td>\n",
       "      <td>0.10</td>\n",
       "      <td>0.695652</td>\n",
       "      <td>0.641026</td>\n",
       "      <td>0.717949</td>\n",
       "      <td>0.725862</td>\n",
       "    </tr>\n",
       "    <tr>\n",
       "      <th>5</th>\n",
       "      <td>LogisticRegression</td>\n",
       "      <td>varianceThreshold</td>\n",
       "      <td>6</td>\n",
       "      <td>0.05</td>\n",
       "      <td>0.857143</td>\n",
       "      <td>0.794872</td>\n",
       "      <td>0.871795</td>\n",
       "      <td>0.763793</td>\n",
       "    </tr>\n",
       "    <tr>\n",
       "      <th>6</th>\n",
       "      <td>Decison Tree</td>\n",
       "      <td>varianceThreshold</td>\n",
       "      <td>6</td>\n",
       "      <td>0.05</td>\n",
       "      <td>0.950820</td>\n",
       "      <td>0.923077</td>\n",
       "      <td>0.923077</td>\n",
       "      <td>0.950820</td>\n",
       "    </tr>\n",
       "    <tr>\n",
       "      <th>7</th>\n",
       "      <td>SVM</td>\n",
       "      <td>varianceThreshold</td>\n",
       "      <td>6</td>\n",
       "      <td>0.05</td>\n",
       "      <td>0.949153</td>\n",
       "      <td>0.923077</td>\n",
       "      <td>0.948718</td>\n",
       "      <td>0.882759</td>\n",
       "    </tr>\n",
       "    <tr>\n",
       "      <th>8</th>\n",
       "      <td>Random Forest</td>\n",
       "      <td>varianceThreshold</td>\n",
       "      <td>6</td>\n",
       "      <td>0.05</td>\n",
       "      <td>0.933333</td>\n",
       "      <td>0.897436</td>\n",
       "      <td>0.948718</td>\n",
       "      <td>0.832759</td>\n",
       "    </tr>\n",
       "    <tr>\n",
       "      <th>9</th>\n",
       "      <td>Naive Bayes</td>\n",
       "      <td>varianceThreshold</td>\n",
       "      <td>6</td>\n",
       "      <td>0.05</td>\n",
       "      <td>0.821429</td>\n",
       "      <td>0.743590</td>\n",
       "      <td>0.839744</td>\n",
       "      <td>0.696552</td>\n",
       "    </tr>\n",
       "    <tr>\n",
       "      <th>10</th>\n",
       "      <td>LogisticRegression</td>\n",
       "      <td>varianceThreshold</td>\n",
       "      <td>8</td>\n",
       "      <td>0.01</td>\n",
       "      <td>0.862069</td>\n",
       "      <td>0.794872</td>\n",
       "      <td>0.839744</td>\n",
       "      <td>0.731034</td>\n",
       "    </tr>\n",
       "    <tr>\n",
       "      <th>11</th>\n",
       "      <td>Decison Tree</td>\n",
       "      <td>varianceThreshold</td>\n",
       "      <td>8</td>\n",
       "      <td>0.01</td>\n",
       "      <td>0.888889</td>\n",
       "      <td>0.846154</td>\n",
       "      <td>0.923077</td>\n",
       "      <td>0.888889</td>\n",
       "    </tr>\n",
       "    <tr>\n",
       "      <th>12</th>\n",
       "      <td>SVM</td>\n",
       "      <td>varianceThreshold</td>\n",
       "      <td>8</td>\n",
       "      <td>0.01</td>\n",
       "      <td>0.965517</td>\n",
       "      <td>0.948718</td>\n",
       "      <td>1.000000</td>\n",
       "      <td>0.932759</td>\n",
       "    </tr>\n",
       "    <tr>\n",
       "      <th>13</th>\n",
       "      <td>Random Forest</td>\n",
       "      <td>varianceThreshold</td>\n",
       "      <td>8</td>\n",
       "      <td>0.01</td>\n",
       "      <td>0.915254</td>\n",
       "      <td>0.871795</td>\n",
       "      <td>0.955128</td>\n",
       "      <td>0.815517</td>\n",
       "    </tr>\n",
       "    <tr>\n",
       "      <th>14</th>\n",
       "      <td>Naive Bayes</td>\n",
       "      <td>varianceThreshold</td>\n",
       "      <td>8</td>\n",
       "      <td>0.01</td>\n",
       "      <td>0.769231</td>\n",
       "      <td>0.692308</td>\n",
       "      <td>0.839744</td>\n",
       "      <td>0.694828</td>\n",
       "    </tr>\n",
       "  </tbody>\n",
       "</table>\n",
       "</div>"
      ],
      "text/plain": [
       "                 model             method  n_features  threshold   f1Score  \\\n",
       "0   LogisticRegression   information_gain          17       0.10  0.903226   \n",
       "1         Decison Tree   information_gain          17       0.10  0.872727   \n",
       "2                  SVM   information_gain          17       0.10  0.931034   \n",
       "3        Random Forest   information_gain          17       0.10  0.931034   \n",
       "4          Naive Bayes   information_gain          17       0.10  0.695652   \n",
       "5   LogisticRegression  varianceThreshold           6       0.05  0.857143   \n",
       "6         Decison Tree  varianceThreshold           6       0.05  0.950820   \n",
       "7                  SVM  varianceThreshold           6       0.05  0.949153   \n",
       "8        Random Forest  varianceThreshold           6       0.05  0.933333   \n",
       "9          Naive Bayes  varianceThreshold           6       0.05  0.821429   \n",
       "10  LogisticRegression  varianceThreshold           8       0.01  0.862069   \n",
       "11        Decison Tree  varianceThreshold           8       0.01  0.888889   \n",
       "12                 SVM  varianceThreshold           8       0.01  0.965517   \n",
       "13       Random Forest  varianceThreshold           8       0.01  0.915254   \n",
       "14         Naive Bayes  varianceThreshold           8       0.01  0.769231   \n",
       "\n",
       "    accuracy  training score       auc  \n",
       "0   0.846154        0.852564  0.732759  \n",
       "1   0.820513        0.929487  0.872727  \n",
       "2   0.897436        0.980769  0.865517  \n",
       "3   0.897436        0.948718  0.865517  \n",
       "4   0.641026        0.717949  0.725862  \n",
       "5   0.794872        0.871795  0.763793  \n",
       "6   0.923077        0.923077  0.950820  \n",
       "7   0.923077        0.948718  0.882759  \n",
       "8   0.897436        0.948718  0.832759  \n",
       "9   0.743590        0.839744  0.696552  \n",
       "10  0.794872        0.839744  0.731034  \n",
       "11  0.846154        0.923077  0.888889  \n",
       "12  0.948718        1.000000  0.932759  \n",
       "13  0.871795        0.955128  0.815517  \n",
       "14  0.692308        0.839744  0.694828  "
      ]
     },
     "execution_count": 483,
     "metadata": {},
     "output_type": "execute_result"
    }
   ],
   "source": [
    "result_"
   ]
  },
  {
   "attachments": {},
   "cell_type": "markdown",
   "metadata": {},
   "source": [
    "# ANALYSIS"
   ]
  },
  {
   "attachments": {},
   "cell_type": "markdown",
   "metadata": {},
   "source": [
    "### WITH INFORMATION GAIN= 0.1"
   ]
  },
  {
   "cell_type": "code",
   "execution_count": 484,
   "metadata": {},
   "outputs": [
    {
     "data": {
      "text/html": [
       "<div>\n",
       "<style scoped>\n",
       "    .dataframe tbody tr th:only-of-type {\n",
       "        vertical-align: middle;\n",
       "    }\n",
       "\n",
       "    .dataframe tbody tr th {\n",
       "        vertical-align: top;\n",
       "    }\n",
       "\n",
       "    .dataframe thead th {\n",
       "        text-align: right;\n",
       "    }\n",
       "</style>\n",
       "<table border=\"1\" class=\"dataframe\">\n",
       "  <thead>\n",
       "    <tr style=\"text-align: right;\">\n",
       "      <th></th>\n",
       "      <th>model</th>\n",
       "      <th>method</th>\n",
       "      <th>n_features</th>\n",
       "      <th>threshold</th>\n",
       "      <th>f1Score</th>\n",
       "      <th>accuracy</th>\n",
       "      <th>training score</th>\n",
       "      <th>auc</th>\n",
       "    </tr>\n",
       "  </thead>\n",
       "  <tbody>\n",
       "    <tr>\n",
       "      <th>0</th>\n",
       "      <td>LogisticRegression</td>\n",
       "      <td>information_gain</td>\n",
       "      <td>17</td>\n",
       "      <td>0.1</td>\n",
       "      <td>0.903226</td>\n",
       "      <td>0.846154</td>\n",
       "      <td>0.852564</td>\n",
       "      <td>0.732759</td>\n",
       "    </tr>\n",
       "    <tr>\n",
       "      <th>1</th>\n",
       "      <td>Decison Tree</td>\n",
       "      <td>information_gain</td>\n",
       "      <td>17</td>\n",
       "      <td>0.1</td>\n",
       "      <td>0.872727</td>\n",
       "      <td>0.820513</td>\n",
       "      <td>0.929487</td>\n",
       "      <td>0.872727</td>\n",
       "    </tr>\n",
       "    <tr>\n",
       "      <th>2</th>\n",
       "      <td>SVM</td>\n",
       "      <td>information_gain</td>\n",
       "      <td>17</td>\n",
       "      <td>0.1</td>\n",
       "      <td>0.931034</td>\n",
       "      <td>0.897436</td>\n",
       "      <td>0.980769</td>\n",
       "      <td>0.865517</td>\n",
       "    </tr>\n",
       "    <tr>\n",
       "      <th>3</th>\n",
       "      <td>Random Forest</td>\n",
       "      <td>information_gain</td>\n",
       "      <td>17</td>\n",
       "      <td>0.1</td>\n",
       "      <td>0.931034</td>\n",
       "      <td>0.897436</td>\n",
       "      <td>0.948718</td>\n",
       "      <td>0.865517</td>\n",
       "    </tr>\n",
       "    <tr>\n",
       "      <th>4</th>\n",
       "      <td>Naive Bayes</td>\n",
       "      <td>information_gain</td>\n",
       "      <td>17</td>\n",
       "      <td>0.1</td>\n",
       "      <td>0.695652</td>\n",
       "      <td>0.641026</td>\n",
       "      <td>0.717949</td>\n",
       "      <td>0.725862</td>\n",
       "    </tr>\n",
       "  </tbody>\n",
       "</table>\n",
       "</div>"
      ],
      "text/plain": [
       "                model            method  n_features  threshold   f1Score  \\\n",
       "0  LogisticRegression  information_gain          17        0.1  0.903226   \n",
       "1        Decison Tree  information_gain          17        0.1  0.872727   \n",
       "2                 SVM  information_gain          17        0.1  0.931034   \n",
       "3       Random Forest  information_gain          17        0.1  0.931034   \n",
       "4         Naive Bayes  information_gain          17        0.1  0.695652   \n",
       "\n",
       "   accuracy  training score       auc  \n",
       "0  0.846154        0.852564  0.732759  \n",
       "1  0.820513        0.929487  0.872727  \n",
       "2  0.897436        0.980769  0.865517  \n",
       "3  0.897436        0.948718  0.865517  \n",
       "4  0.641026        0.717949  0.725862  "
      ]
     },
     "execution_count": 484,
     "metadata": {},
     "output_type": "execute_result"
    }
   ],
   "source": [
    "df1 = result_[(result_[\"method\"]==\"information_gain\")& (result_[\"threshold\"]==0.10)]\n",
    "df1"
   ]
  },
  {
   "cell_type": "code",
   "execution_count": 485,
   "metadata": {},
   "outputs": [
    {
     "data": {
      "text/plain": [
       "(5, 8)"
      ]
     },
     "execution_count": 485,
     "metadata": {},
     "output_type": "execute_result"
    }
   ],
   "source": [
    "df1.shape"
   ]
  },
  {
   "cell_type": "code",
   "execution_count": 486,
   "metadata": {},
   "outputs": [],
   "source": [
    "def plotting(dataframe_,title1,title2):\n",
    "\n",
    "    sns.set_palette(\"Paired\") # This is for theming palette\n",
    "    plt.figure(figsize=(25,5)) # Setting up the figure size\n",
    "    x = np.arange(dataframe_.shape[0]) # For x ticks purpose \n",
    "\n",
    "\n",
    "    plt.subplot(1,2,1) # First subplot\n",
    "\n",
    "\n",
    "    plt.bar(x,dataframe_[\"training score\"],width=0.3,label=\"train\") # Plotting the line graph for training score\n",
    "    for index,values in zip(x,dataframe_[\"training score\"]): # This is for adding text to the graph\n",
    "        plt.text(index-0.1,values/2,f\"{values:.2f}\",color=\"#576CBC\")\n",
    "\n",
    "    plt.bar(x+0.3,dataframe_[\"accuracy\"],\n",
    "            width=0.3,\n",
    "            label=\"accuracy\")\n",
    "    for index,values in zip(x,dataframe_[\"accuracy\"]):\n",
    "        plt.text(index+0.2,values/2,f\"{values:.2f}\",color=\"#FFF2CC\")\n",
    "\n",
    "    plt.xticks(x,dataframe_[\"model\"],rotation=50)\n",
    "    plt.title(title1)\n",
    "    plt.xlabel(\"Models\")\n",
    "    plt.ylabel(\"Training and Testing score\")\n",
    "    plt.legend()\n",
    "\n",
    "\n",
    "    plt.subplot(1,2,2)\n",
    "\n",
    "\n",
    "    plt.bar(x,dataframe_[\"f1Score\"],width=0.3,label=\"f1Score\")\n",
    "\n",
    "    for index,values in zip(x,dataframe_[\"f1Score\"]):\n",
    "        plt.text(index,values/2,f\"{values:.2f}\",verticalalignment=\"bottom\",horizontalalignment='center',color=\"#0B2447\",fontsize=\"small\")\n",
    "    \n",
    "    plt.bar(x+0.3,dataframe_[\"auc\"],width=0.3,label=\"auc\")\n",
    "\n",
    "    for index,values in zip(x,dataframe_[\"auc\"]):\n",
    "        plt.text(index+0.3,values/2,f\"{values:.2f}\",verticalalignment=\"bottom\",horizontalalignment='center',color=\"#0B2447\",fontsize=\"small\")\n",
    "\n",
    "    \n",
    "    plt.xticks(x,dataframe_[\"model\"],rotation=45)\n",
    "    plt.title(title2)\n",
    "    plt.xlabel(\"Models\")\n",
    "    plt.ylabel(\"Score\")\n",
    "    plt.legend()\n",
    "    plt.show()\n"
   ]
  },
  {
   "cell_type": "code",
   "execution_count": 487,
   "metadata": {},
   "outputs": [
    {
     "data": {
      "image/png": "[encoded data removed]",
      "text/plain": [
       "<Figure size 2500x500 with 2 Axes>"
      ]
     },
     "metadata": {},
     "output_type": "display_data"
    }
   ],
   "source": [
    "plotting(df1,title1 = \"Training and testing accuracy for models with information gain = 0.1\",title2 = \"f1_score and auc for models with information gain = 0.1\")"
   ]
  },
  {
   "attachments": {},
   "cell_type": "markdown",
   "metadata": {},
   "source": [
    "Naive Bayes is the worst performer here \\\n",
    "Decision Tree is clearly overfitting \\\n",
    "<B>Random Forest</B> is doing better job for f1 score and accuracy as well as training and testing score"
   ]
  },
  {
   "attachments": {},
   "cell_type": "markdown",
   "metadata": {},
   "source": [
    "### VARIANCE THRESHOLD = 0.05"
   ]
  },
  {
   "cell_type": "code",
   "execution_count": 488,
   "metadata": {},
   "outputs": [
    {
     "data": {
      "text/html": [
       "<div>\n",
       "<style scoped>\n",
       "    .dataframe tbody tr th:only-of-type {\n",
       "        vertical-align: middle;\n",
       "    }\n",
       "\n",
       "    .dataframe tbody tr th {\n",
       "        vertical-align: top;\n",
       "    }\n",
       "\n",
       "    .dataframe thead th {\n",
       "        text-align: right;\n",
       "    }\n",
       "</style>\n",
       "<table border=\"1\" class=\"dataframe\">\n",
       "  <thead>\n",
       "    <tr style=\"text-align: right;\">\n",
       "      <th></th>\n",
       "      <th>model</th>\n",
       "      <th>method</th>\n",
       "      <th>n_features</th>\n",
       "      <th>threshold</th>\n",
       "      <th>f1Score</th>\n",
       "      <th>accuracy</th>\n",
       "      <th>training score</th>\n",
       "      <th>auc</th>\n",
       "    </tr>\n",
       "  </thead>\n",
       "  <tbody>\n",
       "    <tr>\n",
       "      <th>0</th>\n",
       "      <td>LogisticRegression</td>\n",
       "      <td>varianceThreshold</td>\n",
       "      <td>6</td>\n",
       "      <td>0.05</td>\n",
       "      <td>0.857143</td>\n",
       "      <td>0.794872</td>\n",
       "      <td>0.871795</td>\n",
       "      <td>0.763793</td>\n",
       "    </tr>\n",
       "    <tr>\n",
       "      <th>1</th>\n",
       "      <td>Decison Tree</td>\n",
       "      <td>varianceThreshold</td>\n",
       "      <td>6</td>\n",
       "      <td>0.05</td>\n",
       "      <td>0.950820</td>\n",
       "      <td>0.923077</td>\n",
       "      <td>0.923077</td>\n",
       "      <td>0.950820</td>\n",
       "    </tr>\n",
       "    <tr>\n",
       "      <th>2</th>\n",
       "      <td>SVM</td>\n",
       "      <td>varianceThreshold</td>\n",
       "      <td>6</td>\n",
       "      <td>0.05</td>\n",
       "      <td>0.949153</td>\n",
       "      <td>0.923077</td>\n",
       "      <td>0.948718</td>\n",
       "      <td>0.882759</td>\n",
       "    </tr>\n",
       "    <tr>\n",
       "      <th>3</th>\n",
       "      <td>Random Forest</td>\n",
       "      <td>varianceThreshold</td>\n",
       "      <td>6</td>\n",
       "      <td>0.05</td>\n",
       "      <td>0.933333</td>\n",
       "      <td>0.897436</td>\n",
       "      <td>0.948718</td>\n",
       "      <td>0.832759</td>\n",
       "    </tr>\n",
       "    <tr>\n",
       "      <th>4</th>\n",
       "      <td>Naive Bayes</td>\n",
       "      <td>varianceThreshold</td>\n",
       "      <td>6</td>\n",
       "      <td>0.05</td>\n",
       "      <td>0.821429</td>\n",
       "      <td>0.743590</td>\n",
       "      <td>0.839744</td>\n",
       "      <td>0.696552</td>\n",
       "    </tr>\n",
       "  </tbody>\n",
       "</table>\n",
       "</div>"
      ],
      "text/plain": [
       "                model             method  n_features  threshold   f1Score  \\\n",
       "0  LogisticRegression  varianceThreshold           6       0.05  0.857143   \n",
       "1        Decison Tree  varianceThreshold           6       0.05  0.950820   \n",
       "2                 SVM  varianceThreshold           6       0.05  0.949153   \n",
       "3       Random Forest  varianceThreshold           6       0.05  0.933333   \n",
       "4         Naive Bayes  varianceThreshold           6       0.05  0.821429   \n",
       "\n",
       "   accuracy  training score       auc  \n",
       "0  0.794872        0.871795  0.763793  \n",
       "1  0.923077        0.923077  0.950820  \n",
       "2  0.923077        0.948718  0.882759  \n",
       "3  0.897436        0.948718  0.832759  \n",
       "4  0.743590        0.839744  0.696552  "
      ]
     },
     "execution_count": 488,
     "metadata": {},
     "output_type": "execute_result"
    }
   ],
   "source": [
    "df2 = result_[(result_[\"method\"]==\"varianceThreshold\")& (result_[\"threshold\"]==0.05)].reset_index(drop=True)\n",
    "df2"
   ]
  },
  {
   "cell_type": "code",
   "execution_count": 489,
   "metadata": {},
   "outputs": [
    {
     "data": {
      "image/png": "[encoded data removed]",
      "text/plain": [
       "<Figure size 2500x500 with 2 Axes>"
      ]
     },
     "metadata": {},
     "output_type": "display_data"
    }
   ],
   "source": [
    "plotting(df2,title1 = \"Training and testing accuracy for models with Variance threshold = 0.05\",title2 = \"f1_score and auc for models with Variance threshold = 0.05\")"
   ]
  },
  {
   "attachments": {},
   "cell_type": "markdown",
   "metadata": {},
   "source": [
    "### VARIANCE THRESHOLD = 0.001  "
   ]
  },
  {
   "cell_type": "code",
   "execution_count": 490,
   "metadata": {},
   "outputs": [
    {
     "data": {
      "text/html": [
       "<div>\n",
       "<style scoped>\n",
       "    .dataframe tbody tr th:only-of-type {\n",
       "        vertical-align: middle;\n",
       "    }\n",
       "\n",
       "    .dataframe tbody tr th {\n",
       "        vertical-align: top;\n",
       "    }\n",
       "\n",
       "    .dataframe thead th {\n",
       "        text-align: right;\n",
       "    }\n",
       "</style>\n",
       "<table border=\"1\" class=\"dataframe\">\n",
       "  <thead>\n",
       "    <tr style=\"text-align: right;\">\n",
       "      <th></th>\n",
       "      <th>model</th>\n",
       "      <th>method</th>\n",
       "      <th>n_features</th>\n",
       "      <th>threshold</th>\n",
       "      <th>f1Score</th>\n",
       "      <th>accuracy</th>\n",
       "      <th>training score</th>\n",
       "      <th>auc</th>\n",
       "    </tr>\n",
       "  </thead>\n",
       "  <tbody>\n",
       "    <tr>\n",
       "      <th>0</th>\n",
       "      <td>LogisticRegression</td>\n",
       "      <td>varianceThreshold</td>\n",
       "      <td>8</td>\n",
       "      <td>0.01</td>\n",
       "      <td>0.862069</td>\n",
       "      <td>0.794872</td>\n",
       "      <td>0.839744</td>\n",
       "      <td>0.731034</td>\n",
       "    </tr>\n",
       "    <tr>\n",
       "      <th>1</th>\n",
       "      <td>Decison Tree</td>\n",
       "      <td>varianceThreshold</td>\n",
       "      <td>8</td>\n",
       "      <td>0.01</td>\n",
       "      <td>0.888889</td>\n",
       "      <td>0.846154</td>\n",
       "      <td>0.923077</td>\n",
       "      <td>0.888889</td>\n",
       "    </tr>\n",
       "    <tr>\n",
       "      <th>2</th>\n",
       "      <td>SVM</td>\n",
       "      <td>varianceThreshold</td>\n",
       "      <td>8</td>\n",
       "      <td>0.01</td>\n",
       "      <td>0.965517</td>\n",
       "      <td>0.948718</td>\n",
       "      <td>1.000000</td>\n",
       "      <td>0.932759</td>\n",
       "    </tr>\n",
       "    <tr>\n",
       "      <th>3</th>\n",
       "      <td>Random Forest</td>\n",
       "      <td>varianceThreshold</td>\n",
       "      <td>8</td>\n",
       "      <td>0.01</td>\n",
       "      <td>0.915254</td>\n",
       "      <td>0.871795</td>\n",
       "      <td>0.955128</td>\n",
       "      <td>0.815517</td>\n",
       "    </tr>\n",
       "    <tr>\n",
       "      <th>4</th>\n",
       "      <td>Naive Bayes</td>\n",
       "      <td>varianceThreshold</td>\n",
       "      <td>8</td>\n",
       "      <td>0.01</td>\n",
       "      <td>0.769231</td>\n",
       "      <td>0.692308</td>\n",
       "      <td>0.839744</td>\n",
       "      <td>0.694828</td>\n",
       "    </tr>\n",
       "  </tbody>\n",
       "</table>\n",
       "</div>"
      ],
      "text/plain": [
       "                model             method  n_features  threshold   f1Score  \\\n",
       "0  LogisticRegression  varianceThreshold           8       0.01  0.862069   \n",
       "1        Decison Tree  varianceThreshold           8       0.01  0.888889   \n",
       "2                 SVM  varianceThreshold           8       0.01  0.965517   \n",
       "3       Random Forest  varianceThreshold           8       0.01  0.915254   \n",
       "4         Naive Bayes  varianceThreshold           8       0.01  0.769231   \n",
       "\n",
       "   accuracy  training score       auc  \n",
       "0  0.794872        0.839744  0.731034  \n",
       "1  0.846154        0.923077  0.888889  \n",
       "2  0.948718        1.000000  0.932759  \n",
       "3  0.871795        0.955128  0.815517  \n",
       "4  0.692308        0.839744  0.694828  "
      ]
     },
     "execution_count": 490,
     "metadata": {},
     "output_type": "execute_result"
    }
   ],
   "source": [
    "df3 = result_[(result_[\"method\"]==\"varianceThreshold\") & (result_[\"threshold\"]==0.01)].reset_index(drop=True)\n",
    "df3"
   ]
  },
  {
   "cell_type": "code",
   "execution_count": 491,
   "metadata": {},
   "outputs": [
    {
     "data": {
      "image/png": "[encoded data removed]",
      "text/plain": [
       "<Figure size 2500x500 with 2 Axes>"
      ]
     },
     "metadata": {},
     "output_type": "display_data"
    }
   ],
   "source": [
    "plotting(df3,title1 = \"Training and testing accuracy for models with Variance threshold = 0.01\",title2 = \"f1_score and auc for models with Variance threshold = 0.01\")"
   ]
  },
  {
   "cell_type": "code",
   "execution_count": 492,
   "metadata": {},
   "outputs": [],
   "source": [
    "feature = varianceThreshold(X,y,0.05)\n",
    "X = X.loc[:,feature].copy()"
   ]
  },
  {
   "cell_type": "code",
   "execution_count": 493,
   "metadata": {},
   "outputs": [
    {
     "name": "stdout",
     "output_type": "stream",
     "text": [
      "[0]\tvalidation_0-logloss:0.50828\tvalidation_1-logloss:0.56891\n",
      "[81]\tvalidation_0-logloss:0.02645\tvalidation_1-logloss:0.25298\n",
      "Tra: 1.0\n",
      " test 0.9230769230769231\n"
     ]
    }
   ],
   "source": [
    "from xgboost import XGBClassifier\n",
    "model = XGBClassifier(n_estimators=1000,\n",
    "                      early_stopping_rounds=50,\n",
    "                      max_depth=6,\n",
    "                      booster=\"gbtree\"\n",
    "                    )\n",
    "X_train,X_test,y_train,y_test = modelSelection(X,y)\n",
    "model.fit(X_train,y_train,\n",
    "          eval_set=[(X_train,y_train),(X_test,y_test)],\n",
    "          verbose=100)\n",
    "print(f\"Tra: {model.score(X_train,y_train)}\")\n",
    "print(f\" test {model.score(X_test,y_test)}\")\n"
   ]
  },
  {
   "attachments": {},
   "cell_type": "markdown",
   "metadata": {},
   "source": [
    "### Training on cross validation"
   ]
  },
  {
   "cell_type": "code",
   "execution_count": 494,
   "metadata": {},
   "outputs": [],
   "source": [
    "model = XGBClassifier(n_estimators=1000,\n",
    "                      early_stopping_rounds=50,\n",
    "                      max_depth=6,\n",
    "                      booster=\"gbtree\"\n",
    "                    )"
   ]
  },
  {
   "cell_type": "code",
   "execution_count": 495,
   "metadata": {},
   "outputs": [
    {
     "name": "stdout",
     "output_type": "stream",
     "text": [
      "[0]\tvalidation_0-logloss:0.52216\tvalidation_1-logloss:0.56812\n",
      "[63]\tvalidation_0-logloss:0.06956\tvalidation_1-logloss:0.25411\n",
      "[CV] END ................................ score: (test=0.938) total time=   0.1s\n",
      "[0]\tvalidation_0-logloss:0.50174\tvalidation_1-logloss:0.52914\n"
     ]
    },
    {
     "name": "stderr",
     "output_type": "stream",
     "text": [
      "[Parallel(n_jobs=1)]: Using backend SequentialBackend with 1 concurrent workers.\n",
      "[Parallel(n_jobs=1)]: Done   1 out of   1 | elapsed:    0.1s remaining:    0.0s\n"
     ]
    },
    {
     "name": "stdout",
     "output_type": "stream",
     "text": [
      "[66]\tvalidation_0-logloss:0.05170\tvalidation_1-logloss:0.24053\n",
      "[CV] END ................................ score: (test=0.938) total time=   0.0s\n",
      "[0]\tvalidation_0-logloss:0.52433\tvalidation_1-logloss:0.58010\n",
      "[68]\tvalidation_0-logloss:0.03852\tvalidation_1-logloss:0.29481\n",
      "[CV] END ................................ score: (test=0.938) total time=   0.0s\n",
      "[0]\tvalidation_0-logloss:0.52708\tvalidation_1-logloss:0.55696\n"
     ]
    },
    {
     "name": "stderr",
     "output_type": "stream",
     "text": [
      "[Parallel(n_jobs=1)]: Done   2 out of   2 | elapsed:    0.2s remaining:    0.0s\n",
      "[Parallel(n_jobs=1)]: Done   3 out of   3 | elapsed:    0.3s remaining:    0.0s\n"
     ]
    },
    {
     "name": "stdout",
     "output_type": "stream",
     "text": [
      "[80]\tvalidation_0-logloss:0.04817\tvalidation_1-logloss:0.28571\n",
      "[CV] END ................................ score: (test=0.875) total time=   0.1s\n",
      "[0]\tvalidation_0-logloss:0.51098\tvalidation_1-logloss:0.56461\n",
      "[67]\tvalidation_0-logloss:0.03137\tvalidation_1-logloss:0.25127\n",
      "[CV] END ................................ score: (test=1.000) total time=   0.0s\n",
      "[0]\tvalidation_0-logloss:0.51830\tvalidation_1-logloss:0.56809\n"
     ]
    },
    {
     "name": "stderr",
     "output_type": "stream",
     "text": [
      "[Parallel(n_jobs=1)]: Done   4 out of   4 | elapsed:    0.5s remaining:    0.0s\n"
     ]
    },
    {
     "name": "stdout",
     "output_type": "stream",
     "text": [
      "[67]\tvalidation_0-logloss:0.09307\tvalidation_1-logloss:0.31601\n",
      "[CV] END ................................ score: (test=0.812) total time=   0.0s\n",
      "[0]\tvalidation_0-logloss:0.51828\tvalidation_1-logloss:0.54603\n",
      "[78]\tvalidation_0-logloss:0.04932\tvalidation_1-logloss:0.21578\n",
      "[CV] END ................................ score: (test=0.867) total time=   0.0s\n",
      "[0]\tvalidation_0-logloss:0.51691\tvalidation_1-logloss:0.56535\n",
      "[66]\tvalidation_0-logloss:0.03390\tvalidation_1-logloss:0.23691\n",
      "[CV] END ................................ score: (test=0.933) total time=   0.0s\n",
      "[0]\tvalidation_0-logloss:0.51324\tvalidation_1-logloss:0.57698\n",
      "[65]\tvalidation_0-logloss:0.10326\tvalidation_1-logloss:0.29438\n",
      "[CV] END ................................ score: (test=0.667) total time=   0.0s\n",
      "[0]\tvalidation_0-logloss:0.50973\tvalidation_1-logloss:0.54051\n",
      "[72]\tvalidation_0-logloss:0.09391\tvalidation_1-logloss:0.21116\n",
      "[CV] END ................................ score: (test=0.800) total time=   0.0s\n"
     ]
    },
    {
     "name": "stderr",
     "output_type": "stream",
     "text": [
      "[Parallel(n_jobs=1)]: Done  10 out of  10 | elapsed:    1.2s finished\n"
     ]
    }
   ],
   "source": [
    "score = cross_val_score(model,\n",
    "                X_train,\n",
    "                y_train,\n",
    "                cv=10,\n",
    "                verbose=5,\n",
    "                fit_params =dict(eval_set = [(X_train,y_train),(X_test,y_test)],verbose=100))"
   ]
  },
  {
   "cell_type": "code",
   "execution_count": 496,
   "metadata": {},
   "outputs": [
    {
     "data": {
      "text/plain": [
       "array([0.9375    , 0.9375    , 0.9375    , 0.875     , 1.        ,\n",
       "       0.8125    , 0.86666667, 0.93333333, 0.66666667, 0.8       ])"
      ]
     },
     "execution_count": 496,
     "metadata": {},
     "output_type": "execute_result"
    }
   ],
   "source": [
    "score"
   ]
  },
  {
   "cell_type": "code",
   "execution_count": 497,
   "metadata": {},
   "outputs": [
    {
     "data": {
      "text/plain": [
       "0.8766666666666667"
      ]
     },
     "execution_count": 497,
     "metadata": {},
     "output_type": "execute_result"
    }
   ],
   "source": [
    "score.mean()"
   ]
  },
  {
   "cell_type": "code",
   "execution_count": 498,
   "metadata": {},
   "outputs": [
    {
     "data": {
      "text/plain": [
       "<AxesSubplot:title={'center':'Feature importances'}>"
      ]
     },
     "execution_count": 498,
     "metadata": {},
     "output_type": "execute_result"
    },
    {
     "data": {
      "image/png": "[encoded data removed]",
      "text/plain": [
       "<Figure size 640x480 with 1 Axes>"
      ]
     },
     "metadata": {},
     "output_type": "display_data"
    }
   ],
   "source": [
    "(fi.sort_values(\"Feature Importances\")).plot(kind=\"barh\",title=\"Feature importances\")"
   ]
  },
  {
   "cell_type": "code",
   "execution_count": 499,
   "metadata": {},
   "outputs": [],
   "source": [
    "from sklearn.ensemble import AdaBoostClassifier"
   ]
  },
  {
   "cell_type": "code",
   "execution_count": 500,
   "metadata": {},
   "outputs": [
    {
     "data": {
      "text/plain": [
       "AdaBoostClassifier(base_estimator=DecisionTreeClassifier(criterion='entropy',\n",
       "                                                         max_depth=10,\n",
       "                                                         min_samples_leaf=5),\n",
       "                   n_estimators=1000, random_state=0)"
      ]
     },
     "execution_count": 500,
     "metadata": {},
     "output_type": "execute_result"
    }
   ],
   "source": [
    "model = DecisionTreeClassifier(criterion='entropy', max_depth= 10, min_samples_leaf = 5)\n",
    "adaBoost = AdaBoostClassifier(model,\n",
    "                              n_estimators=1000,\n",
    "                              random_state=0)\n",
    "adaBoost.fit(X_train,y_train)"
   ]
  },
  {
   "cell_type": "code",
   "execution_count": 501,
   "metadata": {},
   "outputs": [
    {
     "data": {
      "text/plain": [
       "1.0"
      ]
     },
     "execution_count": 501,
     "metadata": {},
     "output_type": "execute_result"
    }
   ],
   "source": [
    "adaBoost.score(X_train,y_train)"
   ]
  },
  {
   "cell_type": "code",
   "execution_count": 502,
   "metadata": {},
   "outputs": [
    {
     "data": {
      "text/plain": [
       "0.9487179487179487"
      ]
     },
     "execution_count": 502,
     "metadata": {},
     "output_type": "execute_result"
    }
   ],
   "source": [
    "adaBoost.score(X_test,y_test)"
   ]
  },
  {
   "attachments": {},
   "cell_type": "markdown",
   "metadata": {},
   "source": [
    "### Gradient Boosting Classifier"
   ]
  },
  {
   "cell_type": "code",
   "execution_count": 505,
   "metadata": {},
   "outputs": [],
   "source": [
    "from sklearn.ensemble import GradientBoostingClassifier"
   ]
  },
  {
   "cell_type": "code",
   "execution_count": 519,
   "metadata": {},
   "outputs": [],
   "source": [
    "gradient = GradientBoostingClassifier(n_estimators=500,\n",
    "                                      max_depth=100,\n",
    "                                      learning_rate=0.01,\n",
    "                                      random_state=42,\n",
    "                                      verbose=100)"
   ]
  },
  {
   "cell_type": "code",
   "execution_count": 520,
   "metadata": {},
   "outputs": [
    {
     "name": "stdout",
     "output_type": "stream",
     "text": [
      "      Iter       Train Loss   Remaining Time \n",
      "         1           1.0905            1.01s\n",
      "         2           1.0712            0.78s\n",
      "         3           1.0526            0.76s\n",
      "         4           1.0346            0.72s\n",
      "         5           1.0172            0.73s\n",
      "         6           1.0002            0.78s\n",
      "         7           0.9838            0.74s\n",
      "         8           0.9678            0.72s\n",
      "         9           0.9522            0.72s\n",
      "        10           0.9371            0.71s\n",
      "        11           0.9224            0.71s\n",
      "        12           0.9080            0.69s\n",
      "        13           0.8941            0.68s\n",
      "        14           0.8804            0.68s\n",
      "        15           0.8671            0.69s\n",
      "        16           0.8541            0.68s\n",
      "        17           0.8414            0.69s\n",
      "        18           0.8290            0.68s\n",
      "        19           0.8169            0.67s\n",
      "        20           0.8051            0.67s\n",
      "        21           0.7935            0.66s\n",
      "        22           0.7822            0.65s\n",
      "        23           0.7711            0.65s\n",
      "        24           0.7602            0.65s\n",
      "        25           0.7496            0.65s\n",
      "        26           0.7391            0.64s\n",
      "        27           0.7289            0.65s\n",
      "        28           0.7189            0.66s\n",
      "        29           0.7091            0.65s\n",
      "        30           0.6994            0.66s\n",
      "        31           0.6900            0.67s\n",
      "        32           0.6807            0.66s\n",
      "        33           0.6716            0.65s\n",
      "        34           0.6627            0.65s\n",
      "        35           0.6539            0.66s\n",
      "        36           0.6453            0.64s\n",
      "        37           0.6368            0.64s\n",
      "        38           0.6285            0.64s\n",
      "        39           0.6204            0.64s\n",
      "        40           0.6123            0.62s\n",
      "        41           0.6045            0.64s\n",
      "        42           0.5967            0.64s\n",
      "        43           0.5891            0.64s\n",
      "        44           0.5816            0.63s\n",
      "        45           0.5742            0.63s\n",
      "        46           0.5670            0.63s\n",
      "        47           0.5598            0.62s\n",
      "        48           0.5528            0.62s\n",
      "        49           0.5459            0.61s\n",
      "        50           0.5391            0.61s\n",
      "        51           0.5324            0.60s\n",
      "        52           0.5259            0.60s\n",
      "        53           0.5194            0.60s\n",
      "        54           0.5130            0.58s\n",
      "        55           0.5067            0.60s\n",
      "        56           0.5005            0.60s\n",
      "        57           0.4945            0.60s\n",
      "        58           0.4885            0.59s\n",
      "        59           0.4825            0.59s\n",
      "        60           0.4767            0.59s\n",
      "        61           0.4710            0.58s\n",
      "        62           0.4653            0.58s\n",
      "        63           0.4598            0.58s\n",
      "        64           0.4543            0.57s\n",
      "        65           0.4489            0.57s\n",
      "        66           0.4435            0.57s\n",
      "        67           0.4383            0.57s\n",
      "        68           0.4331            0.57s\n",
      "        69           0.4280            0.57s\n",
      "        70           0.4230            0.58s\n",
      "        71           0.4180            0.57s\n",
      "        72           0.4131            0.57s\n",
      "        73           0.4083            0.57s\n",
      "        74           0.4035            0.57s\n",
      "        75           0.3988            0.56s\n",
      "        76           0.3942            0.56s\n",
      "        77           0.3896            0.56s\n",
      "        78           0.3851            0.55s\n",
      "        79           0.3807            0.55s\n",
      "        80           0.3763            0.55s\n",
      "        81           0.3720            0.54s\n",
      "        82           0.3677            0.55s\n",
      "        83           0.3635            0.56s\n",
      "        84           0.3593            0.55s\n",
      "        85           0.3552            0.55s\n",
      "        86           0.3512            0.55s\n",
      "        87           0.3472            0.55s\n",
      "        88           0.3433            0.54s\n",
      "        89           0.3394            0.54s\n",
      "        90           0.3355            0.54s\n",
      "        91           0.3317            0.54s\n",
      "        92           0.3280            0.54s\n",
      "        93           0.3243            0.54s\n",
      "        94           0.3207            0.54s\n",
      "        95           0.3171            0.54s\n",
      "        96           0.3135            0.53s\n",
      "        97           0.3100            0.53s\n",
      "        98           0.3065            0.53s\n",
      "        99           0.3031            0.53s\n",
      "       100           0.2997            0.52s\n",
      "       101           0.2964            0.52s\n",
      "       102           0.2931            0.51s\n",
      "       103           0.2899            0.51s\n",
      "       104           0.2866            0.50s\n",
      "       105           0.2835            0.49s\n",
      "       106           0.2803            0.49s\n",
      "       107           0.2772            0.51s\n",
      "       108           0.2742            0.51s\n",
      "       109           0.2712            0.51s\n",
      "       110           0.2682            0.51s\n",
      "       111           0.2652            0.51s\n",
      "       112           0.2623            0.51s\n",
      "       113           0.2595            0.51s\n",
      "       114           0.2566            0.50s\n",
      "       115           0.2538            0.50s\n",
      "       116           0.2510            0.50s\n",
      "       117           0.2483            0.50s\n",
      "       118           0.2456            0.50s\n",
      "       119           0.2429            0.50s\n",
      "       120           0.2403            0.49s\n",
      "       121           0.2377            0.49s\n",
      "       122           0.2351            0.49s\n",
      "       123           0.2325            0.49s\n",
      "       124           0.2300            0.49s\n",
      "       125           0.2275            0.49s\n",
      "       126           0.2251            0.48s\n",
      "       127           0.2226            0.48s\n",
      "       128           0.2202            0.48s\n",
      "       129           0.2179            0.48s\n",
      "       130           0.2155            0.48s\n",
      "       131           0.2132            0.48s\n",
      "       132           0.2109            0.47s\n",
      "       133           0.2086            0.47s\n",
      "       134           0.2064            0.47s\n",
      "       135           0.2042            0.47s\n",
      "       136           0.2020            0.47s\n",
      "       137           0.1998            0.47s\n",
      "       138           0.1977            0.46s\n",
      "       139           0.1956            0.46s\n",
      "       140           0.1935            0.46s\n",
      "       141           0.1914            0.46s\n",
      "       142           0.1894            0.46s\n",
      "       143           0.1874            0.46s\n",
      "       144           0.1854            0.46s\n",
      "       145           0.1834            0.45s\n",
      "       146           0.1815            0.45s\n",
      "       147           0.1795            0.45s\n",
      "       148           0.1776            0.45s\n",
      "       149           0.1758            0.45s\n",
      "       150           0.1739            0.45s\n",
      "       151           0.1721            0.45s\n",
      "       152           0.1702            0.45s\n",
      "       153           0.1684            0.45s\n",
      "       154           0.1667            0.44s\n",
      "       155           0.1649            0.44s\n",
      "       156           0.1632            0.44s\n",
      "       157           0.1614            0.44s\n",
      "       158           0.1597            0.44s\n",
      "       159           0.1581            0.44s\n",
      "       160           0.1564            0.44s\n",
      "       161           0.1547            0.44s\n",
      "       162           0.1531            0.44s\n",
      "       163           0.1515            0.43s\n",
      "       164           0.1499            0.43s\n",
      "       165           0.1483            0.43s\n",
      "       166           0.1468            0.43s\n",
      "       167           0.1453            0.43s\n",
      "       168           0.1437            0.43s\n",
      "       169           0.1422            0.42s\n",
      "       170           0.1407            0.42s\n",
      "       171           0.1393            0.42s\n",
      "       172           0.1378            0.42s\n",
      "       173           0.1364            0.42s\n",
      "       174           0.1349            0.42s\n",
      "       175           0.1335            0.42s\n",
      "       176           0.1321            0.42s\n",
      "       177           0.1308            0.41s\n",
      "       178           0.1294            0.41s\n",
      "       179           0.1281            0.41s\n",
      "       180           0.1267            0.41s\n",
      "       181           0.1254            0.41s\n",
      "       182           0.1241            0.41s\n",
      "       183           0.1228            0.41s\n",
      "       184           0.1215            0.41s\n",
      "       185           0.1203            0.41s\n",
      "       186           0.1190            0.40s\n",
      "       187           0.1178            0.40s\n",
      "       188           0.1166            0.40s\n",
      "       189           0.1154            0.40s\n",
      "       190           0.1142            0.40s\n",
      "       191           0.1130            0.40s\n",
      "       192           0.1118            0.40s\n",
      "       193           0.1107            0.40s\n",
      "       194           0.1095            0.40s\n",
      "       195           0.1084            0.40s\n",
      "       196           0.1073            0.39s\n",
      "       197           0.1062            0.39s\n",
      "       198           0.1051            0.39s\n",
      "       199           0.1040            0.39s\n",
      "       200           0.1029            0.39s\n",
      "       201           0.1018            0.39s\n",
      "       202           0.1008            0.39s\n",
      "       203           0.0997            0.38s\n",
      "       204           0.0987            0.38s\n",
      "       205           0.0977            0.38s\n",
      "       206           0.0967            0.38s\n",
      "       207           0.0957            0.38s\n",
      "       208           0.0947            0.38s\n",
      "       209           0.0937            0.37s\n",
      "       210           0.0928            0.37s\n",
      "       211           0.0918            0.37s\n",
      "       212           0.0909            0.37s\n",
      "       213           0.0900            0.37s\n",
      "       214           0.0890            0.37s\n",
      "       215           0.0881            0.37s\n",
      "       216           0.0872            0.37s\n",
      "       217           0.0863            0.36s\n",
      "       218           0.0854            0.36s\n",
      "       219           0.0846            0.36s\n",
      "       220           0.0837            0.36s\n",
      "       221           0.0828            0.36s\n",
      "       222           0.0820            0.36s\n",
      "       223           0.0811            0.36s\n",
      "       224           0.0803            0.35s\n",
      "       225           0.0795            0.35s\n",
      "       226           0.0787            0.35s\n",
      "       227           0.0779            0.35s\n",
      "       228           0.0771            0.35s\n",
      "       229           0.0763            0.35s\n",
      "       230           0.0755            0.35s\n",
      "       231           0.0747            0.34s\n",
      "       232           0.0740            0.34s\n",
      "       233           0.0732            0.34s\n",
      "       234           0.0725            0.34s\n",
      "       235           0.0717            0.34s\n",
      "       236           0.0710            0.34s\n",
      "       237           0.0703            0.33s\n",
      "       238           0.0696            0.33s\n",
      "       239           0.0689            0.33s\n",
      "       240           0.0682            0.33s\n",
      "       241           0.0675            0.33s\n",
      "       242           0.0668            0.33s\n",
      "       243           0.0661            0.33s\n",
      "       244           0.0654            0.33s\n",
      "       245           0.0648            0.32s\n",
      "       246           0.0641            0.32s\n",
      "       247           0.0634            0.32s\n",
      "       248           0.0628            0.32s\n",
      "       249           0.0622            0.32s\n",
      "       250           0.0615            0.32s\n",
      "       251           0.0609            0.32s\n",
      "       252           0.0603            0.31s\n",
      "       253           0.0597            0.31s\n",
      "       254           0.0591            0.31s\n",
      "       255           0.0585            0.31s\n",
      "       256           0.0579            0.31s\n",
      "       257           0.0573            0.31s\n",
      "       258           0.0567            0.31s\n",
      "       259           0.0561            0.31s\n",
      "       260           0.0556            0.30s\n",
      "       261           0.0550            0.30s\n",
      "       262           0.0544            0.30s\n",
      "       263           0.0539            0.30s\n",
      "       264           0.0533            0.30s\n",
      "       265           0.0528            0.30s\n",
      "       266           0.0523            0.30s\n",
      "       267           0.0517            0.29s\n",
      "       268           0.0512            0.29s\n",
      "       269           0.0507            0.29s\n",
      "       270           0.0502            0.29s\n",
      "       271           0.0497            0.29s\n",
      "       272           0.0492            0.29s\n",
      "       273           0.0487            0.29s\n",
      "       274           0.0482            0.29s\n",
      "       275           0.0477            0.28s\n",
      "       276           0.0472            0.28s\n",
      "       277           0.0467            0.28s\n",
      "       278           0.0463            0.28s\n",
      "       279           0.0458            0.28s\n",
      "       280           0.0453            0.28s\n",
      "       281           0.0449            0.28s\n",
      "       282           0.0444            0.27s\n",
      "       283           0.0440            0.27s\n",
      "       284           0.0435            0.27s\n",
      "       285           0.0431            0.27s\n",
      "       286           0.0426            0.27s\n",
      "       287           0.0422            0.27s\n",
      "       288           0.0418            0.27s\n",
      "       289           0.0414            0.27s\n",
      "       290           0.0410            0.27s\n",
      "       291           0.0405            0.26s\n",
      "       292           0.0401            0.26s\n",
      "       293           0.0397            0.26s\n",
      "       294           0.0393            0.26s\n",
      "       295           0.0389            0.26s\n",
      "       296           0.0385            0.26s\n",
      "       297           0.0381            0.26s\n",
      "       298           0.0378            0.25s\n",
      "       299           0.0374            0.25s\n",
      "       300           0.0370            0.25s\n",
      "       301           0.0366            0.25s\n",
      "       302           0.0363            0.25s\n",
      "       303           0.0359            0.25s\n",
      "       304           0.0355            0.25s\n",
      "       305           0.0352            0.25s\n",
      "       306           0.0348            0.24s\n",
      "       307           0.0345            0.24s\n",
      "       308           0.0341            0.24s\n",
      "       309           0.0338            0.24s\n",
      "       310           0.0334            0.24s\n",
      "       311           0.0331            0.24s\n",
      "       312           0.0328            0.24s\n",
      "       313           0.0324            0.23s\n",
      "       314           0.0321            0.23s\n",
      "       315           0.0318            0.23s\n",
      "       316           0.0315            0.23s\n",
      "       317           0.0312            0.23s\n",
      "       318           0.0308            0.23s\n",
      "       319           0.0305            0.23s\n",
      "       320           0.0302            0.23s\n",
      "       321           0.0299            0.22s\n",
      "       322           0.0296            0.22s\n",
      "       323           0.0293            0.22s\n",
      "       324           0.0290            0.22s\n",
      "       325           0.0287            0.22s\n",
      "       326           0.0284            0.22s\n",
      "       327           0.0282            0.22s\n",
      "       328           0.0279            0.22s\n",
      "       329           0.0276            0.21s\n",
      "       330           0.0273            0.21s\n",
      "       331           0.0270            0.21s\n",
      "       332           0.0268            0.21s\n",
      "       333           0.0265            0.21s\n",
      "       334           0.0262            0.21s\n",
      "       335           0.0260            0.21s\n",
      "       336           0.0257            0.21s\n",
      "       337           0.0255            0.20s\n",
      "       338           0.0252            0.20s\n",
      "       339           0.0250            0.20s\n",
      "       340           0.0247            0.20s\n",
      "       341           0.0245            0.20s\n",
      "       342           0.0242            0.20s\n",
      "       343           0.0240            0.20s\n",
      "       344           0.0237            0.20s\n",
      "       345           0.0235            0.19s\n",
      "       346           0.0233            0.19s\n",
      "       347           0.0230            0.19s\n",
      "       348           0.0228            0.19s\n",
      "       349           0.0226            0.19s\n",
      "       350           0.0223            0.19s\n",
      "       351           0.0221            0.19s\n",
      "       352           0.0219            0.19s\n",
      "       353           0.0217            0.18s\n",
      "       354           0.0214            0.18s\n",
      "       355           0.0212            0.18s\n",
      "       356           0.0210            0.18s\n",
      "       357           0.0208            0.18s\n",
      "       358           0.0206            0.18s\n",
      "       359           0.0204            0.18s\n",
      "       360           0.0202            0.18s\n",
      "       361           0.0200            0.17s\n",
      "       362           0.0198            0.17s\n",
      "       363           0.0196            0.17s\n",
      "       364           0.0194            0.17s\n",
      "       365           0.0192            0.17s\n",
      "       366           0.0190            0.17s\n",
      "       367           0.0188            0.17s\n",
      "       368           0.0186            0.17s\n",
      "       369           0.0184            0.16s\n",
      "       370           0.0183            0.16s\n",
      "       371           0.0181            0.16s\n",
      "       372           0.0179            0.16s\n",
      "       373           0.0177            0.16s\n",
      "       374           0.0175            0.16s\n",
      "       375           0.0174            0.16s\n",
      "       376           0.0172            0.16s\n",
      "       377           0.0170            0.15s\n",
      "       378           0.0168            0.15s\n",
      "       379           0.0167            0.15s\n",
      "       380           0.0165            0.15s\n",
      "       381           0.0163            0.15s\n",
      "       382           0.0162            0.15s\n",
      "       383           0.0160            0.15s\n",
      "       384           0.0159            0.15s\n",
      "       385           0.0157            0.14s\n",
      "       386           0.0155            0.14s\n",
      "       387           0.0154            0.14s\n",
      "       388           0.0152            0.14s\n",
      "       389           0.0151            0.14s\n",
      "       390           0.0149            0.14s\n",
      "       391           0.0148            0.14s\n",
      "       392           0.0146            0.14s\n",
      "       393           0.0145            0.13s\n",
      "       394           0.0143            0.13s\n",
      "       395           0.0142            0.13s\n",
      "       396           0.0141            0.13s\n",
      "       397           0.0139            0.13s\n",
      "       398           0.0138            0.13s\n",
      "       399           0.0136            0.13s\n",
      "       400           0.0135            0.13s\n",
      "       401           0.0134            0.12s\n",
      "       402           0.0132            0.12s\n",
      "       403           0.0131            0.12s\n",
      "       404           0.0130            0.12s\n",
      "       405           0.0128            0.12s\n",
      "       406           0.0127            0.12s\n",
      "       407           0.0126            0.12s\n",
      "       408           0.0125            0.12s\n",
      "       409           0.0123            0.11s\n",
      "       410           0.0122            0.11s\n",
      "       411           0.0121            0.11s\n",
      "       412           0.0120            0.11s\n",
      "       413           0.0119            0.11s\n",
      "       414           0.0117            0.11s\n",
      "       415           0.0116            0.11s\n",
      "       416           0.0115            0.10s\n",
      "       417           0.0114            0.10s\n",
      "       418           0.0113            0.10s\n",
      "       419           0.0112            0.10s\n",
      "       420           0.0110            0.10s\n",
      "       421           0.0109            0.10s\n",
      "       422           0.0108            0.10s\n",
      "       423           0.0107            0.10s\n",
      "       424           0.0106            0.10s\n",
      "       425           0.0105            0.09s\n",
      "       426           0.0104            0.09s\n",
      "       427           0.0103            0.09s\n",
      "       428           0.0102            0.09s\n",
      "       429           0.0101            0.09s\n",
      "       430           0.0100            0.09s\n",
      "       431           0.0099            0.09s\n",
      "       432           0.0098            0.08s\n",
      "       433           0.0097            0.08s\n",
      "       434           0.0096            0.08s\n",
      "       435           0.0095            0.08s\n",
      "       436           0.0094            0.08s\n",
      "       437           0.0093            0.08s\n",
      "       438           0.0092            0.08s\n",
      "       439           0.0091            0.08s\n",
      "       440           0.0090            0.08s\n",
      "       441           0.0089            0.07s\n",
      "       442           0.0089            0.07s\n",
      "       443           0.0088            0.07s\n",
      "       444           0.0087            0.07s\n",
      "       445           0.0086            0.07s\n",
      "       446           0.0085            0.07s\n",
      "       447           0.0084            0.07s\n",
      "       448           0.0083            0.06s\n",
      "       449           0.0083            0.06s\n",
      "       450           0.0082            0.06s\n",
      "       451           0.0081            0.06s\n",
      "       452           0.0080            0.06s\n",
      "       453           0.0079            0.06s\n",
      "       454           0.0079            0.06s\n",
      "       455           0.0078            0.06s\n",
      "       456           0.0077            0.05s\n",
      "       457           0.0076            0.05s\n",
      "       458           0.0075            0.05s\n",
      "       459           0.0075            0.05s\n",
      "       460           0.0074            0.05s\n",
      "       461           0.0073            0.05s\n",
      "       462           0.0072            0.05s\n",
      "       463           0.0072            0.05s\n",
      "       464           0.0071            0.04s\n",
      "       465           0.0070            0.04s\n",
      "       466           0.0070            0.04s\n",
      "       467           0.0069            0.04s\n",
      "       468           0.0068            0.04s\n",
      "       469           0.0068            0.04s\n",
      "       470           0.0067            0.04s\n",
      "       471           0.0066            0.04s\n",
      "       472           0.0066            0.03s\n",
      "       473           0.0065            0.03s\n",
      "       474           0.0064            0.03s\n",
      "       475           0.0064            0.03s\n",
      "       476           0.0063            0.03s\n",
      "       477           0.0062            0.03s\n",
      "       478           0.0062            0.03s\n",
      "       479           0.0061            0.03s\n",
      "       480           0.0061            0.02s\n",
      "       481           0.0060            0.02s\n",
      "       482           0.0059            0.02s\n",
      "       483           0.0059            0.02s\n",
      "       484           0.0058            0.02s\n",
      "       485           0.0058            0.02s\n",
      "       486           0.0057            0.02s\n",
      "       487           0.0056            0.02s\n",
      "       488           0.0056            0.01s\n",
      "       489           0.0055            0.01s\n",
      "       490           0.0055            0.01s\n",
      "       491           0.0054            0.01s\n",
      "       492           0.0054            0.01s\n",
      "       493           0.0053            0.01s\n",
      "       494           0.0053            0.01s\n",
      "       495           0.0052            0.01s\n",
      "       496           0.0052            0.00s\n",
      "       497           0.0051            0.00s\n",
      "       498           0.0051            0.00s\n",
      "       499           0.0050            0.00s\n",
      "       500           0.0050            0.00s\n"
     ]
    },
    {
     "data": {
      "text/plain": [
       "GradientBoostingClassifier(learning_rate=0.01, max_depth=100, n_estimators=500,\n",
       "                           random_state=42, verbose=100)"
      ]
     },
     "execution_count": 520,
     "metadata": {},
     "output_type": "execute_result"
    }
   ],
   "source": [
    "gradient.fit(X_train,y_train)"
   ]
  },
  {
   "cell_type": "code",
   "execution_count": 518,
   "metadata": {},
   "outputs": [
    {
     "data": {
      "text/plain": [
       "1.0"
      ]
     },
     "execution_count": 518,
     "metadata": {},
     "output_type": "execute_result"
    }
   ],
   "source": [
    "gradient.score(X_train,y_train)"
   ]
  },
  {
   "cell_type": "code",
   "execution_count": 513,
   "metadata": {},
   "outputs": [
    {
     "data": {
      "text/plain": [
       "0.8205128205128205"
      ]
     },
     "execution_count": 513,
     "metadata": {},
     "output_type": "execute_result"
    }
   ],
   "source": [
    "gradient.score(X_test,y_test)"
   ]
  },
  {
   "cell_type": "code",
   "execution_count": null,
   "metadata": {},
   "outputs": [],
   "source": []
  }
 ],
 "metadata": {
  "kernelspec": {
   "display_name": "Python 3 (ipykernel)",
   "language": "python",
   "name": "python3"
  },
  "language_info": {
   "codemirror_mode": {
    "name": "ipython",
    "version": 3
   },
   "file_extension": ".py",
   "mimetype": "text/x-python",
   "name": "python",
   "nbconvert_exporter": "python",
   "pygments_lexer": "ipython3",
   "version": "3.9.13"
  },
  "vscode": {
   "interpreter": {
    "hash": "0a6eecd4a72b800649ae0242174e3a0c0f47e8facc229ac3c7493c45bd6867dd"
   }
  }
 },
 "nbformat": 4,
 "nbformat_minor": 2
}
